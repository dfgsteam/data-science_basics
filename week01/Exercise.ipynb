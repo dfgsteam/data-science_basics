{
 "cells": [
  {
   "attachments": {},
   "cell_type": "markdown",
   "metadata": {},
   "source": [
    "## Hausaufgabe 1 \n",
    "\n",
    "#### **Abgabe** <br>15.04. 12:00 Uhr (via studIP) \n",
    "#### **Verteidigung** <br> 18.04. 08:00-10:00 Uhr \n",
    "\n",
    "Mit jedem Blatt können **maximal** 5 Prozentpunkte Bonus für die Klausur erreicht werden, falls:\n",
    "1) mind. 60% des Arbeitsblattes korrekt bearbeitet wurden \n",
    "2) das Arbeitsblatt erfolgreich verteidigt (den Tutoren erklärt) wurde.\n",
    "\n",
    "*Rahmenbedingungen*:\n",
    "- Jede Gruppe muss sich bei studIP für einen Slot zur Verteidigung registrieren.\n",
    "- Erfolgreiche Verteidigung bedeutet, dass ein von uns ausgewähltes Team-Mitglied die Lösung erklärt und Fragen dazu beantwortet.\n",
    "- ChatGPT und andere Hilfsmittel dürfen verwendet werden, müssen aber zitiert werden.\n",
    "- Der Code muss ohne Hilfsmittel erläutert werden.\n",
    "- Wir bewerten nicht nur die Korrektheit der Ergebnisse, sondern auch ob der Code effizient, einfach zu verstehen, aufgeräumt und gut dokumentiert ist.\n",
    "- Jede Gruppe gibt nur eine Lösung als Zip-Datei ab, die mit dem Namen und der Matrikelnummer eines Mitglieds versehen ist. Also z.B. `mustermann_12345678.zip` "
   ]
  },
  {
   "cell_type": "markdown",
   "metadata": {},
   "source": [
    "In diesem Notebook werden wir Schritt für Schritt eine Approximation der Sinusfunktion implementieren.  \n",
    "Dazu nutzen wir die Eigenschaft, dass `sin(x)` durch eine Summe dargestellt werden kann: \n",
    "\n",
    "$$\n",
    "sin(x) = \\sum_0^\\infty (-1)^n \\frac{x^{2n+1}}{(2n+1)!}\n",
    "$$\n",
    "\n",
    "Siehe [Wikipedia](https://de.wikipedia.org/wiki/Sinus_und_Kosinus)\n",
    "\n",
    "Hinweis: Benutze die Hilfe-Funktion (z.B. `? sin`)"
   ]
  },
  {
   "attachments": {},
   "cell_type": "markdown",
   "metadata": {},
   "source": [
    "1) Schreibe eine Funktion, um die Fakultät einer gegebenen Zahl zu berechen. **(20%)**"
   ]
  },
  {
   "cell_type": "markdown",
   "metadata": {},
   "source": [
    "2) Schreibe eine Funktion, welche die oben beschriebene Summe bis zu einem Limit (gegeben als Parameter der Funktion) berechnet.  **(15%)**"
   ]
  },
  {
   "cell_type": "markdown",
   "metadata": {},
   "source": [
    "3) Importiere die `sin` Funktion aus dem `math` Modul von Python. Teste sie aus.  **(5%)**"
   ]
  },
  {
   "cell_type": "markdown",
   "metadata": {},
   "source": [
    "4) Vergleiche das Ergebnis mit deiner Funktion. Wie verändert sich die Genauigkeit, wenn du das Limit erhöhst?  **(10%)**\n"
   ]
  },
  {
   "cell_type": "markdown",
   "metadata": {},
   "source": [
    "5) Generiere eine Liste `x` mit `float` Zahlen im Bereich von 0 bis 10, die in Schritten von `0.01` auseinander liegen.  **(15%)**"
   ]
  },
  {
   "cell_type": "markdown",
   "metadata": {},
   "source": [
    "6) Führe die Funktion, die du geschrieben hast, für jedes `x` aus und speichere die Werte in einer neuen Liste `y`. **(5%)**"
   ]
  },
  {
   "cell_type": "markdown",
   "metadata": {},
   "source": [
    "7) Plotte die Ergebnisse, indem du die Funktion `plot` von `matplotlib.pyplot` benutzt.  **(10%)**"
   ]
  },
  {
   "cell_type": "markdown",
   "metadata": {},
   "source": [
    "8) Plotte die Ergebnisse für verschiedene Limits. Wie unterscheiden sich die Ergebnisse? Plotte zusätzlich die `sin` Funktion aus dem `math` Modul für denselben x-Achsenabschnitt, um die Ergebnisse zu vergleichen. **(10%)**"
   ]
  },
  {
   "attachments": {},
   "cell_type": "markdown",
   "metadata": {},
   "source": [
    "9) Ihr könnt zwei Ausgaben im gleichen Plot betrachten, wenn ihr die `plot` Funktion in der gleichen Zelle ausführt. Vergleicht eure Sinusfunktion für zwei verschiedene Limits. Damit ihr sie besser vergleichen könnt, plottet die erste Funktion nur im Bereich von $x \\in [0,5)$ und die zweite im Bereich $x \\in [5,10)$. **(10%)**"
   ]
  }
 ],
 "metadata": {
  "kernelspec": {
   "display_name": "Python 3",
   "language": "python",
   "name": "python3"
  },
  "language_info": {
   "codemirror_mode": {
    "name": "ipython",
    "version": 3
   },
   "file_extension": ".py",
   "mimetype": "text/x-python",
   "name": "python",
   "nbconvert_exporter": "python",
   "pygments_lexer": "ipython3",
   "version": "3.9.6"
  },
  "vscode": {
   "interpreter": {
    "hash": "31f2aee4e71d21fbe5cf8b01ff0e069b9275f58929596ceb00d14d90e3e16cd6"
   }
  }
 },
 "nbformat": 4,
 "nbformat_minor": 5
}
