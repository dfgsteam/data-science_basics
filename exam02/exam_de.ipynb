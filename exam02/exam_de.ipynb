{
 "cells": [
  {
   "cell_type": "markdown",
   "metadata": {},
   "source": [
    "# Data Science I\n",
    "### Klausur II im Sommersemester 2024"
   ]
  },
  {
   "cell_type": "markdown",
   "metadata": {},
   "source": [
    "## Allgemeine Informationen\n",
    "\n",
    "* Sie haben eine Woche Zeit, um die Klausur zu bearbeiten.\n",
    "\n",
    "* Sie können alle Quellen verwenden, müssen sie jedoch korrekt benennen. Wenn Sie ChatGPT oder eine ähnliche Software verwenden, müssen Sie dies kenntlich machen und den verwendeten Prompt angeben.\n",
    "\n",
    "* Sie dürfen in keiner Form Hilfe von Dritten in Anspruch nehmen.\n",
    "\n",
    "* Sie dürfen Ihren Code nicht mit Dritten teilen (bspw. über ein öffentliches GitHub-Repository)\n",
    "\n",
    "* Sie sollten die folgenden Pakete verwenden: `numpy, pandas, geopandas, scipy, statsmodels, scikit-learn/sklearn, matplotlib, seaborn` und Pythons Standardlibraries. Diese sind ausreichend, um die Klausur zu lösen. Falls Sie andere Pakete verwenden, rechtfertigen Sie deren Verwendung.\n",
    "\n",
    "* Falls nicht anders angegeben, nutzen Sie ausschließlich Python Code innerhalb dieses Notebooks zur Lösung der Aufgaben.\n",
    "\n",
    "* Der Code muss ausreichend kommentiert und verständlich sein. Schreiben Sie Funktionen beim Wiederverwenden von Code. Befolgen Sie im Allgemeinen die Richtlinien aus der Vorlesung. Punkte können aufgrund eines schlecht strukturierten oder unverständlichen Codes abgezogen werden.\n",
    "\n",
    "* **Begründen Sie immer Entscheidungen** zur Auswahl von Plots, Hypothesentest usw. und **interpretieren Sie** Ihre Ergebnisse.\n",
    "\n",
    "* Bitte laden Sie Ihr Notebook mit Zellenausgabe sowie alle weiteren Dateien als `.zip`-Verzeichnis mit dem Dateinamen `nachname_matrikelnummer.zip` bis 14. Oktober 2024, 12:00 Uhr mittags auf StudIP in den Ordner `Submission - Exam 2` hoch.\n",
    "\n",
    "* Fügen Sie dem `.zip`-Verzeichnis auch die unterschriebene Eigenständigkeitserklärung hinzu.\n",
    "\n",
    "* Wenn Sie Fragen haben, kontaktieren Sie uns bitte rechtzeitig über Rocketchat.\n",
    "\n",
    "* Nutzen Sie Rocketchat während der Bearbeitungszeit bitte **ausschließlich für Ihre Fragen**."
   ]
  },
  {
   "cell_type": "code",
   "execution_count": 4,
   "metadata": {},
   "outputs": [],
   "source": [
    "# IMPORT LIBRARIES\n",
    "import numpy as np\n",
    "import pandas as pd\n",
    "import geopandas as gpd\n",
    "import scipy.stats as stats\n",
    "import statsmodels.api as sm\n",
    "import sklearn\n",
    "from sklearn.model_selection import train_test_split\n",
    "import matplotlib.pyplot as plt\n",
    "import seaborn as sns\n",
    "\n",
    "# Set seaborn as the default for visualizations\n",
    "sns.set_theme()"
   ]
  },
  {
   "cell_type": "markdown",
   "metadata": {},
   "source": [
    "## Aufgaben und Punkte:"
   ]
  },
  {
   "cell_type": "markdown",
   "metadata": {},
   "source": [
    "<table>\n",
    "  <thead>\n",
    "    <tr>\n",
    "      <th colspan=\"2\">Aufgabe 1 - Data Preprocessing</th>\n",
    "      <th colspan=\"3\">Aufgabe 2 - Plotting</th>\n",
    "      <th colspan=\"2\">Aufgabe 3 - Statistics</th>\n",
    "      <th colspan=\"2\">Aufgabe 4 - Machine Learning </th>\n",
    "    </tr>\n",
    "    <tr>\n",
    "      <th>Aufgabe 1.1</th>\n",
    "      <th>Aufgabe 1.2</th>\n",
    "      <th>Aufgabe 2.1</th>\n",
    "      <th>Aufgabe 2.2</th>\n",
    "      <th>Aufgabe 2.3</th>\n",
    "      <th>Aufgabe 3.1</th>\n",
    "      <th>Aufgabe 3.2</th>\n",
    "      <th>Aufgabe 4.1</th>\n",
    "      <th>Aufgabe 4.2</th>\n",
    "    </tr>\n",
    "  </thead>\n",
    "  <tbody>\n",
    "    <tr>\n",
    "      <td>6 Punkte </td>\n",
    "      <td>4 Punkte </td>\n",
    "      <td>13 Punkte </td>\n",
    "      <td>10 Punkte</td>\n",
    "      <td>9 Punkte </td>\n",
    "      <td>11 Punkte </td>\n",
    "      <td>5 Punkte </td>\n",
    "      <td>21 Punkte </td>\n",
    "      <td>21 Punkte </td>\n",
    "    </tr>\n",
    "    <!-- Add more rows as needed -->\n",
    "  </tbody>\n",
    "</table>\n"
   ]
  },
  {
   "cell_type": "code",
   "execution_count": null,
   "metadata": {},
   "outputs": [],
   "source": []
  },
  {
   "cell_type": "markdown",
   "metadata": {},
   "source": [
    "_____\n",
    "## Aufgabe 0: Setup"
   ]
  },
  {
   "cell_type": "markdown",
   "metadata": {},
   "source": [
    "Der Klausurordner enthält ein `Dockerfile`, in dem alle relevanten Pakete definiert sind. Das `Dockerfile` baut auf dem Jupyter Server Image auf. Verwenden Sie dieses Dockerfile, um zuerst ein Docker Image zu erstellen und dann einen Docker Container von diesem Image zu starten. Benutzen Sie anschließend die Jupyter Server Instanz, um an der Klausur zu arbeiten. Wir empfehlen dringend, die Docker-Umgebung zu verwenden, um Versionskonflikte zwischen den verschiedenen Paketen zu vermeiden. Code, der in dieser Umgebung nicht ausführbar ist, wird als **nicht funktional** bewertet."
   ]
  },
  {
   "cell_type": "markdown",
   "metadata": {},
   "source": [
    "____\n",
    "## Aufgabe 1: Data Preprocessing (10 Punkte)"
   ]
  },
  {
   "cell_type": "markdown",
   "metadata": {},
   "source": [
    "### Datenbeschreibung\n",
    "\n",
    "In dieser Klausur analysieren wir den Datensatz [What A Waste](https://datacatalog.worldbank.org/search/dataset/0039597/What-a-Waste-Global-Database) aus der Datenbank der World Bank. \n",
    "Die für uns relevanten Spalten sind u.a.:\n",
    "- `total_msw_total_msw_generated_tons_year`: Gesamte Tonnen an festen Kommunalabfällen (ff. Abfall)\n",
    "- `composition_*`: Anteil der jeweiligen Abfallkategorie an `total_msw_total_msw_generated_tons_year`\n",
    "- `waste_treatment_*`: Weiterverarbeitungsweise des Abfalls\n",
    "- `waste_collection_*`: Geografische Abdeckung der Abfallabfuhr\n",
    "- `gpd`: Gross Domestic Product (GDP)/ Bruttoinlandsprodukt (BIP) pro Kopf\n",
    "- `population_population_number_of_people`: Gesamtbevölkerung"
   ]
  },
  {
   "cell_type": "markdown",
   "metadata": {},
   "source": [
    "#### Aufgabe 1.1 - Laden der Daten (6 Punkte)\n",
    "Laden Sie den Datensatz `country_level_data.csv`. Führen Sie anschließend die folgenden Schritte aus:\n",
    "- Entfernen Sie alle Zeilen mit `nan`-Werten in der Spalte `total_msw_total_msw_generated_tons_year`.\n",
    "- Fügen Sie dem Dataframe eine neue Spalte `gdp_total` hinzu, die das gesamte GDP für jedes Land angibt.\n",
    "- Fügen Sie dem Dataframe zwei neue Spalten `relative_waste_pop` und` relative_waste_gdp` hinzu, die die Gesamtabfallmenge relativ zur Gesamtbevölkerung bzw. zum GDP des Landes angibt.\n",
    "\n",
    "Laden Sie außerdem das Shapefile `data/world-administrative-boundaries/world-administrative-boundaries.shp`. Verwenden Sie dazu den Befehl `geopandas.read_file(<pfad>)`. Diese Datei enthält allgemeine Länderinformationen und -grenzen, die wir später für die Darstellung verwenden werden.\n",
    "\n",
    "**Hinweis**: `geopandas.GeoDataFrame`-Objekte sind` pandas.DataFrame`-Objekte, die lediglich eine zusätzliche Spalte mit Geometrieinformationen enthalten. Sie können entsprechend alle `pandas`-Methoden mit diesen Dataframes verwenden."
   ]
  },
  {
   "cell_type": "code",
   "execution_count": 7,
   "metadata": {},
   "outputs": [],
   "source": [
    "data_path = 'data/country_level_data.csv'\n",
    "shapefile_path = 'data/world-administrative-boundaries/world-administrative-boundaries.shp'\n",
    "\n",
    "# Laden des country_level_data.csv DataFrames\n",
    "df = pd.read_csv(data_path)\n",
    "\n",
    "# Entfernen von Zeilen mit NaN-Werten in der Spalte 'total_msw_total_msw_generated_tons_year'\n",
    "df = df.dropna(subset=['total_msw_total_msw_generated_tons_year'])\n",
    "\n",
    "# Ensure the column name 'gdp' is correctly spelled and exists in the dataframe\n",
    "df['gdp_total'] = df['gdp'] * df['population_population_number_of_people']\n",
    "\n",
    "# Hinzufügen der Spalten 'relative_waste_pop' und 'relative_waste_gdp'\n",
    "df['relative_waste_pop'] = df['total_msw_total_msw_generated_tons_year'] / df['population_population_number_of_people']\n",
    "df['relative_waste_gdp'] = df['total_msw_total_msw_generated_tons_year'] / df['gdp_total']\n",
    "\n",
    "# Laden des Shapefiles mit geopandas\n",
    "gdf = gpd.read_file(shapefile_path)"
   ]
  },
  {
   "cell_type": "markdown",
   "metadata": {},
   "source": [
    "#### Aufgabe 1.2 - Zusammenführen und Formatieren (4 Punkte)\n",
    "Fügen Sie die Spalte `continent` aus dem Shapefile-Datenframe zu Ihrem Dataframe der Abfallproduktion mithilfe der Spalten `iso3` und `iso3c` hinzu. Löschen Sie alle Länder für die es keine Übereinstimmung in den beiden Spalten gibt."
   ]
  },
  {
   "cell_type": "code",
   "execution_count": null,
   "metadata": {},
   "outputs": [],
   "source": []
  },
  {
   "cell_type": "markdown",
   "metadata": {},
   "source": [
    "_____\n",
    "## Aufgabe 2: Plotting (32 Punkte)\n",
    "\n"
   ]
  },
  {
   "cell_type": "markdown",
   "metadata": {},
   "source": [
    "### Aufgabe 2.1 - Globaler Überblick (13 Punkte)\n",
    "Erstellen Sie zunächst einen globalen Überblick über die Verteilung von Abfällen, Bevölkerung und Wirtschaftskraft."
   ]
  },
  {
   "cell_type": "markdown",
   "metadata": {},
   "source": [
    "#### Aufgabe 2.1.1 (6 Punkte)\n",
    "Berechnen Sie dazu den Anteil jedes Kontinents an den gesamten globalen Abfällen, der Weltbevölkerung und der Weltwirtschaftsleistung und visualisieren Sie diese in geeigneten Diagrammen.\n",
    "\n",
    "Der Datensatz enthält die Spalte `income_id`, die das Land als niedriges Einkommen (LIC), niedrigeres mittleres Einkommen (LMC), oberes mittleres Einkommen (UMC) oder hohes Einkommen (HIC) klassifiziert.\n",
    "Verwenden Sie anstelle des Kontinents die `income_id`, um die Verteilung von Abfall, Bevölkerung und GDP für die Einkommenskategorien zu visualisieren.\n",
    "\n",
    "Beschreiben Sie Ihre Diagramme und gehen Sie auf die Unterschiede ein."
   ]
  },
  {
   "cell_type": "code",
   "execution_count": null,
   "metadata": {},
   "outputs": [],
   "source": []
  },
  {
   "cell_type": "markdown",
   "metadata": {},
   "source": []
  },
  {
   "cell_type": "markdown",
   "metadata": {},
   "source": [
    "#### Aufgabe 2.1.2 (7 Punkte)\n",
    "Schauen Sie sich nun die Abfallproduktion für jedes Land genauer an.<br>\n",
    "Verwenden Sie dazu den Shapefile-Dataframe und `geopandas` ([siehe hier](https://geopandas.org/en/stable/docs/user_guide/mapping.html)), um drei Karten der Welt in einer Figure darzustellen. Die Farbe der Landesfläche sollte dabei von (1) `total_msw_total_msw_generated_tons_year`, (2) `relative_waste_pop` und (3) `relative_waste_gdp` abhängen. Verwenden Sie logarithmierte Werte für die Farbdarstellung und fügen Sie eine Farbskala hinzu.\n",
    "\n",
    "Welche Beobachtungen machen Sie? Welche Länder stechen bei Ihrer Darstellung hervor?"
   ]
  },
  {
   "cell_type": "code",
   "execution_count": null,
   "metadata": {},
   "outputs": [],
   "source": []
  },
  {
   "cell_type": "markdown",
   "metadata": {},
   "source": []
  },
  {
   "cell_type": "markdown",
   "metadata": {},
   "source": [
    "### Aufgabe 2.2 - Treiber der Abfallproduktion (10 Punkte)\n",
    "Betrachten wir nun mögliche Ursachen für die Abfallproduktion."
   ]
  },
  {
   "cell_type": "markdown",
   "metadata": {},
   "source": [
    "#### Aufgabe 2.2.1 (6 Punkte)\n",
    "Visualisieren Sie das Verhältnis vom Abfallaufkommen und GDP, sowie vom Abfallaufkommen und der Gesamtbevölkerung der Länder in zwei geeigneten Plots. Fügen Sie Ihren Plots auch den Korrelationskoeffizienten hinzu.\n",
    "\n",
    "Welche Variable würden Sie eher verwenden, um das Abfallaufkommen eines Landes mit bekannter Gesamtbevölkerung und GDP vorherzusagen?"
   ]
  },
  {
   "cell_type": "code",
   "execution_count": null,
   "metadata": {},
   "outputs": [],
   "source": []
  },
  {
   "cell_type": "markdown",
   "metadata": {},
   "source": []
  },
  {
   "cell_type": "markdown",
   "metadata": {},
   "source": [
    "#### Aufgabe 2.2.2 (4 Punkte)\n",
    "Verwenden Sie dieselben Plots wie in Aufgabe 2.2.1, aber log-transformieren Sie alle Variablen. Beschreiben Sie die Unterschiede."
   ]
  },
  {
   "cell_type": "code",
   "execution_count": null,
   "metadata": {},
   "outputs": [],
   "source": []
  },
  {
   "cell_type": "markdown",
   "metadata": {},
   "source": []
  },
  {
   "cell_type": "markdown",
   "metadata": {},
   "source": [
    "### Aufgabe 2.3 - Abfallaufkommen pro Kopf (9 Punkte)\n",
    "\n",
    "Betrachten Sie nun die Pro-Kopf-Abfallproduktion.\n",
    "Länder mit einem hohen Lebensstandard werden oft dafür kritisiert, dass sie große Mengen an organischen Abfällen produzieren, zu denen in der Regel auch essbare Lebensmittel gehören. \n",
    "\n",
    "Visualisieren Sie die Abfälle und das BIP pro Kopf zusammen mit der absoluten Menge der organischen Abfälle pro Kopf. Verwenden Sie die Spalte `composition_food_organic_waste_percent`, um die absolute Menge an organischen Abfällen zu berechnen. \n",
    "Verwenden Sie eine Scatterplot und wählen Sie die Größe und Farbe der Punkte in Abhängigkeit von der absoluten Menge der organischen Abfälle pro Kopf. \n",
    "Beschriften Sie außerdem die 20 Länder mit dem höchsten und die 20 Länder mit dem niedrigsten Pro-Kopf-Aufkommen an organischen Abfällen mit dem Ländernamen und der Position in der Rangliste der organischen Abfälle aller Länder. Beschränken Sie die Darstellung auf Länder mit mindestens 10.000.000 Einwohnern und schließen Sie alle Länder ohne Informationen über den Anteil organischer Abfälle aus.\n",
    "\n",
    "Welchen Trend können Sie beobachten? \n",
    "Welche Länder sind Ausreißer und folgen nicht dem allgemeinen Trend?"
   ]
  },
  {
   "cell_type": "code",
   "execution_count": null,
   "metadata": {},
   "outputs": [],
   "source": []
  },
  {
   "cell_type": "markdown",
   "metadata": {},
   "source": []
  },
  {
   "cell_type": "markdown",
   "metadata": {},
   "source": [
    "___\n",
    "## Aufgabe 3: Statistics (16 Punkte)\n"
   ]
  },
  {
   "cell_type": "markdown",
   "metadata": {},
   "source": [
    "#### Aufgabe 3.1 - Statistischer Hypothesentest (11 Punkte)\n",
    "In Aufgabe 2.1 haben wir gesehen, dass die HIC- und UMC-Länder den größten Teil des weltweiten Abfalls produzieren und ~50% der Weltbevölkerung ausmachen, d.h. sie können als die einkommensstarke Hälfte der Weltbevölkerung angesehen werden. \n",
    "\n",
    "Aber gibt es einen signifikanten Unterschied in der pro Kopf produzierten Abfallmenge zwischen der einkommensstarken und der einkommensschwachen Hälfte der Weltbevölkerung? \n",
    "\n",
    "Schreiben Sie das entsprechenden Hypothesenpaar auf und führen Sie einen geeigneten t-Test durch."
   ]
  },
  {
   "cell_type": "code",
   "execution_count": null,
   "metadata": {},
   "outputs": [],
   "source": []
  },
  {
   "cell_type": "markdown",
   "metadata": {},
   "source": []
  },
  {
   "cell_type": "markdown",
   "metadata": {},
   "source": [
    "#### Aufgabe 3.2 - Statistisches Verständnis (5 Punkte)\n",
    "Visualisieren Sie die beiden Stichproben in einem Diagramm mithilfe von zwei Histogrammen und beschreiben Sie deren Überlappung.\n",
    "Finden Sie ein geeignetes Maß, das angibt, wie relevant (**nicht** wie statistisch signifikant) der Unterschied zwischen den beiden Stichproben ist, und interpretieren Sie es."
   ]
  },
  {
   "cell_type": "code",
   "execution_count": null,
   "metadata": {},
   "outputs": [],
   "source": []
  },
  {
   "cell_type": "markdown",
   "metadata": {},
   "source": []
  },
  {
   "cell_type": "markdown",
   "metadata": {},
   "source": [
    "___\n",
    "## Aufgabe 4: Machine Learning (42 Punkte)"
   ]
  },
  {
   "cell_type": "markdown",
   "metadata": {},
   "source": [
    "### Aufgabe 4.1 - Lineare Regression (21 points)"
   ]
  },
  {
   "cell_type": "markdown",
   "metadata": {},
   "source": [
    "In Aufgabe 2 haben wir die lineare Beziehung zwischen der Gesamtabfallmenge und der Bevölkerung, sowie dem GDP der Länder dargestellt. In dieser Aufgabe wollen wir diese Effekte mithilfe einer linearen Regression weiter untersuchen. Verwenden Sie das Paket `statsmodels` für Ihre Regressionsanalyse."
   ]
  },
  {
   "cell_type": "markdown",
   "metadata": {},
   "source": [
    "#### Aufgabe 4.1.1 – GDP (8 Punkte)\n",
    "Verwenden Sie das GDP als erklärende Variable für die Gesamtabfallmenge eines Landes. Interpretieren Sie die Koeffizienten und die statistische Signifikanz des Effekts. Plotten Sie Ihre Regressionsgerade mit der Gesamtabfallmenge auf der Y-Achse und dem GDP auf der X-Achse. <br>"
   ]
  },
  {
   "cell_type": "code",
   "execution_count": null,
   "metadata": {},
   "outputs": [],
   "source": []
  },
  {
   "cell_type": "markdown",
   "metadata": {},
   "source": []
  },
  {
   "cell_type": "markdown",
   "metadata": {},
   "source": [
    "#### Aufgabe 4.1.2 – Gesamtbevölkerung (8 Punkte)\n",
    "Verwenden Sie die **log**-Gesamtbevölkerung als erklärende Variable für die **log**-Gesamtabfallmenge eines Landes. Interpretieren Sie den Koeffizienten für die log-Gesamtbevölkerung und plotten Sie Ihre Regressionsgerade mit dem Gesamtabfall auf der Y-Achse und der **log-Gesamtbevölkerung** auf der X-Achse.<br>"
   ]
  },
  {
   "cell_type": "code",
   "execution_count": null,
   "metadata": {},
   "outputs": [],
   "source": []
  },
  {
   "cell_type": "markdown",
   "metadata": {},
   "source": []
  },
  {
   "cell_type": "markdown",
   "metadata": {},
   "source": [
    "#### Aufgabe 4.1.3 – Kritische Einordnung (5 Punkte)\n",
    "Diskutieren Sie kurz und kritisch folgende Aussage:\n",
    "\n",
    "*„Die Abfallproduktion eines Landes hängt hauptsächlich von seiner Wirtschaftskraft ab“*\n",
    "\n",
    "Vergleichen Sie dazu Ihre beiden linearen Regressionen mit einer geeigneten Metrik. \n",
    "Ermitteln Sie außerdem den Korrelationskoeffizienten zwischen GDP und Gesamtbevölkerung und beziehen Sie ihn in Ihre Antwort ein."
   ]
  },
  {
   "cell_type": "code",
   "execution_count": null,
   "metadata": {},
   "outputs": [],
   "source": []
  },
  {
   "cell_type": "markdown",
   "metadata": {},
   "source": []
  },
  {
   "cell_type": "markdown",
   "metadata": {},
   "source": [
    "### Aufgabe 4.2 – Dimensionsreduktion und Clustering (21 Punkte)"
   ]
  },
  {
   "cell_type": "markdown",
   "metadata": {},
   "source": [
    "#### Aufgabe 4.2.1 - PCA (Principal Component Analysis) (8 Punkte):\n",
    "Berücksichtigen Sie alle Spalten im Datensatz, die im Zusammenhang mit dem Abfallaufkommen stehen (z. B. Spalten beginnend mit \"waste\", \"composition\" oder \"treatment\" und numerischen Werten) und füllen Sie fehlende Werte in diesen Spalten mit dem Spaltenmittelwert auf. Führen Sie eine **PCA** durch und projizieren Sie die Daten auf die ersten beiden Hauptkomponenten (**PC1** und **PC2**). Visualisieren Sie die Länder in einem Plot mit **PC1** und **PC2**."
   ]
  },
  {
   "cell_type": "code",
   "execution_count": null,
   "metadata": {},
   "outputs": [],
   "source": []
  },
  {
   "cell_type": "markdown",
   "metadata": {},
   "source": []
  },
  {
   "cell_type": "markdown",
   "metadata": {},
   "source": [
    "#### Aufgabe 4.2.2 - K-Means-Clustering (7 Punkte)\n",
    "Führen Sie ein **K-Means-Clustering** mithilfe der ersten beiden Hauptkomponenten durch. Nutzen Sie eine **Hyperparametersuche** (z. B. die **Ellbogenmethode**), um die optimale Anzahl von Clustern (**k**) zu bestimmen."
   ]
  },
  {
   "cell_type": "code",
   "execution_count": null,
   "metadata": {},
   "outputs": [],
   "source": []
  },
  {
   "cell_type": "markdown",
   "metadata": {},
   "source": []
  },
  {
   "cell_type": "markdown",
   "metadata": {},
   "source": [
    "#### Aufgabe 4.2.3 - Auswertung und Vergleich (6 Punkte)\n",
    "Visualisieren Sie nebeneinander die **optimalen k Cluster** und die **Einkommenskategorie** mithilfe der PCA-Projektion. Vergleichen Sie die Clusterähnlichkeit mit der Einkommensklasse, indem Sie einen Matching-Score berechnen. Diesen Matching-Score können Sie berechnen, indem Sie für jedes Länderpaar prüfen, ob diese zum gleichen K-Means-Cluster und zur gleichen Einkommensklasse gehören. Wenn sich ein Länderpaar sowohl im K-Means-Clustering als auch in der Einkommensklasse im selben Cluster befindet, wird dies als Übereinstimmung betrachtet. Mit anderen Worten, der Matching-Score wird als Prozentsatz der Paare berechnet, bei denen beide Länder in beiden Klassifizierungen derselben Klasse angehören:\n",
    "\n",
    "$$\n",
    "\\text{Matching Score} = \\left( \\frac{\\text{Number of matching pairs}}{\\text{Total number of pairs}} \\right) \\times 100\n",
    "$$\n",
    "\n",
    "Dabei sind **Matching Pairs** Länderpaare, die zum selben K-Means-Cluster und derselben Einkommensklasse gehören, und die **Gesamtzahl der Paare** ist die Gesamtzahl aller möglichen Länderpaare im Datensatz.\n",
    "\n",
    "Diskutieren Sie auf der Grundlage Ihrer Analyse, ob die Einkommensklasse Ihrer Meinung nach das Abfallwirtschaftsprofil eines Landes widerspiegelt."
   ]
  },
  {
   "cell_type": "code",
   "execution_count": null,
   "metadata": {},
   "outputs": [],
   "source": []
  },
  {
   "cell_type": "markdown",
   "metadata": {},
   "source": []
  }
 ],
 "metadata": {
  "kernelspec": {
   "display_name": "Python 3",
   "language": "python",
   "name": "python3"
  },
  "language_info": {
   "codemirror_mode": {
    "name": "ipython",
    "version": 3
   },
   "file_extension": ".py",
   "mimetype": "text/x-python",
   "name": "python",
   "nbconvert_exporter": "python",
   "pygments_lexer": "ipython3",
   "version": "3.10.8"
  }
 },
 "nbformat": 4,
 "nbformat_minor": 4
}
