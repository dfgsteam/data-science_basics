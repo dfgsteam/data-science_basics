{
 "cells": [
  {
   "attachments": {},
   "cell_type": "markdown",
   "id": "93cff492-b993-4b0d-a70b-13c52a25a17f",
   "metadata": {},
   "source": [
    "## Hausaufgabe 2\n",
    "\n",
    "#### **Abgabe** <br> 29.04. 12:00 Uhr (via studIP) \n",
    "#### **Verteidigung** <br> 02.05. 08:00-10:00 Uhr \n",
    "\n",
    "Mit jedem Blatt können **maximal** 5 Prozentpunkte Bonus für die Klausur erreicht werden, falls:\n",
    "1) mind. 60% des Arbeitsblattes korrekt bearbeitet wurden \n",
    "2) das Arbeitsblatt erfolgreich verteidigt (den Tutoren erklärt) wurde.\n",
    "\n",
    "*Rahmenbedingungen*:\n",
    "- Jede Gruppe muss sich bei studIP für einen Slot zur Verteidigung registrieren.\n",
    "- Erfolgreiche Verteidigung bedeutet, dass ein von uns ausgewähltes Team-Mitglied die Lösung erklärt und Fragen dazu beantwortet.\n",
    "- ChatGPT und andere Hilfsmittel dürfen verwendet werden, müssen aber zitiert werden.\n",
    "- Der Code muss ohne Hilfsmittel erläutert werden.\n",
    "- Wir bewerten nicht nur die Korrektheit der Ergebnisse, sondern auch ob der Code effizient, einfach zu verstehen, aufgeräumt und gut dokumentiert ist.\n",
    "- Jede Gruppe gibt nur eine Lösung als Zip-Datei ab, die mit dem Namen und der Matrikelnummer eines Mitglieds versehen ist. Also z.B. `mustermann_12345678.zip` "
   ]
  },
  {
   "attachments": {},
   "cell_type": "markdown",
   "id": "6a89ae56-4d82-4486-ab4d-053c537e614d",
   "metadata": {},
   "source": [
    "**ACHTUNG: Nutzen Sie zum Lösen der Aufgaben ausschließlich Bash-Befehle!**\n",
    "\n",
    "Installatieren Sie (falls nicht vorhanden) den bash-kernel durch: `pip install bash_kernel ; python -m bash_kernel.install`"
   ]
  },
  {
   "cell_type": "markdown",
   "id": "88a1ce2f-002b-4808-980f-b820ae4880c7",
   "metadata": {},
   "source": [
    "_________"
   ]
  },
  {
   "cell_type": "markdown",
   "id": "9ff8bfe9-f1a8-474f-8f6c-c9d78269b08e",
   "metadata": {},
   "source": [
    "In dieser Aufgabe ist das Ziel, durch einzelne kurze Skripts einen Text zu bearbeiten, sodass dieser anschließend einfacher zu verwenden ist (z.B. für Data-Science Anwendungen)"
   ]
  },
  {
   "cell_type": "markdown",
   "id": "bdb4b2f2-fa60-40ae-a990-a1bc1fd35ded",
   "metadata": {},
   "source": [
    "Der Text den wir im Folgenden bearbeiten werden ist das Deutsche Grundgesetz. "
   ]
  },
  {
   "attachments": {},
   "cell_type": "markdown",
   "id": "62dd260d-5f9e-4479-b600-148d24122dd3",
   "metadata": {},
   "source": [
    "## 1 a)  [2,5%]"
   ]
  },
  {
   "cell_type": "markdown",
   "id": "a70f8b74-7a10-4887-b598-4976c2d072e8",
   "metadata": {},
   "source": [
    "Erstellen Sie einen neuen Ordner und laden Sie den Text herunter den Sie unter folgender Adresse finden: https://raw.githubusercontent.com/levinalex/deutsche_verfassungen/master/grundgesetz/grundgesetz.txt "
   ]
  },
  {
   "cell_type": "code",
   "execution_count": 17,
   "id": "4cf7ec97",
   "metadata": {
    "vscode": {
     "languageId": "shellscript"
    }
   },
   "outputs": [
    {
     "name": "stdout",
     "output_type": "stream",
     "text": [
      "mkdir: cannot create directory ‘Exercise02’: File exists\n",
      "--2024-04-27 11:06:49--  https://raw.githubusercontent.com/levinalex/deutsche_verfassungen/master/grundgesetz/grundgesetz.txt\n",
      "Resolving raw.githubusercontent.com (raw.githubusercontent.com)... 185.199.109.133, 185.199.110.133, 185.199.111.133, ...\n",
      "Connecting to raw.githubusercontent.com (raw.githubusercontent.com)|185.199.109.133|:443... connected.\n",
      "HTTP request sent, awaiting response... 200 OK\n",
      "Length: 146482 (143K) [text/plain]\n",
      "Saving to: ‘Exercise02/grundgesetz.txt’\n",
      "\n",
      "grundgesetz.txt     100%[===================>] 143.05K  --.-KB/s    in 0.01s   \n",
      "\n",
      "2024-04-27 11:06:49 (12.6 MB/s) - ‘Exercise02/grundgesetz.txt’ saved [146482/146482]\n",
      "\n"
     ]
    }
   ],
   "source": [
    "# einen Ordner Erstellen\n",
    "!mkdir Exercise02\n",
    "\n",
    "# den Text vom Link herunterladen und in erstelltem Ordner speichern\n",
    "!wget -P Exercise02 \"https://raw.githubusercontent.com/levinalex/deutsche_verfassungen/master/grundgesetz/grundgesetz.txt\""
   ]
  },
  {
   "attachments": {},
   "cell_type": "markdown",
   "id": "94f930de-753b-42b0-9650-afb197c4236b",
   "metadata": {},
   "source": [
    "## 1 b) [10%]\n",
    "Der Text hat eine klare Struktur. Aber am Anfang findet sich ein Stück Text welches nicht in diese Struktur passt. Schreiben Sie ein einzeiliges Skript welches alles vor dem Start der Auflistung der Artikel (und Kapitel) aus dem Text löscht. Speichern Sie die Ausgabe in einer neuen Datei. \n",
    "Stellen Sie sicher dass Ihr Skript auch funktioniert wenn sich der Text am Start ändert!"
   ]
  },
  {
   "cell_type": "code",
   "execution_count": null,
   "id": "8f496c9f",
   "metadata": {
    "vscode": {
     "languageId": "shellscript"
    }
   },
   "outputs": [],
   "source": [
    "# mit awk text bearbeiten mit regulärer Ausdruck. ^ Anfang, $ Ende der Zeile, f flag auf 1 setzen und anzeigen\n",
    "!awk '/^I$/{f=1} f' < Exercise02/grundgesetz.txt > Exercise02/grundgesetz.txt"
   ]
  },
  {
   "attachments": {},
   "cell_type": "markdown",
   "id": "cea6b9eb-4e7a-4819-84be-5ee6cb9e3ccc",
   "metadata": {},
   "source": [
    "## 1 c) [10%]\n",
    "Splitten Sie den Text in einzelne Dateien auf basierend auf den Kapiteln (z.B. \"I Die Grundrechte\") nummerieren Sie die Dateien."
   ]
  },
  {
   "cell_type": "code",
   "execution_count": 18,
   "id": "05fc7d12",
   "metadata": {},
   "outputs": [],
   "source": [
    "# +: mehrere Vorkommen von der Zeichen, Variable Kapitelnum erhöhen wenn die Zeile mit Muster übereinstimmt und printet das aus.\n",
    "!awk '/[IVX]+$/ {++kapitelnum} {print > \"./Exercise02/Kapitel\" kapitelnum}' ./Exercise02/grundgesetz.txt\n",
    "!rm ./Exercise02/Kapitel"
   ]
  },
  {
   "attachments": {},
   "cell_type": "markdown",
   "id": "9062180c-82cf-427a-b0a8-7db677df12ac",
   "metadata": {},
   "source": [
    "## 1 d) [30%]\n",
    "Splitten Sie jedes Kapitel in die einzelnen Artikel auf. Jeder Artikel soll in einer eigenen Datei sein welche die Nummer des Artikels als Dateinamen. Erstellen Sie für jedes Kapitel einen neuen Unterordner in dem die Artikel gesammelt werden."
   ]
  },
  {
   "cell_type": "code",
   "execution_count": 27,
   "id": "559a052b-0ba5-4f9f-a7e5-b1d6b1d724c3",
   "metadata": {},
   "outputs": [
    {
     "name": "stdout",
     "output_type": "stream",
     "text": [
      "mkdir: cannot create directory ‘./Exercise02/K1’: File exists\n",
      "mkdir: cannot create directory ‘./Exercise02/K2’: File exists\n",
      "mkdir: cannot create directory ‘./Exercise02/K3’: File exists\n",
      "mkdir: cannot create directory ‘./Exercise02/K4’: File exists\n",
      "mkdir: cannot create directory ‘./Exercise02/K5’: File exists\n",
      "mkdir: cannot create directory ‘./Exercise02/K6’: File exists\n",
      "mkdir: cannot create directory ‘./Exercise02/K7’: File exists\n",
      "mkdir: cannot create directory ‘./Exercise02/K8’: File exists\n",
      "mkdir: cannot create directory ‘./Exercise02/K9’: File exists\n",
      "mkdir: cannot create directory ‘./Exercise02/K10’: File exists\n",
      "mkdir: cannot create directory ‘./Exercise02/K11’: File exists\n"
     ]
    }
   ],
   "source": [
    "!bash split_kapitel.sh"
   ]
  },
  {
   "cell_type": "code",
   "execution_count": 25,
   "id": "b4c8f926-76db-4297-a471-fc088378bdf7",
   "metadata": {},
   "outputs": [],
   "source": [
    "!rm -r ./Exercise02/K1\n",
    "!rm -r ./Exercise02/K2\n",
    "!rm -r ./Exercise02/K3\n",
    "!rm -r ./Exercise02/K4\n",
    "!rm -r ./Exercise02/K5\n",
    "!rm -r ./Exercise02/K6\n",
    "!rm -r ./Exercise02/K7\n",
    "!rm -r ./Exercise02/K8\n",
    "!rm -r ./Exercise02/K9\n",
    "!rm -r ./Exercise02/K10\n",
    "!rm -r ./Exercise02/K11"
   ]
  },
  {
   "attachments": {},
   "cell_type": "markdown",
   "id": "a31a8bd9-912e-4b77-894c-74bba797cdfd",
   "metadata": {},
   "source": [
    "## 1 e) [5%]\n",
    "Löschen Sie die ursprünglichen Daten und die Daten welche Sie im Verlauf des Prozesses (abgesehen von 1d)) generiert haben. Am Ende sollen nur noch die Dateien zu den einzelnen Artikel (in getrennten Ordnern) vorhanden sein.  "
   ]
  },
  {
   "cell_type": "code",
   "execution_count": 1,
   "id": "371bf163",
   "metadata": {},
   "outputs": [],
   "source": [
    "#!rm ./Exercise02/*.txt -rf\n",
    "!rm -r ./Exercise02/"
   ]
  },
  {
   "cell_type": "markdown",
   "id": "07fe1e5b-805e-40ad-b28a-2d26553ba710",
   "metadata": {},
   "source": [
    "## 1 f) [2,5%]\n",
    "Packen Sie den Inhalt des gesamten Ordners in komprimiertes tar-Archiv."
   ]
  },
  {
   "cell_type": "code",
   "execution_count": 57,
   "id": "83b3476e",
   "metadata": {},
   "outputs": [],
   "source": [
    "!tar -czf Exercise02.tar.gz ./Exercise02"
   ]
  },
  {
   "cell_type": "markdown",
   "id": "76f7f642-b851-473a-a90d-5046ede450a2",
   "metadata": {},
   "source": [
    "_________"
   ]
  },
  {
   "attachments": {},
   "cell_type": "markdown",
   "id": "ef3bbe6b-21bd-47a8-9d74-1c13e3453c8d",
   "metadata": {
    "vscode": {
     "languageId": "shellscript"
    }
   },
   "source": [
    "## 2 a) [20%]\n",
    "Schreiben Sie ein Shell-Skript, dass alle x Sekunden ausgibt ob ein durch eine PID identifizierter Prozess läuft oder nicht.\n",
    "Übergeben Sie die Anzahl an Sekunden und die PID als Parameter an das Skript, sodass es wie folgt aufgerufen werden kann:\n",
    "\n",
    "```bash\n",
    "$ script [PID] [SECONDS]\n",
    "```\n",
    "Ihnen sind keine Einschränkungen gegeben, welche Befehle Sie dafür verwenden.\n",
    "\n",
    "**Nützliche Befehle:** `grep`,`ps`"
   ]
  },
  {
   "cell_type": "code",
   "execution_count": 44,
   "id": "1943e4cc-d438-4e1a-9f75-8136033114a3",
   "metadata": {},
   "outputs": [
    {
     "name": "stdout",
     "output_type": "stream",
     "text": [
      "13 is not running\n",
      "13 is not running\n",
      "^C\n"
     ]
    }
   ],
   "source": [
    "!bash pidchecker.sh 13 2"
   ]
  },
  {
   "attachments": {},
   "cell_type": "markdown",
   "id": "623c7c5d-0f24-4e65-acf9-499164214986",
   "metadata": {
    "tags": []
   },
   "source": [
    "## 2 b) [20%]\n",
    "Schreiben Sie ein Shell-Skript, das die Verzeichnisstruktur eines als Parameter angegebenen Verzeichnisses auflisten kann. Schreiben Sie dazu eine rekursive Funktion, die in Unterverzeichnisse herabsteigt. \n",
    "Geben Sie das Verzeichnis und die Dateien auf dem Bildschirm aus. \n",
    "Nutzen Sie Einrückungen um die Zugehörigkeit von Dateien und Verzeichnissen zueinander zu kennzeichnen. \n",
    "Dies kann dann zum Beispiel so aussehen:\n",
    "\n",
    "```\n",
    "File: linux-3.14/COPYING\n",
    "File: linux-3.14/CREDITS\n",
    "Directory: linux-3.14/Documentation\n",
    "    File: linux-3.14/Documentation/00-INDEX \n",
    "    Directory: linux-3.14/Documentation/ABI\n",
    "        File: linux-3.14/Documentation/ABI/README \n",
    "        Directory: linux-3.14/Documentation/ABI/obsolete        \n",
    "            File: linux-3.14/Documentation/ABI/obsolete/proc-sys-vm-nr_pdflush_threads \n",
    "            File: linux-3.14/Documentation/ABI/obsolete/sysfs-bus-usb\n",
    "            File: linux-3.14/Documentation/ABI/obsolete/sysfs-class-rfkill\n",
    "            File: linux-3.14/Documentation/ABI/obsolete/sysfs-driver-hid-roccat-koneplus \n",
    "            File: linux-3.14/Documentation/ABI/obsolete/sysfs-driver-hid-roccat-kovaplus \n",
    "            File: linux-3.14/Documentation/ABI/obsolete/sysfs-driver-hid-roccat-pyra\n",
    "        Directory: linux-3.14/Documentation/ABI/removed \n",
    "            File: linux-3.14/Documentation/ABI/removed/devfs \n",
    "            File: linux-3.14/Documentation/ABI/removed/dv1394\n",
    "...\n",
    "\n",
    "```\n",
    "\n",
    "**Hinweis:** es ist möglich, in der bash Funktionen zu definieren. Die Syntax finden Sie z.B. hier: http://tldp.org/LDP/abs/html/functions.html\n",
    "\n",
    "**Nützliche Befehle:** `find`,`printf`"
   ]
  },
  {
   "cell_type": "code",
   "execution_count": 56,
   "id": "0b1f3e5f-87e5-456d-adee-0645229bf660",
   "metadata": {},
   "outputs": [
    {
     "name": "stdout",
     "output_type": "stream",
     "text": [
      "File: Exercise02/grundgesetz.txt\n",
      "File: Exercise02/Kapitel1\n",
      "File: Exercise02/Kapitel10\n",
      "File: Exercise02/Kapitel11\n",
      "File: Exercise02/Kapitel2\n",
      "File: Exercise02/Kapitel3\n",
      "File: Exercise02/Kapitel4\n",
      "File: Exercise02/Kapitel5\n",
      "File: Exercise02/Kapitel6\n",
      "File: Exercise02/Kapitel7\n",
      "File: Exercise02/Kapitel8\n",
      "File: Exercise02/Kapitel9\n",
      "Directory: Exercise02/K1\n",
      "  File: Exercise02/K1/Artikel 1\n",
      "  File: Exercise02/K1/Artikel 10\n",
      "  File: Exercise02/K1/Artikel 11\n",
      "  File: Exercise02/K1/Artikel 12\n",
      "  File: Exercise02/K1/Artikel 12 a\n",
      "  File: Exercise02/K1/Artikel 13\n",
      "  File: Exercise02/K1/Artikel 14\n",
      "  File: Exercise02/K1/Artikel 15\n",
      "  File: Exercise02/K1/Artikel 16\n",
      "  File: Exercise02/K1/Artikel 16 a\n",
      "  File: Exercise02/K1/Artikel 17\n",
      "  File: Exercise02/K1/Artikel 17 a\n",
      "  File: Exercise02/K1/Artikel 18\n",
      "  File: Exercise02/K1/Artikel 19\n",
      "  File: Exercise02/K1/Artikel 2\n",
      "  File: Exercise02/K1/Artikel 3\n",
      "  File: Exercise02/K1/Artikel 4\n",
      "  File: Exercise02/K1/Artikel 5\n",
      "  File: Exercise02/K1/Artikel 6\n",
      "  File: Exercise02/K1/Artikel 7\n",
      "  File: Exercise02/K1/Artikel 8\n",
      "  File: Exercise02/K1/Artikel 9\n",
      "Directory: Exercise02/K10\n",
      "  File: Exercise02/K10/Artikel 104 a\n",
      "  File: Exercise02/K10/Artikel 105\n",
      "  File: Exercise02/K10/Artikel 106\n",
      "  File: Exercise02/K10/Artikel 106 a\n",
      "  File: Exercise02/K10/Artikel 107\n",
      "  File: Exercise02/K10/Artikel 108\n",
      "  File: Exercise02/K10/Artikel 109\n",
      "  File: Exercise02/K10/Artikel 110\n",
      "  File: Exercise02/K10/Artikel 111\n",
      "  File: Exercise02/K10/Artikel 112\n",
      "  File: Exercise02/K10/Artikel 113\n",
      "  File: Exercise02/K10/Artikel 114\n",
      "  File: Exercise02/K10/Artikel 115\n",
      "  File: Exercise02/K10/Artikel 115 a\n",
      "  File: Exercise02/K10/Artikel 115 b\n",
      "  File: Exercise02/K10/Artikel 115 c\n",
      "  File: Exercise02/K10/Artikel 115 d\n",
      "  File: Exercise02/K10/Artikel 115 e\n",
      "  File: Exercise02/K10/Artikel 115 f\n",
      "  File: Exercise02/K10/Artikel 115 g\n",
      "  File: Exercise02/K10/Artikel 115 h\n",
      "  File: Exercise02/K10/Artikel 115 i\n",
      "  File: Exercise02/K10/Artikel 115 k\n",
      "  File: Exercise02/K10/Artikel 115 l\n",
      "Directory: Exercise02/K11\n",
      "  File: Exercise02/K11/Artikel 116\n",
      "  File: Exercise02/K11/Artikel 117\n",
      "  File: Exercise02/K11/Artikel 118\n",
      "  File: Exercise02/K11/Artikel 118 a\n",
      "  File: Exercise02/K11/Artikel 119\n",
      "  File: Exercise02/K11/Artikel 120\n",
      "  File: Exercise02/K11/Artikel 120 a\n",
      "  File: Exercise02/K11/Artikel 121\n",
      "  File: Exercise02/K11/Artikel 122\n",
      "  File: Exercise02/K11/Artikel 123\n",
      "  File: Exercise02/K11/Artikel 124\n",
      "  File: Exercise02/K11/Artikel 125\n",
      "  File: Exercise02/K11/Artikel 125 a\n",
      "  File: Exercise02/K11/Artikel 126\n",
      "  File: Exercise02/K11/Artikel 127\n",
      "  File: Exercise02/K11/Artikel 128\n",
      "  File: Exercise02/K11/Artikel 129\n",
      "  File: Exercise02/K11/Artikel 130\n",
      "  File: Exercise02/K11/Artikel 131\n",
      "  File: Exercise02/K11/Artikel 132\n",
      "  File: Exercise02/K11/Artikel 133\n",
      "  File: Exercise02/K11/Artikel 134\n",
      "  File: Exercise02/K11/Artikel 135\n",
      "  File: Exercise02/K11/Artikel 135 a\n",
      "  File: Exercise02/K11/Artikel 136\n",
      "  File: Exercise02/K11/Artikel 137\n",
      "  File: Exercise02/K11/Artikel 138\n",
      "  File: Exercise02/K11/Artikel 139\n",
      "  File: Exercise02/K11/Artikel 140\n",
      "  File: Exercise02/K11/Artikel 141\n",
      "  File: Exercise02/K11/Artikel 142\n",
      "  File: Exercise02/K11/Artikel 143\n",
      "  File: Exercise02/K11/Artikel 143 a\n",
      "  File: Exercise02/K11/Artikel 143 b\n",
      "  File: Exercise02/K11/Artikel 144\n",
      "  File: Exercise02/K11/Artikel 145\n",
      "  File: Exercise02/K11/Artikel 146\n",
      "  File: Exercise02/K11/Artikel 7 Absatz 3 Satz 1 findet keine Anwendung in einem Lande, in dem am 1. Januar 1949 eine andere landesrechtliche Regelung bestand.\n",
      "Directory: Exercise02/K2\n",
      "  File: Exercise02/K2/Artikel 20\n",
      "  File: Exercise02/K2/Artikel 20 a\n",
      "  File: Exercise02/K2/Artikel 21\n",
      "  File: Exercise02/K2/Artikel 22\n",
      "  File: Exercise02/K2/Artikel 23\n",
      "  File: Exercise02/K2/Artikel 24\n",
      "  File: Exercise02/K2/Artikel 25\n",
      "  File: Exercise02/K2/Artikel 26\n",
      "  File: Exercise02/K2/Artikel 27\n",
      "  File: Exercise02/K2/Artikel 28\n",
      "  File: Exercise02/K2/Artikel 29\n",
      "  File: Exercise02/K2/Artikel 30\n",
      "  File: Exercise02/K2/Artikel 31\n",
      "  File: Exercise02/K2/Artikel 32\n",
      "  File: Exercise02/K2/Artikel 33\n",
      "  File: Exercise02/K2/Artikel 34\n",
      "  File: Exercise02/K2/Artikel 35\n",
      "  File: Exercise02/K2/Artikel 36\n",
      "  File: Exercise02/K2/Artikel 37\n",
      "Directory: Exercise02/K3\n",
      "  File: Exercise02/K3/Artikel 38\n",
      "  File: Exercise02/K3/Artikel 39\n",
      "  File: Exercise02/K3/Artikel 40\n",
      "  File: Exercise02/K3/Artikel 41\n",
      "  File: Exercise02/K3/Artikel 42\n",
      "  File: Exercise02/K3/Artikel 43\n",
      "  File: Exercise02/K3/Artikel 44\n",
      "  File: Exercise02/K3/Artikel 45\n",
      "  File: Exercise02/K3/Artikel 45 a\n",
      "  File: Exercise02/K3/Artikel 45 b\n",
      "  File: Exercise02/K3/Artikel 45 c\n",
      "  File: Exercise02/K3/Artikel 46\n",
      "  File: Exercise02/K3/Artikel 47\n",
      "  File: Exercise02/K3/Artikel 48\n",
      "  File: Exercise02/K3/Artikel 49\n",
      "Directory: Exercise02/K4\n",
      "  File: Exercise02/K4/Artikel 50\n",
      "  File: Exercise02/K4/Artikel 51\n",
      "  File: Exercise02/K4/Artikel 52\n",
      "  File: Exercise02/K4/Artikel 53\n",
      "  File: Exercise02/K4/Artikel 53 a\n",
      "Directory: Exercise02/K5\n",
      "  File: Exercise02/K5/Artikel 54\n",
      "  File: Exercise02/K5/Artikel 55\n",
      "  File: Exercise02/K5/Artikel 56\n",
      "  File: Exercise02/K5/Artikel 57\n",
      "  File: Exercise02/K5/Artikel 58\n",
      "  File: Exercise02/K5/Artikel 59\n",
      "  File: Exercise02/K5/Artikel 60\n",
      "  File: Exercise02/K5/Artikel 61\n",
      "Directory: Exercise02/K6\n",
      "  File: Exercise02/K6/Artikel 62\n",
      "  File: Exercise02/K6/Artikel 63\n",
      "  File: Exercise02/K6/Artikel 64\n",
      "  File: Exercise02/K6/Artikel 65\n",
      "  File: Exercise02/K6/Artikel 65 a\n",
      "  File: Exercise02/K6/Artikel 66\n",
      "  File: Exercise02/K6/Artikel 67\n",
      "  File: Exercise02/K6/Artikel 68\n",
      "  File: Exercise02/K6/Artikel 69\n",
      "Directory: Exercise02/K7\n",
      "  File: Exercise02/K7/Artikel 70\n",
      "  File: Exercise02/K7/Artikel 71\n",
      "  File: Exercise02/K7/Artikel 72\n",
      "  File: Exercise02/K7/Artikel 73\n",
      "  File: Exercise02/K7/Artikel 74\n",
      "  File: Exercise02/K7/Artikel 75\n",
      "  File: Exercise02/K7/Artikel 76\n",
      "  File: Exercise02/K7/Artikel 77\n",
      "  File: Exercise02/K7/Artikel 78\n",
      "  File: Exercise02/K7/Artikel 79\n",
      "  File: Exercise02/K7/Artikel 80\n",
      "  File: Exercise02/K7/Artikel 80 a\n",
      "  File: Exercise02/K7/Artikel 81\n",
      "  File: Exercise02/K7/Artikel 82\n",
      "Directory: Exercise02/K8\n",
      "  File: Exercise02/K8/Artikel 83\n",
      "  File: Exercise02/K8/Artikel 84\n",
      "  File: Exercise02/K8/Artikel 85\n",
      "  File: Exercise02/K8/Artikel 86\n",
      "  File: Exercise02/K8/Artikel 87\n",
      "  File: Exercise02/K8/Artikel 87 a\n",
      "  File: Exercise02/K8/Artikel 87 b\n",
      "  File: Exercise02/K8/Artikel 87 c\n",
      "  File: Exercise02/K8/Artikel 87 d\n",
      "  File: Exercise02/K8/Artikel 87 e\n",
      "  File: Exercise02/K8/Artikel 87 f\n",
      "  File: Exercise02/K8/Artikel 88\n",
      "  File: Exercise02/K8/Artikel 89\n",
      "  File: Exercise02/K8/Artikel 90\n",
      "  File: Exercise02/K8/Artikel 91\n",
      "  File: Exercise02/K8/Artikel 91 a\n",
      "  File: Exercise02/K8/Artikel 91 b\n",
      "Directory: Exercise02/K9\n",
      "  File: Exercise02/K9/Artikel 100\n",
      "  File: Exercise02/K9/Artikel 101\n",
      "  File: Exercise02/K9/Artikel 102\n",
      "  File: Exercise02/K9/Artikel 103\n",
      "  File: Exercise02/K9/Artikel 104\n",
      "  File: Exercise02/K9/Artikel 92\n",
      "  File: Exercise02/K9/Artikel 93\n",
      "  File: Exercise02/K9/Artikel 94\n",
      "  File: Exercise02/K9/Artikel 95\n",
      "  File: Exercise02/K9/Artikel 96\n",
      "  File: Exercise02/K9/Artikel 97\n",
      "  File: Exercise02/K9/Artikel 98\n",
      "  File: Exercise02/K9/Artikel 99\n"
     ]
    }
   ],
   "source": [
    "!bash list_dir_rec.sh Exercise02"
   ]
  }
 ],
 "metadata": {
  "kernelspec": {
   "display_name": "Python 3 (ipykernel)",
   "language": "python",
   "name": "python3"
  },
  "language_info": {
   "codemirror_mode": {
    "name": "ipython",
    "version": 3
   },
   "file_extension": ".py",
   "mimetype": "text/x-python",
   "name": "python",
   "nbconvert_exporter": "python",
   "pygments_lexer": "ipython3",
   "version": "3.11.7"
  },
  "vscode": {
   "interpreter": {
    "hash": "8fa2a39dc98f14384214061e3a8c32603dbb899665817f3de4b9ccce2b523a71"
   }
  }
 },
 "nbformat": 4,
 "nbformat_minor": 5
}
