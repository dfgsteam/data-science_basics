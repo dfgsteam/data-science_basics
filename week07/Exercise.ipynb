{
 "cells": [
  {
   "cell_type": "markdown",
   "metadata": {},
   "source": [
    "## Hausaufgabe 7\n",
    "\n",
    "#### **Abgabe** <br> 08.07. 12:00 Uhr (via studIP) \n",
    "#### **Verteidigung** <br> 11.07. 08:00-11:00 Uhr \n",
    "\n",
    "Mit jedem Blatt können **maximal** 5 Prozentpunkte Bonus für die Klausur erreicht werden, falls:\n",
    "1) mind. 60% des Arbeitsblattes korrekt bearbeitet wurden \n",
    "2) das Arbeitsblatt erfolgreich verteidigt (den Tutoren erklärt) wurde.\n",
    "\n",
    "*Rahmenbedingungen*:\n",
    "- Jede Gruppe muss sich bei studIP für einen Slot zur Verteidigung registrieren.\n",
    "- Erfolgreiche Verteidigung bedeutet, dass ein von uns ausgewähltes Team-Mitglied die Lösung erklärt und Fragen dazu beantwortet.\n",
    "- ChatGPT und andere Hilfsmittel dürfen verwendet werden, müssen aber zitiert werden.\n",
    "- Der Code muss ohne Hilfsmittel erläutert werden.\n",
    "- Wir bewerten nicht nur die Korrektheit der Ergebnisse, sondern auch ob der Code effizient, einfach zu verstehen, aufgeräumt und gut dokumentiert ist.\n",
    "- Jede Gruppe gibt nur eine Lösung als Zip-Datei ab, die mit dem Namen und der Matrikelnummer eines Mitglieds versehen ist. Also z.B. `mustermann_12345678.zip` "
   ]
  },
  {
   "cell_type": "code",
   "execution_count": 1,
   "metadata": {},
   "outputs": [],
   "source": [
    "import numpy as np\n",
    "import matplotlib.pyplot as plt\n",
    "import sklearn\n",
    "\n",
    "from utils import color1, color2, custom_cmap"
   ]
  },
  {
   "cell_type": "markdown",
   "metadata": {},
   "source": [
    "---"
   ]
  },
  {
   "cell_type": "markdown",
   "metadata": {},
   "source": [
    "## Aufgabe 1 (45%): K-Nearest-Neighbours/Logistic-Regression"
   ]
  },
  {
   "cell_type": "markdown",
   "metadata": {},
   "source": [
    "a) (5%) Laden Sie die Daten \"samples.npy\" und \"labels.npy\". Visualisieren Sie die Samples in einem Scatterplot mit den importierten Farben \"color1\" und \"color2\" für die verschiedenen Labels. "
   ]
  },
  {
   "cell_type": "code",
   "execution_count": null,
   "metadata": {},
   "outputs": [],
   "source": []
  },
  {
   "cell_type": "markdown",
   "metadata": {},
   "source": [
    "b) (5%) Fitten Sie einen KNeighborsClassifier Algorithmus von sklearn mit k=2 und berechnen Sie die Classification Accuracy "
   ]
  },
  {
   "cell_type": "code",
   "execution_count": null,
   "metadata": {},
   "outputs": [],
   "source": []
  },
  {
   "cell_type": "markdown",
   "metadata": {},
   "source": [
    "c) (15%) Plotten Sie in Ihre Figure von a) die gefitteten Klassifizierungs-Grenzen aus b). \n",
    "\n",
    "*Tipp: Erstellen Sie mit `np.meshgrid` ein Raster, von dem Sie dann jeden Punkt von Ihrem gefitteten KNeighborsClassifier klassifizieren lassen. Plotten Sie dann das Ergebnis mit plt.imshow. Als cmap können Sie die importierte \"custom_cmap\" nutzen.*"
   ]
  },
  {
   "cell_type": "code",
   "execution_count": null,
   "metadata": {},
   "outputs": [],
   "source": []
  },
  {
   "cell_type": "markdown",
   "metadata": {},
   "source": [
    "d) (5%) Sie werden kleine Inseln in den Klassifizierungs-Grenzen erkennen. Was ist der kleinste Wert von k, mit dem die Inseln verschwinden? Für welchen Wert von k ist die Accuracy am besten?"
   ]
  },
  {
   "cell_type": "code",
   "execution_count": null,
   "metadata": {},
   "outputs": [],
   "source": []
  },
  {
   "cell_type": "markdown",
   "metadata": {},
   "source": [
    "e) (5%) Laden Sie die Testdaten \"samples_test.npy\" und \"labels_test.npy\" und berechnen Sie auch hierfür die Accuracy. Was fällt Ihnen auf?"
   ]
  },
  {
   "cell_type": "code",
   "execution_count": null,
   "metadata": {},
   "outputs": [],
   "source": []
  },
  {
   "cell_type": "markdown",
   "metadata": {},
   "source": [
    "f) (10%) Fitten Sie die Daten nun mit einer LogisticRegression von sklearn und erstellen Sie auch hier den Plot aus c), einmal mit den kontinuierlichen Klassifizierungs-\"Grenzen\" und einmal mit den harten Grenzen (Threshold bei 0.5). Vergleichen Sie die die Trainings- und Test-Accuracies. Wie unterscheiden sich die Ergebnisse von denen Ihres KNeighborsClassifier?"
   ]
  },
  {
   "cell_type": "code",
   "execution_count": null,
   "metadata": {},
   "outputs": [],
   "source": []
  },
  {
   "cell_type": "markdown",
   "metadata": {},
   "source": [
    "---"
   ]
  },
  {
   "cell_type": "markdown",
   "metadata": {},
   "source": [
    "## Aufgabe 2 (55%): Cross Validation\n",
    "\n",
    "Nutzen Sie in dieser Aufgabe aus sklearn nur den KNeighborsClassifier. Sollten Sie bei einer Teilaufgabe nicht weiter kommen, können Sie auch weitere Funktionen aus sklearn nutzen, wie z.B. `train_test_split` oder `cross_val_score`. Dann aber selbstverständlich ohne die Punkte aus der jeweiligen Teilaufgabe zu erhalten."
   ]
  },
  {
   "cell_type": "markdown",
   "metadata": {},
   "source": [
    "a) (10%) Laden Sie die Daten \"ex2_samples.npy\" und \"ex2_labels.npy\" und visualisieren Sie sie wie in Aufgabe 1. Sie werden sehen, dass die Daten nicht mit einem linearen Classifier klassifizierbar sind. Schreiben Sie eine Funktion, die die Daten in ein anderes Koordinatensystem transformiert, in dem sie leichter zu klassifizieren sind. "
   ]
  },
  {
   "cell_type": "code",
   "execution_count": null,
   "metadata": {},
   "outputs": [],
   "source": []
  },
  {
   "cell_type": "markdown",
   "metadata": {},
   "source": [
    "b) (10%) Fitten Sie einen KNeighborsClassifier für verschiedene Werte von \"k\" auf den Trainingsdaten und berechnen Sie Accuracy für die Trainings- und Testdaten. Erstellen Sie einen Plot für \"k\" vs \"Accuracy\" für Trainings- und Test-Accuracy"
   ]
  },
  {
   "cell_type": "code",
   "execution_count": null,
   "metadata": {},
   "outputs": [],
   "source": []
  },
  {
   "cell_type": "markdown",
   "metadata": {},
   "source": [
    "c) (30%) Splitten Sie Ihre Trainingsdaten in verschiedene Trainings- und Validationsets und führen Sie CrossValidation durch, um den besten Wert für \"k\" zu finden. "
   ]
  },
  {
   "cell_type": "code",
   "execution_count": null,
   "metadata": {},
   "outputs": [],
   "source": []
  },
  {
   "cell_type": "markdown",
   "metadata": {},
   "source": [
    "d) (5%) Plotten Sie \"k\" vs \"CrossValidation Accuracy\" mit den zugehörigen Fehlerbalken. Stimmt ihr so ermittelter Wert für \"k\" mit dem zuvor bestimmten besten Wert für \"k\" an den Testdaten überein?"
   ]
  },
  {
   "cell_type": "code",
   "execution_count": null,
   "metadata": {},
   "outputs": [],
   "source": []
  },
  {
   "cell_type": "markdown",
   "metadata": {},
   "source": [
    "---"
   ]
  }
 ],
 "metadata": {
  "kernelspec": {
   "display_name": "Python 3",
   "language": "python",
   "name": "python3"
  },
  "language_info": {
   "codemirror_mode": {
    "name": "ipython",
    "version": 3
   },
   "file_extension": ".py",
   "mimetype": "text/x-python",
   "name": "python",
   "nbconvert_exporter": "python",
   "pygments_lexer": "ipython3",
   "version": "3.8.0"
  }
 },
 "nbformat": 4,
 "nbformat_minor": 4
}
