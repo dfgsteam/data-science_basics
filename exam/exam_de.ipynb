{
 "cells": [
  {
   "cell_type": "markdown",
   "metadata": {},
   "source": [
    "# Data Science I\n",
    "### Klausur I im Sommersemester 2024"
   ]
  },
  {
   "cell_type": "markdown",
   "metadata": {},
   "source": [
    "## Allgemeine Informationen\n",
    "\n",
    "* Sie haben eine Woche Zeit, um die Klausur zu bearbeiten.\n",
    "\n",
    "* Sie können alle Quellen verwenden, müssen sie jedoch korrekt benennen. Wenn Sie ChatGPT oder eine ähnliche Software verwenden, müssen Sie dies kenntlich machen und den verwendeten Prompt angeben.\n",
    "\n",
    "* Sie sollten die folgenden Pakete verwenden: `numpy, pandas, scipy, geopy, scikit-learn/sklearn, matplotlib, seborn, openPyxl` und Pythons Standardlibraries. Diese sind ausreichend, um die Klausur zu lösen. Falls Sie andere Pakete verwenden, rechtfertigen Sie deren Verwendung.\n",
    "\n",
    "* Der Code muss ausreichend kommentiert und verständlich sein. Schreiben Sie Funktionen beim Wiederverwenden von Code. Befolgen Sie im Allgemeinen die Richtlinien aus der Vorlesung. Punkte können aufgrund eines schlecht strukturierten oder unverständlichen Codes abgezogen werden.\n",
    "\n",
    "* **Begründen Sie Entscheidungen** zur Auswahl von Plots, Hypothesentest usw. und **interpretieren Sie** Ihre Ergebnisse.\n",
    "\n",
    "* Sie dürfen in keiner Form Hilfe oder Rat von Dritten in Anspruch nehmen.\n",
    "\n",
    "* Bitte laden Sie Ihre vollständige Lösung der Klausur als `.zip`-Datei mit dem Dateinamen `vorname_matrikelnummer.zip` bis 8. August 2024 um 12:00 Uhr auf StudIP in den Ordner `Submission - Exam 1` hoch.\n",
    "\n",
    "* Fügen Sie der `.zip` Datei auch die unterschriebene Eigenständigkeitserklärung hinzu.\n",
    "\n",
    "* Wenn Sie Fragen haben, kontaktieren Sie uns bitte rechtzeitig über Rocketchat."
   ]
  },
  {
   "cell_type": "code",
   "execution_count": 103,
   "metadata": {},
   "outputs": [],
   "source": [
    "# IMPORT LIBRARIES\n",
    "import numpy as np, pandas as pd, scipy, geopy, sklearn, matplotlib, seaborn, openpyxl, warnings, os \n",
    "\n",
    "warnings.filterwarnings(\"ignore\", category=UserWarning, module='openpyxl')\n",
    "\n",
    "#import numpy, pandas, scipy, geopy, sklearn, matplotlib, seaborn, openPyxl, scikit-learn"
   ]
  },
  {
   "cell_type": "markdown",
   "metadata": {},
   "source": [
    "## Aufgaben und Punkte:"
   ]
  },
  {
   "cell_type": "markdown",
   "metadata": {},
   "source": [
    "<table>\n",
    "  <thead>\n",
    "    <tr>\n",
    "      <th colspan=\"3\">Aufgabe 1 - Data Preprocessing</th>\n",
    "      <th colspan=\"2\">Aufgabe 2 - Plotting</th>\n",
    "      <th colspan=\"2\">Aufgabe 3 - Statistics</th>\n",
    "      <th colspan=\"2\">Aufgabe 4 - Machine Learning </th>\n",
    "    </tr>\n",
    "    <tr>\n",
    "      <th>Aufgabe 1.1</th>\n",
    "      <th>Aufgabe 1.2</th>\n",
    "      <th>Aufgabe 1.3</th>\n",
    "      <th>Aufgabe 2.1</th>\n",
    "      <th>Aufgabe 2.2</th>\n",
    "      <th>Aufgabe 3.1</th>\n",
    "      <th>Aufgabe 3.2</th>\n",
    "      <th>Aufgabe 4.1</th>\n",
    "      <th>Aufgabe 4.2</th>\n",
    "    </tr>\n",
    "  </thead>\n",
    "  <tbody>\n",
    "    <tr>\n",
    "      <td>10 Punkte </td>\n",
    "      <td>12 Punkte </td>\n",
    "      <td>2 Punkte </td>\n",
    "      <td>11 Punkte</td>\n",
    "      <td>27 Punkte </td>\n",
    "      <td>13 Punkte </td>\n",
    "      <td>5 Punkte </td>\n",
    "      <td>10 Punkte </td>\n",
    "      <td>10 Punkte </td>\n",
    "    </tr>\n",
    "    <!-- Add more rows as needed -->\n",
    "  </tbody>\n",
    "</table>\n"
   ]
  },
  {
   "cell_type": "markdown",
   "metadata": {},
   "source": [
    "_____\n",
    "## Aufgabe 0: Setup"
   ]
  },
  {
   "cell_type": "markdown",
   "metadata": {},
   "source": [
    "Der Klausurordner enthält ein `Dockerfile`, in dem alle relevanten Pakete definiert sind. Das `Dockerfile` baut auf dem Jupyter Server Image auf. Verwenden Sie dieses Dockerfile, um zuerst ein Docker Image zu erstellen und dann einen Docker Container von diesem Image zu starten. Benutzen Sie anschließend die Jupyter Server Instanz, um an der Klausur zu arbeiten. Wir empfehlen dringend, die Docker-Umgebung zu verwenden, um Versionskonflikte zwischen den verschiedenen Paketen zu vermeiden. Code, der in dieser Umgebung nicht ausführbar ist, wird als **nicht funktional** bewertet."
   ]
  },
  {
   "cell_type": "markdown",
   "metadata": {},
   "source": [
    "____\n",
    "## Aufgabe 1: Data Preprocessing (24 Punkte)"
   ]
  },
  {
   "cell_type": "markdown",
   "metadata": {},
   "source": [
    "### Datenbeschreibung\n",
    "\n",
    "Im Ordner `data` finden Sie die monatlichen Parkdaten der Stadt Göttingen für das Jahr 2023 (Feb.-Dez.). Die Parkschein-Verkäufe an den stationären Parkscheinautomaten befinden sich in den Dateien, deren Namen mit `Cale` beginnt, und die mit der Parkster-App gekauften Parkscheine befinden sich in den Dateien, deren Namen mit `Parkster` beginnen.<br>\n",
    "Die Datei `parkzone_latlong.csv` enthält weitere geografische Informationen zu den Parkzonen und die Datei `psa_latlong.csv` enthält geografische Informationen über die Parkscheinautomaten innerhalb der Parkzone.\n",
    "\n",
    "Die bereitgestellten Parkdaten sind echte Rohdaten und stammen direkt von der Stadt Göttingen. Wir haben lediglich die geografischen Informationen hinzugefügt.\n",
    "\n",
    "*Bitte beachten Sie:*\n",
    "- *Obwohl wir nur Daten von Februar bis Dezember haben, bezeichnen wir diese im Folgenden als jährlich.*\n",
    "- *Aufgrund der Größe der Daten sollten Sie Ihren Arbeitsspeicher effizient verwenden. Vermeiden Sie daher die Speicherung mehrerer Kopien desselben DataFrames.*"
   ]
  },
  {
   "cell_type": "markdown",
   "metadata": {},
   "source": [
    "#### Aufagbe 1.1 - Laden der Daten (10 Punkte)\n",
    "Laden Sie die Dateien für die Parkscheinautomaten (`Cale-*`) und für die App (`Parkster-*`) und fügen Sie diese **jeweils** zu einem Dataframe zusammen, der die jährlichen Verkäufe für Parkscheinautomaten und App beinhaltet. <br>\n",
    "Laden Sie auch die weiteren Informationen zu den Parkscheinautomaten (`psa_latlong.csv`) und Parkzonen (` parkzones_latlong.csv`).\n",
    "\n",
    "Sie werden die Werte `0` und `999` in der Spalte `Automaten -ID` für die Daten der Parkscheinautomaten finden. <br> Ändern Sie die `0`en in `1`en und löschen Sie alle Einträge mit `999`.\n",
    "Überprüfen Sie auch auf Zeilen-Duplikate und löschen Sie diese gegebenenfalls. "
   ]
  },
  {
   "cell_type": "code",
   "execution_count": 104,
   "metadata": {},
   "outputs": [
    {
     "name": "stdout",
     "output_type": "stream",
     "text": [
      "automaten start\n",
      "automaten finish\n",
      "----------------\n",
      "      Automat - Automaten ID Zahleinheit - Name     Knoten  \\\n",
      "0                       PA22              Münze  Göttingen   \n",
      "1                       PA18              Münze  Göttingen   \n",
      "2                       PA76              Münze  Göttingen   \n",
      "3                       PA67              Münze  Göttingen   \n",
      "4                       PA75              Münze  Göttingen   \n",
      "...                      ...                ...        ...   \n",
      "60723                   PA12              Münze  Göttingen   \n",
      "60724                   PA94              Münze  Göttingen   \n",
      "60725                   PA27              Münze  Göttingen   \n",
      "60726                   PA22              Münze  Göttingen   \n",
      "60727                   PA27              Münze  Göttingen   \n",
      "\n",
      "           Kaufdatum Lokal  Betrag Artikelname  Artikel ID Tarifpaket - Name  \\\n",
      "0      01.06.2023 00:24:24     6.0  Parkticket           0      Normalticket   \n",
      "1      01.06.2023 00:27:39     4.2  Parkticket           0      Normalticket   \n",
      "2      01.06.2023 00:36:00     1.0  Parkticket           0      Normalticket   \n",
      "3      01.06.2023 01:11:26     1.0  Parkticket           0      Normalticket   \n",
      "4      01.06.2023 02:17:35     3.5  Parkticket           0      Normalticket   \n",
      "...                    ...     ...         ...         ...               ...   \n",
      "60723  30.11.2023 21:36:45     7.0  Parkticket           0      Normalticket   \n",
      "60724  30.11.2023 22:36:37     7.0  Parkticket           0      Normalticket   \n",
      "60725  30.11.2023 22:51:12     5.0  Parkticket           0      Normalticket   \n",
      "60726  30.11.2023 22:53:03     5.3  Parkticket           0      Normalticket   \n",
      "60727  30.11.2023 23:19:09     4.0  Parkticket           0      Normalticket   \n",
      "\n",
      "       Maskierter PAN  Transaktionsreferenz  Ticket Nummer  \n",
      "0                 NaN                   NaN           4951  \n",
      "1                 NaN                   NaN           3650  \n",
      "2                 NaN                   NaN           4413  \n",
      "3                 NaN                   NaN            887  \n",
      "4                 NaN                   NaN           1699  \n",
      "...               ...                   ...            ...  \n",
      "60723             NaN                   NaN           3800  \n",
      "60724             NaN                   NaN           2773  \n",
      "60725             NaN                   NaN           1775  \n",
      "60726             NaN                   NaN            204  \n",
      "60727             NaN                   NaN           1776  \n",
      "\n",
      "[708570 rows x 11 columns]\n"
     ]
    }
   ],
   "source": [
    "# Load data for Parkscheinautomaten\n",
    "print(\"automaten start\")\n",
    "automaten_files = list(filter(lambda x: x.startswith('Cale-'), os.listdir('data')))\n",
    "automaten_df = pd.concat([pd.read_excel(f\"data/{file}\", skiprows=2) for file in automaten_files])\n",
    "#automaten_df = pd.concat([pd.read_excel(f\"data/{file}\") for file in automaten_files])\n",
    "print(\"automaten finish\\n----------------\")\n",
    "\n",
    "print(automaten_df)"
   ]
  },
  {
   "cell_type": "code",
   "execution_count": 105,
   "metadata": {},
   "outputs": [
    {
     "name": "stdout",
     "output_type": "stream",
     "text": [
      "app start\n",
      "app finish\n",
      "----------------\n",
      "       Parkzone             Erstellt                Start  \\\n",
      "0         37010  2023-02-28 08:00:27  2023-02-28 08:00:27   \n",
      "1         37010  2023-02-28 09:29:55  2023-02-28 09:29:55   \n",
      "2         37010  2023-02-28 15:18:57  2023-02-28 15:18:57   \n",
      "3         37005  2023-02-28 16:38:33  2023-02-28 16:38:33   \n",
      "4         37005  2023-02-28 16:45:17  2023-02-28 16:45:17   \n",
      "...         ...                  ...                  ...   \n",
      "32829     37108  2023-05-31 19:39:53  2023-05-31 19:39:53   \n",
      "32830     37204  2023-05-31 19:46:03  2023-05-31 19:46:03   \n",
      "32831     37104  2023-05-31 19:58:45  2023-05-31 19:58:45   \n",
      "32832     37001  2023-05-31 22:29:05  2023-05-31 22:29:05   \n",
      "32833     37001  2023-05-31 22:33:09  2023-05-31 22:33:09   \n",
      "\n",
      "                     Stopp Parkgebühren inkl. MwSt. in EUR     Status  \\\n",
      "0      2023-03-01 00:00:27                            4,00     normal   \n",
      "1      2023-03-01 09:29:55                            4,00     normal   \n",
      "2      2023-03-01 15:18:57                            4,00     normal   \n",
      "3      2023-03-01 10:20:00                            3,28     normal   \n",
      "4      2023-03-01 07:45:17                            1,57     normal   \n",
      "...                    ...                             ...        ...   \n",
      "32829  2023-05-31 20:17:27                             0.0     normal   \n",
      "32830  2023-05-31 19:52:59                             0.0     normal   \n",
      "32831  2023-05-31 23:43:53                             0.0     normal   \n",
      "32832  2023-05-31 22:29:38                             0.0  storniert   \n",
      "32833  2023-05-31 22:33:28                             0.0  storniert   \n",
      "\n",
      "      Parkscheinart  Zonencode Eigentümercode  \n",
      "0          Kurzzeit      37010                 \n",
      "1          Kurzzeit      37010                 \n",
      "2          Kurzzeit      37010                 \n",
      "3          Kurzzeit      37005                 \n",
      "4          Kurzzeit      37005                 \n",
      "...             ...        ...            ...  \n",
      "32829      Kurzzeit      37108                 \n",
      "32830      Kurzzeit      37204                 \n",
      "32831      Kurzzeit      37104                 \n",
      "32832      Kurzzeit      37001                 \n",
      "32833      Kurzzeit      37001                 \n",
      "\n",
      "[381307 rows x 9 columns]\n"
     ]
    }
   ],
   "source": [
    "# Load data for App\n",
    "print(\"app start\")\n",
    "app_files = list(filter(lambda x: x.startswith('Parkster-'), os.listdir('data')))\n",
    "app_df = pd.concat([pd.read_excel(f\"data/{file}\") for file in app_files])\n",
    "print(\"app finish\\n----------------\")\n",
    "\n",
    "print(app_df)"
   ]
  },
  {
   "cell_type": "code",
   "execution_count": 106,
   "metadata": {},
   "outputs": [
    {
     "name": "stdout",
     "output_type": "stream",
     "text": [
      "Parkscheinautomaten start\n",
      "Parkscheinautomaten finish\n",
      "----------------\n"
     ]
    },
    {
     "data": {
      "text/plain": [
       "Index(['PSA', 'location', 'latitude', 'longitude', 'zone'], dtype='object')"
      ]
     },
     "execution_count": 106,
     "metadata": {},
     "output_type": "execute_result"
    }
   ],
   "source": [
    "# Load data for Parkscheinautomaten information\n",
    "print(\"Parkscheinautomaten start\")\n",
    "psa_info_df = pd.read_csv('data/psa_latlong.csv')\n",
    "print(\"Parkscheinautomaten finish\\n----------------\")\n",
    "psa_info_df\n",
    "psa_info_df.columns"
   ]
  },
  {
   "cell_type": "code",
   "execution_count": 107,
   "metadata": {},
   "outputs": [
    {
     "name": "stdout",
     "output_type": "stream",
     "text": [
      "Parkzonen start\n",
      "Parkzonen finish\n",
      "----------------\n"
     ]
    }
   ],
   "source": [
    "# Load data for Parkzonen information\n",
    "print(\"Parkzonen start\")\n",
    "parkzone_info_df = pd.read_csv('data/parkzones_latlong.csv')\n",
    "print(\"Parkzonen finish\\n----------------\")"
   ]
  },
  {
   "cell_type": "code",
   "execution_count": 108,
   "metadata": {},
   "outputs": [
    {
     "name": "stdout",
     "output_type": "stream",
     "text": [
      "Index(['Automat - Automaten ID', 'Zahleinheit - Name', 'Knoten',\n",
      "       'Kaufdatum Lokal', 'Betrag', 'Artikelname', 'Artikel ID',\n",
      "       'Tarifpaket - Name', 'Maskierter PAN', 'Transaktionsreferenz',\n",
      "       'Ticket Nummer'],\n",
      "      dtype='object')\n"
     ]
    }
   ],
   "source": [
    "print(automaten_df.columns)\n"
   ]
  },
  {
   "cell_type": "code",
   "execution_count": 109,
   "metadata": {},
   "outputs": [
    {
     "name": "stdout",
     "output_type": "stream",
     "text": [
      "[0, 2, 3, 4, 5, 8, 9, 10, 11, 12, 13, 14, 15, 16, 17, 18, 19, 20, 21, 22, 23, 24, 25, 26, 27, 28, 29, 30, 31, 32, 33, 34, 35, 36, 37, 38, 39, 40, 41, 42, 43, 44, 45, 46, 47, 48, 49, 50, 51, 52, 53, 55, 58, 59, 60, 61, 62, 63, 64, 65, 66, 67, 68, 69, 70, 71, 72, 73, 75, 76, 77, 79, 80, 81, 82, 83, 84, 85, 86, 88, 89, 90, 91, 92, 93, 94, 95, 97, 99, 100, 101, 102, 103, 104, 105, 106, 107, 108, 109, 110, 111, 112, 113, 114, 115, 116, 117, 119, 121, 122, 123, 124, 125, 126, 128, 209, 210, 211, 212, 213, 214, 215, 216, 217, 218, 219, 220, 221, 222, 223, 224, 225, 226, 240, 241, 242, 243, 244, 245, 246, 247, 248, 249, 300, 301, 302, 303, 304, 305, 306, 307, 308, 309, 310, 311, 312, 313, 314, 315, 316, 317, 318, 319, 320, 321, 322, 323, 324, 325, 326, 328, 329, 330, 331, 332, 333, 334, 335, 336, 337, 338, 339, 340, 350, 351, 352, 353, 354, 355, 356, 357, 358, 359, 360, 361, 362, 999]\n"
     ]
    }
   ],
   "source": [
    "automaten_df['Automat - Automaten ID'] = automaten_df['Automat - Automaten ID'].str.replace(\"PA\", \"\").astype(int)\n",
    "\n",
    "sorted_unique_values = sorted(automaten_df['Automat - Automaten ID'].unique())\n",
    "print(sorted_unique_values)"
   ]
  },
  {
   "cell_type": "code",
   "execution_count": 110,
   "metadata": {},
   "outputs": [],
   "source": [
    "\n",
    "# Change 0s to 1s in Automaten -ID column\n",
    "automaten_df['Automat - Automaten ID'] = automaten_df['Automat - Automaten ID'].replace(0, 1)\n",
    "automaten_df = automaten_df[automaten_df['Automat - Automaten ID'] != 999]\n",
    "\n",
    "# Check for and drop duplicate rows\n",
    "automaten_df = automaten_df.drop_duplicates()\n",
    "app_df = app_df.drop_duplicates()"
   ]
  },
  {
   "cell_type": "code",
   "execution_count": 123,
   "metadata": {},
   "outputs": [
    {
     "name": "stdout",
     "output_type": "stream",
     "text": [
      "Automat - Automaten ID     object\n",
      "Zahleinheit - Name         object\n",
      "Knoten                     object\n",
      "Kaufdatum Lokal            object\n",
      "Betrag                    float64\n",
      "Artikelname                object\n",
      "Artikel ID                  int64\n",
      "Tarifpaket - Name          object\n",
      "Maskierter PAN            float64\n",
      "Transaktionsreferenz      float64\n",
      "Ticket Nummer               int64\n",
      "dtype: object\n",
      "PSA           object\n",
      "location      object\n",
      "latitude     float64\n",
      "longitude    float64\n",
      "zone           int64\n",
      "dtype: object\n"
     ]
    }
   ],
   "source": [
    "print(automaten_df.columns)\n",
    "\n",
    "print(app_df.columns)"
   ]
  },
  {
   "cell_type": "markdown",
   "metadata": {},
   "source": [
    "#### Aufgabe 1.2 - Zusammenführen und Formatieren (12 Punkte)\n",
    "Erstellen Sie einen DataFrame für beide Verkaufsarten, indem Sie die beiden zuvor erstellen DataFrames zusammenführen. Nutzen Sie dazu die Parkzonen Informationen *(in `parkzones_latlong.csv`)* und die Parkscheinautomatennummer *(in` pa_latlong.csv`)*. Stellen Sie sicher, dass sich in Ihrem DataFrame die geografischen Informationen für Parkscheinautomaten und Parkzonen befinden.\n",
    "Verwenden Sie die Spalten `Kaufdatum Lokal` und `Start` für das Kaufdatum, codieren Sie die Spalte als `datetime`-Objekt und verwenden Sie sie als Indexspalte. Stellen Sie außerdem sicher, dass die anderen Spalten ein angemessenes Datenformat haben.\n",
    "\n",
    "*Hinweis: Es ist zu erwarten, dass `Nan`-Werte für einige Spalten in den Zeilen zu Appkäufen auftauchen.*"
   ]
  },
  {
   "cell_type": "code",
   "execution_count": 112,
   "metadata": {},
   "outputs": [
    {
     "name": "stdout",
     "output_type": "stream",
     "text": [
      "Empty DataFrame\n",
      "Columns: [machine_ID, fee, category, street, latitude_machine, longitude_machine, zone, latitude_zone, longitude_zone]\n",
      "Index: []\n"
     ]
    }
   ],
   "source": [
    "data = {'machine_ID': pd.Int64Dtype(),\n",
    "    'fee': 'float64',\n",
    "    'category': 'object',\n",
    "    'street': 'object',\n",
    "    'latitude_machine': 'float64',\n",
    "    'longitude_machine': 'float64',\n",
    "    'zone': 'int64',\n",
    "    'latitude_zone': 'float64',\n",
    "    'longitude_zone': 'float64'}\n",
    "\n",
    "df = pd.DataFrame(columns=data.keys()).astype(data)\n",
    "\n",
    "print(df)"
   ]
  },
  {
   "cell_type": "code",
   "execution_count": 124,
   "metadata": {},
   "outputs": [
    {
     "name": "stdout",
     "output_type": "stream",
     "text": [
      "Automat - Automaten ID     object\n",
      "Zahleinheit - Name         object\n",
      "Knoten                     object\n",
      "Kaufdatum Lokal            object\n",
      "Betrag                    float64\n",
      "Artikelname                object\n",
      "Artikel ID                  int64\n",
      "Tarifpaket - Name          object\n",
      "Maskierter PAN            float64\n",
      "Transaktionsreferenz      float64\n",
      "Ticket Nummer               int64\n",
      "dtype: object\n",
      "PSA           object\n",
      "location      object\n",
      "latitude     float64\n",
      "longitude    float64\n",
      "zone           int64\n",
      "dtype: object\n"
     ]
    }
   ],
   "source": [
    "print(automaten_df.dtypes)\n",
    "\n",
    "print(psa_info_df.dtypes)"
   ]
  },
  {
   "cell_type": "code",
   "execution_count": 114,
   "metadata": {},
   "outputs": [],
   "source": [
    "automaten_df['Automat - Automaten ID'] = automaten_df['Automat - Automaten ID'].astype(str)\n",
    "psa_info_df['PSA'] = psa_info_df['PSA'].astype(str)\n",
    "merged_df = pd.merge(automaten_df, psa_info_df, left_on='Automat - Automaten ID', right_on='PSA')"
   ]
  },
  {
   "cell_type": "markdown",
   "metadata": {},
   "source": [
    "#### Aufgabe 1.2 - Zusammenführen und Formatieren (12 Punkte)\n",
    "Erstellen Sie einen DataFrame für beide Verkaufsarten, indem Sie die beiden zuvor erstellen DataFrames zusammenführen. Nutzen Sie dazu die Parkzonen Informationen *(in `parkzones_latlong.csv`)* und die Parkscheinautomatennummer *(in` pa_latlong.csv`)*. Stellen Sie sicher, dass sich in Ihrem DataFrame die geografischen Informationen für Parkscheinautomaten und Parkzonen befinden.\n",
    "Verwenden Sie die Spalten `Kaufdatum Lokal` und `Start` für das Kaufdatum, codieren Sie die Spalte als `datetime`-Objekt und verwenden Sie sie als Indexspalte. Stellen Sie außerdem sicher, dass die anderen Spalten ein angemessenes Datenformat haben.\n",
    "\n",
    "*Hinweis: Es ist zu erwarten, dass `Nan`-Werte für einige Spalten in den Zeilen zu Appkäufen auftauchen.*"
   ]
  },
  {
   "cell_type": "code",
   "execution_count": 115,
   "metadata": {},
   "outputs": [
    {
     "data": {
      "text/html": [
       "<div>\n",
       "<style scoped>\n",
       "    .dataframe tbody tr th:only-of-type {\n",
       "        vertical-align: middle;\n",
       "    }\n",
       "\n",
       "    .dataframe tbody tr th {\n",
       "        vertical-align: top;\n",
       "    }\n",
       "\n",
       "    .dataframe thead th {\n",
       "        text-align: right;\n",
       "    }\n",
       "</style>\n",
       "<table border=\"1\" class=\"dataframe\">\n",
       "  <thead>\n",
       "    <tr style=\"text-align: right;\">\n",
       "      <th></th>\n",
       "      <th>Automat - Automaten ID</th>\n",
       "      <th>Zahleinheit - Name</th>\n",
       "      <th>Knoten</th>\n",
       "      <th>Kaufdatum Lokal</th>\n",
       "      <th>Betrag</th>\n",
       "      <th>Artikelname</th>\n",
       "      <th>Artikel ID</th>\n",
       "      <th>Tarifpaket - Name</th>\n",
       "      <th>Maskierter PAN</th>\n",
       "      <th>Transaktionsreferenz</th>\n",
       "      <th>Ticket Nummer</th>\n",
       "      <th>PSA</th>\n",
       "      <th>location</th>\n",
       "      <th>latitude</th>\n",
       "      <th>longitude</th>\n",
       "      <th>zone</th>\n",
       "    </tr>\n",
       "  </thead>\n",
       "  <tbody>\n",
       "    <tr>\n",
       "      <th>0</th>\n",
       "      <td>22</td>\n",
       "      <td>Münze</td>\n",
       "      <td>Göttingen</td>\n",
       "      <td>01.06.2023 00:24:24</td>\n",
       "      <td>6.0</td>\n",
       "      <td>Parkticket</td>\n",
       "      <td>0</td>\n",
       "      <td>Normalticket</td>\n",
       "      <td>NaN</td>\n",
       "      <td>NaN</td>\n",
       "      <td>4951</td>\n",
       "      <td>22</td>\n",
       "      <td>Hospitalstraße / Nikolaistraße</td>\n",
       "      <td>51.530052</td>\n",
       "      <td>9.932900</td>\n",
       "      <td>37001</td>\n",
       "    </tr>\n",
       "    <tr>\n",
       "      <th>1</th>\n",
       "      <td>18</td>\n",
       "      <td>Münze</td>\n",
       "      <td>Göttingen</td>\n",
       "      <td>01.06.2023 00:27:39</td>\n",
       "      <td>4.2</td>\n",
       "      <td>Parkticket</td>\n",
       "      <td>0</td>\n",
       "      <td>Normalticket</td>\n",
       "      <td>NaN</td>\n",
       "      <td>NaN</td>\n",
       "      <td>3650</td>\n",
       "      <td>18</td>\n",
       "      <td>Goethe-Allee / Neustadt</td>\n",
       "      <td>51.534737</td>\n",
       "      <td>9.930044</td>\n",
       "      <td>37001</td>\n",
       "    </tr>\n",
       "    <tr>\n",
       "      <th>2</th>\n",
       "      <td>76</td>\n",
       "      <td>Münze</td>\n",
       "      <td>Göttingen</td>\n",
       "      <td>01.06.2023 00:36:00</td>\n",
       "      <td>1.0</td>\n",
       "      <td>Parkticket</td>\n",
       "      <td>0</td>\n",
       "      <td>Normalticket</td>\n",
       "      <td>NaN</td>\n",
       "      <td>NaN</td>\n",
       "      <td>4413</td>\n",
       "      <td>76</td>\n",
       "      <td>Neustadt</td>\n",
       "      <td>51.533328</td>\n",
       "      <td>9.929891</td>\n",
       "      <td>37001</td>\n",
       "    </tr>\n",
       "    <tr>\n",
       "      <th>3</th>\n",
       "      <td>67</td>\n",
       "      <td>Münze</td>\n",
       "      <td>Göttingen</td>\n",
       "      <td>01.06.2023 01:11:26</td>\n",
       "      <td>1.0</td>\n",
       "      <td>Parkticket</td>\n",
       "      <td>0</td>\n",
       "      <td>Normalticket</td>\n",
       "      <td>NaN</td>\n",
       "      <td>NaN</td>\n",
       "      <td>887</td>\n",
       "      <td>67</td>\n",
       "      <td>Lotzestraße</td>\n",
       "      <td>51.528634</td>\n",
       "      <td>9.934190</td>\n",
       "      <td>37005</td>\n",
       "    </tr>\n",
       "    <tr>\n",
       "      <th>4</th>\n",
       "      <td>75</td>\n",
       "      <td>Münze</td>\n",
       "      <td>Göttingen</td>\n",
       "      <td>01.06.2023 02:17:35</td>\n",
       "      <td>3.5</td>\n",
       "      <td>Parkticket</td>\n",
       "      <td>0</td>\n",
       "      <td>Normalticket</td>\n",
       "      <td>NaN</td>\n",
       "      <td>NaN</td>\n",
       "      <td>1699</td>\n",
       "      <td>75</td>\n",
       "      <td>Geiststraße</td>\n",
       "      <td>51.534089</td>\n",
       "      <td>9.928669</td>\n",
       "      <td>37001</td>\n",
       "    </tr>\n",
       "    <tr>\n",
       "      <th>...</th>\n",
       "      <td>...</td>\n",
       "      <td>...</td>\n",
       "      <td>...</td>\n",
       "      <td>...</td>\n",
       "      <td>...</td>\n",
       "      <td>...</td>\n",
       "      <td>...</td>\n",
       "      <td>...</td>\n",
       "      <td>...</td>\n",
       "      <td>...</td>\n",
       "      <td>...</td>\n",
       "      <td>...</td>\n",
       "      <td>...</td>\n",
       "      <td>...</td>\n",
       "      <td>...</td>\n",
       "      <td>...</td>\n",
       "    </tr>\n",
       "    <tr>\n",
       "      <th>708563</th>\n",
       "      <td>12</td>\n",
       "      <td>Münze</td>\n",
       "      <td>Göttingen</td>\n",
       "      <td>30.11.2023 21:36:45</td>\n",
       "      <td>7.0</td>\n",
       "      <td>Parkticket</td>\n",
       "      <td>0</td>\n",
       "      <td>Normalticket</td>\n",
       "      <td>NaN</td>\n",
       "      <td>NaN</td>\n",
       "      <td>3800</td>\n",
       "      <td>12</td>\n",
       "      <td>Theaterstraße</td>\n",
       "      <td>51.535157</td>\n",
       "      <td>9.938049</td>\n",
       "      <td>37001</td>\n",
       "    </tr>\n",
       "    <tr>\n",
       "      <th>708564</th>\n",
       "      <td>94</td>\n",
       "      <td>Münze</td>\n",
       "      <td>Göttingen</td>\n",
       "      <td>30.11.2023 22:36:37</td>\n",
       "      <td>7.0</td>\n",
       "      <td>Parkticket</td>\n",
       "      <td>0</td>\n",
       "      <td>Normalticket</td>\n",
       "      <td>NaN</td>\n",
       "      <td>NaN</td>\n",
       "      <td>2773</td>\n",
       "      <td>94</td>\n",
       "      <td>Friedrichstraße</td>\n",
       "      <td>51.534008</td>\n",
       "      <td>9.938433</td>\n",
       "      <td>37001</td>\n",
       "    </tr>\n",
       "    <tr>\n",
       "      <th>708565</th>\n",
       "      <td>27</td>\n",
       "      <td>Münze</td>\n",
       "      <td>Göttingen</td>\n",
       "      <td>30.11.2023 22:51:12</td>\n",
       "      <td>5.0</td>\n",
       "      <td>Parkticket</td>\n",
       "      <td>0</td>\n",
       "      <td>Normalticket</td>\n",
       "      <td>NaN</td>\n",
       "      <td>NaN</td>\n",
       "      <td>1775</td>\n",
       "      <td>27</td>\n",
       "      <td>Albanikirchhof</td>\n",
       "      <td>51.531921</td>\n",
       "      <td>9.942705</td>\n",
       "      <td>37001</td>\n",
       "    </tr>\n",
       "    <tr>\n",
       "      <th>708566</th>\n",
       "      <td>22</td>\n",
       "      <td>Münze</td>\n",
       "      <td>Göttingen</td>\n",
       "      <td>30.11.2023 22:53:03</td>\n",
       "      <td>5.3</td>\n",
       "      <td>Parkticket</td>\n",
       "      <td>0</td>\n",
       "      <td>Normalticket</td>\n",
       "      <td>NaN</td>\n",
       "      <td>NaN</td>\n",
       "      <td>204</td>\n",
       "      <td>22</td>\n",
       "      <td>Hospitalstraße / Nikolaistraße</td>\n",
       "      <td>51.530052</td>\n",
       "      <td>9.932900</td>\n",
       "      <td>37001</td>\n",
       "    </tr>\n",
       "    <tr>\n",
       "      <th>708567</th>\n",
       "      <td>27</td>\n",
       "      <td>Münze</td>\n",
       "      <td>Göttingen</td>\n",
       "      <td>30.11.2023 23:19:09</td>\n",
       "      <td>4.0</td>\n",
       "      <td>Parkticket</td>\n",
       "      <td>0</td>\n",
       "      <td>Normalticket</td>\n",
       "      <td>NaN</td>\n",
       "      <td>NaN</td>\n",
       "      <td>1776</td>\n",
       "      <td>27</td>\n",
       "      <td>Albanikirchhof</td>\n",
       "      <td>51.531921</td>\n",
       "      <td>9.942705</td>\n",
       "      <td>37001</td>\n",
       "    </tr>\n",
       "  </tbody>\n",
       "</table>\n",
       "<p>708568 rows × 16 columns</p>\n",
       "</div>"
      ],
      "text/plain": [
       "       Automat - Automaten ID Zahleinheit - Name     Knoten  \\\n",
       "0                          22              Münze  Göttingen   \n",
       "1                          18              Münze  Göttingen   \n",
       "2                          76              Münze  Göttingen   \n",
       "3                          67              Münze  Göttingen   \n",
       "4                          75              Münze  Göttingen   \n",
       "...                       ...                ...        ...   \n",
       "708563                     12              Münze  Göttingen   \n",
       "708564                     94              Münze  Göttingen   \n",
       "708565                     27              Münze  Göttingen   \n",
       "708566                     22              Münze  Göttingen   \n",
       "708567                     27              Münze  Göttingen   \n",
       "\n",
       "            Kaufdatum Lokal  Betrag Artikelname  Artikel ID Tarifpaket - Name  \\\n",
       "0       01.06.2023 00:24:24     6.0  Parkticket           0      Normalticket   \n",
       "1       01.06.2023 00:27:39     4.2  Parkticket           0      Normalticket   \n",
       "2       01.06.2023 00:36:00     1.0  Parkticket           0      Normalticket   \n",
       "3       01.06.2023 01:11:26     1.0  Parkticket           0      Normalticket   \n",
       "4       01.06.2023 02:17:35     3.5  Parkticket           0      Normalticket   \n",
       "...                     ...     ...         ...         ...               ...   \n",
       "708563  30.11.2023 21:36:45     7.0  Parkticket           0      Normalticket   \n",
       "708564  30.11.2023 22:36:37     7.0  Parkticket           0      Normalticket   \n",
       "708565  30.11.2023 22:51:12     5.0  Parkticket           0      Normalticket   \n",
       "708566  30.11.2023 22:53:03     5.3  Parkticket           0      Normalticket   \n",
       "708567  30.11.2023 23:19:09     4.0  Parkticket           0      Normalticket   \n",
       "\n",
       "        Maskierter PAN  Transaktionsreferenz  Ticket Nummer PSA  \\\n",
       "0                  NaN                   NaN           4951  22   \n",
       "1                  NaN                   NaN           3650  18   \n",
       "2                  NaN                   NaN           4413  76   \n",
       "3                  NaN                   NaN            887  67   \n",
       "4                  NaN                   NaN           1699  75   \n",
       "...                ...                   ...            ...  ..   \n",
       "708563             NaN                   NaN           3800  12   \n",
       "708564             NaN                   NaN           2773  94   \n",
       "708565             NaN                   NaN           1775  27   \n",
       "708566             NaN                   NaN            204  22   \n",
       "708567             NaN                   NaN           1776  27   \n",
       "\n",
       "                              location   latitude  longitude   zone  \n",
       "0       Hospitalstraße / Nikolaistraße  51.530052   9.932900  37001  \n",
       "1              Goethe-Allee / Neustadt  51.534737   9.930044  37001  \n",
       "2                             Neustadt  51.533328   9.929891  37001  \n",
       "3                          Lotzestraße  51.528634   9.934190  37005  \n",
       "4                          Geiststraße  51.534089   9.928669  37001  \n",
       "...                                ...        ...        ...    ...  \n",
       "708563                   Theaterstraße  51.535157   9.938049  37001  \n",
       "708564                 Friedrichstraße  51.534008   9.938433  37001  \n",
       "708565                  Albanikirchhof  51.531921   9.942705  37001  \n",
       "708566  Hospitalstraße / Nikolaistraße  51.530052   9.932900  37001  \n",
       "708567                  Albanikirchhof  51.531921   9.942705  37001  \n",
       "\n",
       "[708568 rows x 16 columns]"
      ]
     },
     "execution_count": 115,
     "metadata": {},
     "output_type": "execute_result"
    }
   ],
   "source": [
    "automaten_merged_df = pd.merge(automaten_df, psa_info_df, left_on='Automat - Automaten ID', right_on='PSA')\n",
    "\n",
    "automaten_merged_df"
   ]
  },
  {
   "cell_type": "code",
   "execution_count": 116,
   "metadata": {},
   "outputs": [
    {
     "ename": "SyntaxError",
     "evalue": "invalid syntax (2363472853.py, line 1)",
     "output_type": "error",
     "traceback": [
      "\u001b[0;36m  Cell \u001b[0;32mIn[116], line 1\u001b[0;36m\u001b[0m\n\u001b[0;31m    merge values from automaten_df into data.\u001b[0m\n\u001b[0m          ^\u001b[0m\n\u001b[0;31mSyntaxError\u001b[0m\u001b[0;31m:\u001b[0m invalid syntax\n"
     ]
    }
   ],
   "source": [
    "merge values from automaten_df into data. \n",
    "machine_ID = Automat - Automaten ID\n",
    "fee = Betrag\n",
    "category = \"machine\"\n",
    "street = psa_info_df[Automat - Automaten ID][\"location\"]\n",
    "latitude_machine = psa_info_df[Automat - Automaten ID][\"latitude\"]\n",
    "longitude_machine = psa_info_df[Automat - Automaten ID][\"longitude\"]\n",
    "zone = psa_info_df[Automat - Automaten ID][\"zone\"]\n",
    "latitude_zone = null\n",
    "longitude_zone = null"
   ]
  },
  {
   "cell_type": "code",
   "execution_count": null,
   "metadata": {},
   "outputs": [],
   "source": [
    "automaten_df\n",
    "'Automat - Automaten ID' -> machine_ID \n",
    "'Zahleinheit - Name', \n",
    "'Knoten',\n",
    "'Kaufdatum Lokal'\n",
    "       \n",
    "'Betrag', 'Artikelname' -> fee\n",
    "'Artikel ID',\n",
    "       'Tarifpaket - Name', 'Maskierter PAN', 'Transaktionsreferenz',\n",
    "       'Ticket Nummer']"
   ]
  },
  {
   "cell_type": "markdown",
   "metadata": {},
   "source": [
    "#### Aufgabe 1.3 - DataFrame Check (2 Punkte)\n",
    "Der bereinigte und vollständige DataFrame für die folgenden Aufgaben sollte der Datei `data/clean_dataframe.csv` entsprechen, der wie folgt eingelesen werden kann:"
   ]
  },
  {
   "cell_type": "code",
   "execution_count": null,
   "metadata": {},
   "outputs": [
    {
     "data": {
      "text/html": [
       "<div>\n",
       "<style scoped>\n",
       "    .dataframe tbody tr th:only-of-type {\n",
       "        vertical-align: middle;\n",
       "    }\n",
       "\n",
       "    .dataframe tbody tr th {\n",
       "        vertical-align: top;\n",
       "    }\n",
       "\n",
       "    .dataframe thead th {\n",
       "        text-align: right;\n",
       "    }\n",
       "</style>\n",
       "<table border=\"1\" class=\"dataframe\">\n",
       "  <thead>\n",
       "    <tr style=\"text-align: right;\">\n",
       "      <th></th>\n",
       "      <th>machine_ID</th>\n",
       "      <th>fee</th>\n",
       "      <th>category</th>\n",
       "      <th>street</th>\n",
       "      <th>latitude_machine</th>\n",
       "      <th>longitude_machine</th>\n",
       "      <th>zone</th>\n",
       "      <th>latitude_zone</th>\n",
       "      <th>longitude_zone</th>\n",
       "    </tr>\n",
       "    <tr>\n",
       "      <th>time</th>\n",
       "      <th></th>\n",
       "      <th></th>\n",
       "      <th></th>\n",
       "      <th></th>\n",
       "      <th></th>\n",
       "      <th></th>\n",
       "      <th></th>\n",
       "      <th></th>\n",
       "      <th></th>\n",
       "    </tr>\n",
       "  </thead>\n",
       "  <tbody>\n",
       "    <tr>\n",
       "      <th>2023-06-01 00:24:24</th>\n",
       "      <td>22</td>\n",
       "      <td>6.00</td>\n",
       "      <td>machine</td>\n",
       "      <td>Hospitalstraße / Nikolaistraße</td>\n",
       "      <td>51.530052</td>\n",
       "      <td>9.9329</td>\n",
       "      <td>37001</td>\n",
       "      <td>51.534248</td>\n",
       "      <td>9.936501</td>\n",
       "    </tr>\n",
       "    <tr>\n",
       "      <th>2023-06-01 07:55:05</th>\n",
       "      <td>22</td>\n",
       "      <td>1.70</td>\n",
       "      <td>machine</td>\n",
       "      <td>Hospitalstraße / Nikolaistraße</td>\n",
       "      <td>51.530052</td>\n",
       "      <td>9.9329</td>\n",
       "      <td>37001</td>\n",
       "      <td>51.534248</td>\n",
       "      <td>9.936501</td>\n",
       "    </tr>\n",
       "    <tr>\n",
       "      <th>2023-06-01 08:32:13</th>\n",
       "      <td>22</td>\n",
       "      <td>1.60</td>\n",
       "      <td>machine</td>\n",
       "      <td>Hospitalstraße / Nikolaistraße</td>\n",
       "      <td>51.530052</td>\n",
       "      <td>9.9329</td>\n",
       "      <td>37001</td>\n",
       "      <td>51.534248</td>\n",
       "      <td>9.936501</td>\n",
       "    </tr>\n",
       "    <tr>\n",
       "      <th>2023-06-01 08:57:03</th>\n",
       "      <td>22</td>\n",
       "      <td>1.70</td>\n",
       "      <td>machine</td>\n",
       "      <td>Hospitalstraße / Nikolaistraße</td>\n",
       "      <td>51.530052</td>\n",
       "      <td>9.9329</td>\n",
       "      <td>37001</td>\n",
       "      <td>51.534248</td>\n",
       "      <td>9.936501</td>\n",
       "    </tr>\n",
       "    <tr>\n",
       "      <th>2023-06-01 09:07:49</th>\n",
       "      <td>22</td>\n",
       "      <td>1.00</td>\n",
       "      <td>machine</td>\n",
       "      <td>Hospitalstraße / Nikolaistraße</td>\n",
       "      <td>51.530052</td>\n",
       "      <td>9.9329</td>\n",
       "      <td>37001</td>\n",
       "      <td>51.534248</td>\n",
       "      <td>9.936501</td>\n",
       "    </tr>\n",
       "    <tr>\n",
       "      <th>...</th>\n",
       "      <td>...</td>\n",
       "      <td>...</td>\n",
       "      <td>...</td>\n",
       "      <td>...</td>\n",
       "      <td>...</td>\n",
       "      <td>...</td>\n",
       "      <td>...</td>\n",
       "      <td>...</td>\n",
       "      <td>...</td>\n",
       "    </tr>\n",
       "    <tr>\n",
       "      <th>2023-05-09 16:56:17</th>\n",
       "      <td>&lt;NA&gt;</td>\n",
       "      <td>0.00</td>\n",
       "      <td>app</td>\n",
       "      <td>NaN</td>\n",
       "      <td>NaN</td>\n",
       "      <td>NaN</td>\n",
       "      <td>37209</td>\n",
       "      <td>51.528850</td>\n",
       "      <td>9.936085</td>\n",
       "    </tr>\n",
       "    <tr>\n",
       "      <th>2023-05-20 11:26:25</th>\n",
       "      <td>&lt;NA&gt;</td>\n",
       "      <td>1.09</td>\n",
       "      <td>app</td>\n",
       "      <td>NaN</td>\n",
       "      <td>NaN</td>\n",
       "      <td>NaN</td>\n",
       "      <td>37209</td>\n",
       "      <td>51.528850</td>\n",
       "      <td>9.936085</td>\n",
       "    </tr>\n",
       "    <tr>\n",
       "      <th>2023-05-23 10:11:27</th>\n",
       "      <td>&lt;NA&gt;</td>\n",
       "      <td>0.00</td>\n",
       "      <td>app</td>\n",
       "      <td>NaN</td>\n",
       "      <td>NaN</td>\n",
       "      <td>NaN</td>\n",
       "      <td>37209</td>\n",
       "      <td>51.528850</td>\n",
       "      <td>9.936085</td>\n",
       "    </tr>\n",
       "    <tr>\n",
       "      <th>2023-05-24 15:56:01</th>\n",
       "      <td>&lt;NA&gt;</td>\n",
       "      <td>0.00</td>\n",
       "      <td>app</td>\n",
       "      <td>NaN</td>\n",
       "      <td>NaN</td>\n",
       "      <td>NaN</td>\n",
       "      <td>37209</td>\n",
       "      <td>51.528850</td>\n",
       "      <td>9.936085</td>\n",
       "    </tr>\n",
       "    <tr>\n",
       "      <th>2023-05-27 10:28:19</th>\n",
       "      <td>&lt;NA&gt;</td>\n",
       "      <td>0.50</td>\n",
       "      <td>app</td>\n",
       "      <td>NaN</td>\n",
       "      <td>NaN</td>\n",
       "      <td>NaN</td>\n",
       "      <td>37209</td>\n",
       "      <td>51.528850</td>\n",
       "      <td>9.936085</td>\n",
       "    </tr>\n",
       "  </tbody>\n",
       "</table>\n",
       "<p>14126315 rows × 9 columns</p>\n",
       "</div>"
      ],
      "text/plain": [
       "                     machine_ID   fee category  \\\n",
       "time                                             \n",
       "2023-06-01 00:24:24          22  6.00  machine   \n",
       "2023-06-01 07:55:05          22  1.70  machine   \n",
       "2023-06-01 08:32:13          22  1.60  machine   \n",
       "2023-06-01 08:57:03          22  1.70  machine   \n",
       "2023-06-01 09:07:49          22  1.00  machine   \n",
       "...                         ...   ...      ...   \n",
       "2023-05-09 16:56:17        <NA>  0.00      app   \n",
       "2023-05-20 11:26:25        <NA>  1.09      app   \n",
       "2023-05-23 10:11:27        <NA>  0.00      app   \n",
       "2023-05-24 15:56:01        <NA>  0.00      app   \n",
       "2023-05-27 10:28:19        <NA>  0.50      app   \n",
       "\n",
       "                                             street  latitude_machine  \\\n",
       "time                                                                    \n",
       "2023-06-01 00:24:24  Hospitalstraße / Nikolaistraße         51.530052   \n",
       "2023-06-01 07:55:05  Hospitalstraße / Nikolaistraße         51.530052   \n",
       "2023-06-01 08:32:13  Hospitalstraße / Nikolaistraße         51.530052   \n",
       "2023-06-01 08:57:03  Hospitalstraße / Nikolaistraße         51.530052   \n",
       "2023-06-01 09:07:49  Hospitalstraße / Nikolaistraße         51.530052   \n",
       "...                                             ...               ...   \n",
       "2023-05-09 16:56:17                             NaN               NaN   \n",
       "2023-05-20 11:26:25                             NaN               NaN   \n",
       "2023-05-23 10:11:27                             NaN               NaN   \n",
       "2023-05-24 15:56:01                             NaN               NaN   \n",
       "2023-05-27 10:28:19                             NaN               NaN   \n",
       "\n",
       "                     longitude_machine   zone  latitude_zone  longitude_zone  \n",
       "time                                                                          \n",
       "2023-06-01 00:24:24             9.9329  37001      51.534248        9.936501  \n",
       "2023-06-01 07:55:05             9.9329  37001      51.534248        9.936501  \n",
       "2023-06-01 08:32:13             9.9329  37001      51.534248        9.936501  \n",
       "2023-06-01 08:57:03             9.9329  37001      51.534248        9.936501  \n",
       "2023-06-01 09:07:49             9.9329  37001      51.534248        9.936501  \n",
       "...                                ...    ...            ...             ...  \n",
       "2023-05-09 16:56:17                NaN  37209      51.528850        9.936085  \n",
       "2023-05-20 11:26:25                NaN  37209      51.528850        9.936085  \n",
       "2023-05-23 10:11:27                NaN  37209      51.528850        9.936085  \n",
       "2023-05-24 15:56:01                NaN  37209      51.528850        9.936085  \n",
       "2023-05-27 10:28:19                NaN  37209      51.528850        9.936085  \n",
       "\n",
       "[14126315 rows x 9 columns]"
      ]
     },
     "execution_count": 76,
     "metadata": {},
     "output_type": "execute_result"
    }
   ],
   "source": [
    "pd.read_csv('data/clean_dataframe.csv', parse_dates=['time'], index_col='time', dtype={'machine_ID': 'Int64', \n",
    "                                                                           'fee': 'float64', \n",
    "                                                                           'category': 'object', \n",
    "                                                                           'street': 'object', \n",
    "                                                                           'latitude_machine': 'float64', \n",
    "                                                                           'longitude_machine': 'float64', \n",
    "                                                                           'zone': 'int64', \n",
    "                                                                           'latitude_zone': 'float64', \n",
    "                                                                           'longitude_zone': 'float64'})"
   ]
  },
  {
   "cell_type": "markdown",
   "metadata": {},
   "source": [
    "Stellen Sie sicher, dass Ihr DataFrame mit `clean_dataframe.csv` übereinstimmt. Verwenden Sie dazu die Funktion [`pandas.DataFrame.equals`](https://pandas.pydata.org/docs/reference/api/pandas.dataframe.equals.html).\n",
    "\n",
    "Sollte `pandas.DataFrame.equals` nach Ihren Anpassungen nicht `True` zurückgeben, arbeiten Sie bitte mit `clean_dataframe.csv` weiter und geben Sie dies in einer Markdown-Zelle an. In diesem Fall erhalten Sie keine Punkte für die Teilaufgabe 1.3."
   ]
  },
  {
   "cell_type": "markdown",
   "metadata": {},
   "source": [
    "_____\n",
    "## Aufgabe 2: Plotting (38 Punkte)\n",
    "\n"
   ]
  },
  {
   "cell_type": "markdown",
   "metadata": {},
   "source": [
    "### Aufgabe 2.1 - Analyse der Parkscheinautomaten (11 Punkte)\n",
    "Die Stadt Göttingen möchte einen Überblick über die Umsätze der einzelnen **Parkscheinautomaten** erhalten und stellt Sie für eine anfängliche explorative Analyse des Verkaufsvolumens und der geografischen Anordnung der Automaten ein."
   ]
  },
  {
   "cell_type": "markdown",
   "metadata": {},
   "source": [
    "#### 2.1.1 (6 Punkte)\n",
    "Finden Sie die fünf umsatzstärksten Parkscheinautomaten im Jahr 2023 und visualisieren Sie den **wöchentlichen** Umsatz im Laufe des Jahres."
   ]
  },
  {
   "cell_type": "markdown",
   "metadata": {},
   "source": [
    "#### 2.1.2 (5 Punkte)\n",
    "Der Standort der Parkscheinautomaten könnte auch einen Einfluss auf deren Umsatz haben.\n",
    "\n",
    "Machen Sie sich mit der Funktion `plot_map` aus der Bibliothek `dsplotter` vertraut. Verwenden Sie die Funktion, um den jährlichen Umsatz für jeden Automaten auf einer Karte zu visualisieren. Machen Sie die Farbe **und** den Radius der Standortmarkierung abhängig vom jährlichen Umsatz. Was haben Automaten mit einem hohen jährlichen Umsatz gemeinsam?"
   ]
  },
  {
   "cell_type": "markdown",
   "metadata": {},
   "source": [
    "### Aufgabe 2.2 - Analyse der Automaten- und Appnutzung pro Parkzone (27 Punkte)\n",
    "Im Rahmen der Digitalisierungsinitiative der Stadt wurde die Parkster-App vor einigen Jahren als Alternative zu Parkscheinautomaten eingeführt.\n",
    "Bisher wurden nur die Parkscheinautomaten in die Analyse eingeschlossen und daher einen Großteil des Ticketverkaufs, der über die App stattfand, nicht beachtet.\n",
    "\n",
    "Die Stadt möchte für 2023 eine erste visuelle Analyse der Akzeptanz der App in den einzelnen Parkzonen durchführen und anschließend den gesamten Umsatz analysieren.\n",
    "\n",
    "*Hinweis: Beachten Sie, dass wir die Umsätze aus der Appnutzung nur einschließen können, indem wir die Gesamtauswertung auf Ebene der Parkzonen durchführen.*"
   ]
  },
  {
   "cell_type": "markdown",
   "metadata": {},
   "source": [
    "#### 2.2.1 (6 Punkte)\n",
    "Bevorzugen Parkende die App- oder die Parkscheinautomatennutzung? \n",
    "\n",
    "Verwenden Sie einen geeigneten Plot, um die durchschnittliche Automaten- bzw. Appnutzungsrate pro **Parkzone** für das gesamte Jahr 2023 zu visualisieren. Was können Sie dem Plot entnehmen?"
   ]
  },
  {
   "cell_type": "markdown",
   "metadata": {},
   "source": [
    "#### 2.2.2 (9 Punkte)\n",
    "Wie stark werden die einzelnen Parkzonen genutzt? \n",
    "\n",
    "Visualisieren Sie die Gesamtzahl der Verkäufe und die Automaten- bzw. Appnutzungrate für jede Parkzone im Jahr 2023 **in einem Diagramm**. Verwenden Sie für die y-Achse eine `log`-Skalierung. Was können Sie dem Plot entnehmen?"
   ]
  },
  {
   "cell_type": "markdown",
   "metadata": {},
   "source": [
    "#### 2.2.3 (7 Punkte)\n",
    "Der vorherige Plot gibt uns eine Vorstellung von der Gesamtzahl der Parktickets *pro Parkzone*. Diese korreliert sehr wahrscheinlich stark mit der Anzahl der Parkplätze pro Zone. Um Parkzonen mit einer unterschiedlichen Anzahl an Parkplätzen zu vergleichen, sollten wir diese mithilfe der Anzahl der verfügbaren Parkplätze je Zone relativieren. Auf diese Weise können wir herausfinden, welche Zonen, relativ zu ihrer Größe, am häufigsten verwendet werden. Da wir nicht die Anzahl der Parkplätze für jede Zone zur Verfügung haben, können wir nur die Anzahl der Parkscheinautomaten als grobe Annäherung verwenden. \n",
    "\n",
    "Verwenden Sie die Informationen aus `psa_latlong.csv` und reproduzieren Sie den vorherigen mit Plot der Gesamtzahl der Verkäufe pro Automat für jede Parkzone. Verwenden Sie für die y-Achse eine `log`-Skalierung. Welche Parkzone wird am meisten genutzt?"
   ]
  },
  {
   "cell_type": "markdown",
   "metadata": {},
   "source": [
    "#### 2.2.4 (5 Punkte)\n",
    "Bisher haben wir die geografischen Informationen der Parkzonen nicht mit einbezogen. \n",
    "\n",
    "Verwenden Sie erneut die Funktion `plot_map`, um den Standort aller Parkzonen, ihre durchschnittlichen Tickets pro Automat und die Automaten- bzw. Appnutzungsrate zu visualieren. Färben Sie den Kartenmarker mithilfe der Automaten- bzw. Appnutzungsrate und legen Sie den Radius mit den durschnittlich verkauften Tickets pro Automat fest. Was können Sie der Darstellung entnehmen?"
   ]
  },
  {
   "cell_type": "markdown",
   "metadata": {},
   "source": [
    "___\n",
    "## Aufgabe 3: Statistics (18 Punkte)\n"
   ]
  },
  {
   "cell_type": "markdown",
   "metadata": {},
   "source": [
    "#### Aufgabe 3.1 - t-Test (13 Punkte)\n",
    "Zusätzlich zu der visuellen Analyse möchte die Stadt nun auch eine statistische Untersuchung der Verwendung von Parkscheinautomaten und Apps durchführen.\n",
    "\n",
    "Bestimmen Sie dazu zunächst die Automaten- bzw. Appnutzungsrate pro Parkzone für jeden Kalendertag. Führen Sie anschließend für **jede Parkzone** einen t-Test durch, der testet, ob Parkende es vorziehen die App in der jeweiligen Zone zu verwenden. Schreiben Sie das entsprechende Hypothesenpaar auf, führen Sie den Test durch und interpretieren Sie Ihre Testergebnisse. Verwenden Sie für Ihre Testentscheidung ein Signifikanzniveau von 0.05. Welche grundlegende Annahme von statistischen Tests könnte bei diesem Vorgehen verletzt werden?"
   ]
  },
  {
   "cell_type": "markdown",
   "metadata": {},
   "source": [
    "#### Aufgabe 3.2 - Statistisches Verständnis (5 Punkte)\n",
    "Angenommen, für die Zone `37106` beträgt die durchschnittliche Automaten- bzw. Appnutzungsrate `0.5`.\n",
    "Die Stadt sendet Ihnen die Daten für 2024. \n",
    "\n",
    "An wie vielen Tagen können Sie erwarten, dass die Appnutzung signifikant höher ist, wenn Sie weiterhin von einem Signifikanzniveau von `0.05` ausgehen? Erklären Sie, warum dies der Fall ist. Nehmen Sie an, dass sich das Verhalten der Parkenden im Vergleich zu 2023 nicht geändert hat."
   ]
  },
  {
   "cell_type": "markdown",
   "metadata": {},
   "source": [
    "___\n",
    "## Aufgabe 4: Machine Learning (20 Punkte)\n",
    "\n",
    "Nutzen Sie ein K-Nearest-Neighbors (KNN) Modell, um die Automaten- bzw. Appnutzungsrate mithilfe des Standortes (`latitude`, `longitude`) und der Parkgebühr (`fee`) vorherzusagen. Verwenden Sie ausschließlich Datenreihen mit Parkgebühren zwischen 2 Euro und 7 Euro.\n",
    "\n",
    "#### Aufgabe 4.1 - Modell-Training and Hyperparameter-Suche (10 Punkte)\n",
    "Bereiten Sie die Daten sinnvoll auf, führen Sie eine Hyperparameter-Suche nach optimalem K-Wert aus, visualisieren Sie die Ergebnisse der Hyperparameter-Suche und verwenden Sie schließlich Ihren optimalen K-Wert, um das Modell zu trainieren.\n",
    "\n",
    "*Hinweis: Verwenden Sie 30% aller Daten zur Bestimmung des optimalen K-Wertes, um die Hyperparameter-Suche zu beschleunigen, und den gesamten Datensatz für das Modell-Training.*\n"
   ]
  },
  {
   "cell_type": "markdown",
   "metadata": {},
   "source": [
    "#### Aufgabe 4.2 - Visualisierung der Modell-Vorhersage (10 Punkte)\n",
    "Erstellen Sie ein `100 x 100` Grid aus Längen-/Breitengradwerten unter Verwendung der minimalen und maximalen Werte in Ihrem Datensatz. Visualisieren Sie die Vorhersagen des KNN-Modells **für drei verschiedene Parkgebühren** - 3, 5 und 7 Euro. Verwenden Sie dazu die Funktion `plot_map`. Färben Sie den Marker entsprechend der Modell-Vorhersage. Beschreiben Sie mindestens 2 visuelle Veränderungen des vorhergesagten Nutzungsmusters auf der Karte."
   ]
  }
 ],
 "metadata": {
  "kernelspec": {
   "display_name": "Python 3 (ipykernel)",
   "language": "python",
   "name": "python3"
  },
  "language_info": {
   "codemirror_mode": {
    "name": "ipython",
    "version": 3
   },
   "file_extension": ".py",
   "mimetype": "text/x-python",
   "name": "python",
   "nbconvert_exporter": "python",
   "pygments_lexer": "ipython3",
   "version": "3.10.8"
  }
 },
 "nbformat": 4,
 "nbformat_minor": 4
}
