{
 "cells": [
  {
   "cell_type": "markdown",
   "metadata": {},
   "source": [
    "1) Schreibe eine Funktion, um die Fakultät einer gegebenen Zahl zu berechen. **(20%)**"
   ]
  },
  {
   "cell_type": "code",
   "execution_count": 41,
   "metadata": {},
   "outputs": [],
   "source": [
    "def fakultaet(num:int):\n",
    "    result = 1\n",
    "    for i in range(1, num+1): result = result * (i)\n",
    "    return result"
   ]
  },
  {
   "cell_type": "markdown",
   "metadata": {},
   "source": [
    "2) Schreibe eine Funktion, welche die oben beschriebene Summe bis zu einem Limit (gegeben als Parameter der Funktion) berechnet.  **(15%)**"
   ]
  },
  {
   "cell_type": "code",
   "execution_count": 53,
   "metadata": {},
   "outputs": [],
   "source": [
    "def sin(x:int, lim:int):\n",
    "    result = 0\n",
    "    for n in range(lim+1): \n",
    "        print(n)\n",
    "        print((-1)**n * (x**(2*n+1)) / fakultaet(2*n+1))\n",
    "        result = result + (-1)**n * (x**(2*n+1)) / fakultaet(2*n+1)\n",
    "    return result"
   ]
  },
  {
   "cell_type": "code",
   "execution_count": 54,
   "metadata": {},
   "outputs": [
    {
     "name": "stdout",
     "output_type": "stream",
     "text": [
      "24\n",
      "0\n",
      "1\n",
      "2\n",
      "3\n",
      "4\n",
      "5\n",
      "6\n",
      "7\n",
      "8\n",
      "9\n",
      "10\n",
      "-0.7568024926569087\n"
     ]
    }
   ],
   "source": [
    "i = fakultaet(4)\n",
    "print(i)\n",
    "print(sin(4, 10))"
   ]
  }
 ],
 "metadata": {
  "kernelspec": {
   "display_name": "Python 3",
   "language": "python",
   "name": "python3"
  },
  "language_info": {
   "codemirror_mode": {
    "name": "ipython",
    "version": 3
   },
   "file_extension": ".py",
   "mimetype": "text/x-python",
   "name": "python",
   "nbconvert_exporter": "python",
   "pygments_lexer": "ipython3",
   "version": "3.10.8"
  }
 },
 "nbformat": 4,
 "nbformat_minor": 2
}
