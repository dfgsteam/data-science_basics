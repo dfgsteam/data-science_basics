Correct Line Breaks within Quoted Fields:

bash

# Korrektur von Zeilenumbrüchen innerhalb der Felder
awk 'BEGIN { FS = OFS = "," } { if (substr($0, length($0), 1) != "\"") { print } else { printf("%s", $0) } }' temp.csv > "$output_file"

This awk command processes the temp.csv file:

    BEGIN { FS = OFS = "," } sets the input and output field separators to commas.
    { if (substr($0, length($0), 1) != "\"") { print } else { printf("%s", $0) } } checks each line:
        If the line does not end with a double quote ("), it prints the line as is.
        If the line ends with a double quote, it uses printf to print the line without a newline character, effectively concatenating lines that are part of the same quoted field.
    The processed output is written to the output_file.