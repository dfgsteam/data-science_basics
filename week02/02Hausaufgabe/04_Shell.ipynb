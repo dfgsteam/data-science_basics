{
 "cells": [
  {
   "cell_type": "markdown",
   "id": "9ee23b65-d373-46b0-943c-21004e82323c",
   "metadata": {},
   "source": [
    "Installation `pip install bash_kernel ; python -m bash_kernel.install`"
   ]
  },
  {
   "cell_type": "markdown",
   "id": "8c43848f-8612-42a1-bd5f-7c201bc1b5d2",
   "metadata": {},
   "source": [
    "# Getting help"
   ]
  },
  {
   "cell_type": "markdown",
   "id": "c69c5d87-4feb-4b98-9ad2-353083bb0f60",
   "metadata": {},
   "source": [
    "To get help or information on any command in the shell, use `man` which will list the manual pages. "
   ]
  },
  {
   "cell_type": "code",
   "execution_count": null,
   "id": "27427c77-ede9-492b-9c10-fbcddb756b01",
   "metadata": {},
   "outputs": [],
   "source": [
    "unip data.zip"
   ]
  },
  {
   "cell_type": "code",
   "execution_count": null,
   "id": "c4e668f8-ec7a-4cc9-bd99-f4bfacf9904a",
   "metadata": {
    "tags": []
   },
   "outputs": [],
   "source": [
    "man man"
   ]
  },
  {
   "cell_type": "markdown",
   "id": "ddb341a4-a682-4894-a640-1534720af98b",
   "metadata": {},
   "source": [
    "TAB completion "
   ]
  },
  {
   "cell_type": "markdown",
   "id": "7b257e49-c2d0-4f9c-913e-0390a7d5946a",
   "metadata": {},
   "source": [
    "# Getting around"
   ]
  },
  {
   "cell_type": "markdown",
   "id": "8b0e71b8-5971-44b5-a60d-b10265db2fb7",
   "metadata": {},
   "source": [
    "The content of a directory is shown by the \"list\" `ls` command. "
   ]
  },
  {
   "cell_type": "code",
   "execution_count": null,
   "id": "3fd32d23-a95d-41df-958f-7219a0aa3c0e",
   "metadata": {},
   "outputs": [],
   "source": [
    "ls"
   ]
  },
  {
   "cell_type": "code",
   "execution_count": null,
   "id": "e495d305-bb4b-4d73-b184-d00b6628c603",
   "metadata": {
    "tags": []
   },
   "outputs": [],
   "source": [
    "ls data"
   ]
  },
  {
   "cell_type": "markdown",
   "id": "ba543f72-a833-478d-828c-184cd414018a",
   "metadata": {},
   "source": [
    "You can get more information using commandline parameters/switches. Check the `man` pages to see what `-a` and `-l` mean. Note that both can be combined into one using `-la`. "
   ]
  },
  {
   "cell_type": "code",
   "execution_count": null,
   "id": "f5b52f72-4dce-4a17-a01f-43d1adebb91a",
   "metadata": {
    "tags": []
   },
   "outputs": [],
   "source": [
    "man ls"
   ]
  },
  {
   "cell_type": "code",
   "execution_count": null,
   "id": "67c89103-434c-41ab-bf81-83cf6f8868d2",
   "metadata": {},
   "outputs": [],
   "source": [
    "ls -la"
   ]
  },
  {
   "cell_type": "code",
   "execution_count": null,
   "id": "a2ae5098-d820-4c6b-9873-af6f1de16e10",
   "metadata": {
    "tags": []
   },
   "outputs": [],
   "source": [
    "ls -la data"
   ]
  },
  {
   "cell_type": "markdown",
   "id": "29cf15a4-7b6c-49b9-9cd4-6cda135bff03",
   "metadata": {},
   "source": [
    "What do we see here. Each line shows you the \n",
    "* File permissions (more on that later)\n",
    "* Number of hard link\n",
    "* File user\n",
    "* File group\n",
    "* File size\n",
    "* Modification date\n",
    "* Filename\n",
    "\n",
    "`.` and `..` are two special directories pointing to the directory itself (`.`) or parent directory (`..`)."
   ]
  },
  {
   "cell_type": "markdown",
   "id": "baac8a11-425b-4fc9-8022-8e6141340386",
   "metadata": {},
   "source": [
    "You can change the directory using `cd` (\"change directory\"). You can see where you are with `pwd` (\"print working directory\")."
   ]
  },
  {
   "cell_type": "code",
   "execution_count": null,
   "id": "c9784717-6e5e-4de3-a874-1e21e7784302",
   "metadata": {
    "tags": []
   },
   "outputs": [],
   "source": [
    "pwd"
   ]
  },
  {
   "cell_type": "code",
   "execution_count": null,
   "id": "8ed8a664-7c30-47f5-bc6f-708e1312c96e",
   "metadata": {},
   "outputs": [],
   "source": [
    "cd data\n",
    "pwd"
   ]
  },
  {
   "cell_type": "code",
   "execution_count": null,
   "id": "ff6eb0ff-8e5a-44d1-905e-ccbf46ffe69d",
   "metadata": {},
   "outputs": [],
   "source": [
    "cd ..\n",
    "pwd"
   ]
  },
  {
   "cell_type": "markdown",
   "id": "065af38f-1f7d-4165-8e28-9d4fd3f7e2f5",
   "metadata": {},
   "source": [
    "# Wildcards"
   ]
  },
  {
   "cell_type": "markdown",
   "id": "e9524971-1892-43ae-8a51-640fe47cfcc0",
   "metadata": {},
   "source": [
    "The shell also knows wildcards"
   ]
  },
  {
   "cell_type": "code",
   "execution_count": null,
   "id": "e01aca19-03a7-4cda-8535-eef9a37722bd",
   "metadata": {},
   "outputs": [],
   "source": [
    "ls data/1990*.json"
   ]
  },
  {
   "cell_type": "markdown",
   "id": "03349153-9cae-4b4d-8b83-f827a7d67c1b",
   "metadata": {},
   "source": [
    "`*` matches any character (can also be empty). `?` can be any single character."
   ]
  },
  {
   "cell_type": "code",
   "execution_count": null,
   "id": "0a1c44ba-09ce-48f1-8f02-f57b58ee6a92",
   "metadata": {},
   "outputs": [],
   "source": [
    "ls data/1990-1?-*.json"
   ]
  },
  {
   "cell_type": "markdown",
   "id": "3a68a37a-6a91-422c-8bc2-e9f85e0e8e45",
   "metadata": {},
   "source": [
    "`[a,b,c]` matches any string that matches an element from the set. "
   ]
  },
  {
   "cell_type": "code",
   "execution_count": null,
   "id": "6345b290-c2cb-4863-bb70-2c535ada4602",
   "metadata": {
    "tags": []
   },
   "outputs": [],
   "source": [
    "ls data/199[1,2,4]-1?-*.json"
   ]
  },
  {
   "cell_type": "markdown",
   "id": "06af9022-7ee4-443c-898c-e5c270b6faa6",
   "metadata": {},
   "source": [
    "`[a-b]` can also specify a range."
   ]
  },
  {
   "cell_type": "code",
   "execution_count": null,
   "id": "7d73a7d7-83bd-40b3-8a57-99f78e38f616",
   "metadata": {},
   "outputs": [],
   "source": [
    "ls data/199[1-5]-12-*.json"
   ]
  },
  {
   "cell_type": "markdown",
   "id": "2a8c794a-f70d-47e6-9c90-7016efcae4d9",
   "metadata": {},
   "source": [
    "Curly brackets `{a,b}` matches any term inside the brackets (including wildcards) with a logical OR, i.e. `a OR b`"
   ]
  },
  {
   "cell_type": "code",
   "execution_count": null,
   "id": "faf1803d-9159-4c3c-9ca9-dfe7eb8396e5",
   "metadata": {},
   "outputs": [],
   "source": [
    "ls data/{1990,1991}-{01,1?}-*.json"
   ]
  },
  {
   "cell_type": "markdown",
   "id": "41418f82-3c2d-4c12-814c-14b292a3ebcc",
   "metadata": {},
   "source": [
    "`[!a-b]` matches anything that does **not** contain the range/set specified in `[  ]`."
   ]
  },
  {
   "cell_type": "code",
   "execution_count": null,
   "id": "33f3f993-0faa-49b1-8c8a-aad218be1f76",
   "metadata": {},
   "outputs": [],
   "source": [
    "ls data/199[!1-7]-01-*.json"
   ]
  },
  {
   "cell_type": "markdown",
   "id": "e3137d3a-a63d-453f-8856-8d86bad42d14",
   "metadata": {},
   "source": [
    "# First look at data"
   ]
  },
  {
   "cell_type": "markdown",
   "id": "795cccda-d853-4701-b0a3-3e50864373d5",
   "metadata": {},
   "source": [
    "The data contains Jeopardy questions from different years in `json` format. "
   ]
  },
  {
   "cell_type": "code",
   "execution_count": null,
   "id": "8bb39a26-41b2-4161-83fa-93b8457cae59",
   "metadata": {
    "tags": []
   },
   "outputs": [],
   "source": [
    "ls -la data"
   ]
  },
  {
   "cell_type": "markdown",
   "id": "f0a5259a-1866-4ff0-ac31-85963a7d1667",
   "metadata": {},
   "source": [
    "Since typing `ls -la` all the time, `bash` allows us to define a shortcut. "
   ]
  },
  {
   "cell_type": "code",
   "execution_count": null,
   "id": "6f1c35a1-5e8a-4af0-a0e7-bf33f65cffaa",
   "metadata": {
    "tags": []
   },
   "outputs": [],
   "source": [
    "alias ll=\"ls -la\""
   ]
  },
  {
   "cell_type": "code",
   "execution_count": null,
   "id": "62196441-6b0f-4f64-8dba-358c4f8ace02",
   "metadata": {
    "tags": []
   },
   "outputs": [],
   "source": [
    "ll"
   ]
  },
  {
   "cell_type": "markdown",
   "id": "7920ddc1-c6f2-4f29-b486-ce8a8b1abac7",
   "metadata": {},
   "source": [
    "# Pipes\n",
    "\n",
    "We there is a lot of information, so maybe we only want to see the first results. We can do that be \"rerouting\" the output of one command into the next command using a \"pipe\" `|` and the `head` command."
   ]
  },
  {
   "cell_type": "code",
   "execution_count": null,
   "id": "b6dcfbe8-8665-49c7-bdca-697f143c3746",
   "metadata": {
    "tags": []
   },
   "outputs": [],
   "source": [
    "ll data/*.json | tail -n 20"
   ]
  },
  {
   "cell_type": "markdown",
   "id": "baaf3957-0912-45fe-af41-6c8600e743f1",
   "metadata": {},
   "source": [
    "We can also use the command `wc` to count how many files we have"
   ]
  },
  {
   "cell_type": "code",
   "execution_count": null,
   "id": "defbaa61-bb0b-41bc-9937-ac58b12833a3",
   "metadata": {
    "tags": []
   },
   "outputs": [],
   "source": [
    "ls -1 data"
   ]
  },
  {
   "cell_type": "code",
   "execution_count": null,
   "id": "5c315761-40b6-44ba-ae6c-4f7800161174",
   "metadata": {},
   "outputs": [],
   "source": [
    "ll data/*.json | wc -l"
   ]
  },
  {
   "cell_type": "markdown",
   "id": "7dde92e4-c342-449a-946e-83f28eae55eb",
   "metadata": {},
   "source": [
    "We can use the command `du` to check how much space the entire directory takes. "
   ]
  },
  {
   "cell_type": "code",
   "execution_count": 5,
   "id": "53a15089-05ea-4bee-af7f-bfbad8b0a944",
   "metadata": {
    "tags": []
   },
   "outputs": [
    {
     "name": "stdout",
     "output_type": "stream",
     "text": [
      " 58M\tdata\n"
     ]
    }
   ],
   "source": [
    "du -sh data"
   ]
  },
  {
   "cell_type": "markdown",
   "id": "1fbd3165-db13-4397-9201-49935d0f8209",
   "metadata": {},
   "source": [
    "# Looking at single files\n",
    "\n",
    "We can also look at single files using `cat` or `less`. "
   ]
  },
  {
   "cell_type": "code",
   "execution_count": 7,
   "id": "3f20e7bd-67f4-47ee-9db2-39a440c5e5e4",
   "metadata": {
    "tags": []
   },
   "outputs": [
    {
     "name": "stdout",
     "output_type": "stream",
     "text": [
      "[{\"category\": \"LAKES & RIVERS\", \"air_date\": \"1984-09-10\", \"question\": \"'River mentioned most often in the Bible'\", \"value\": \"$100\", \"answer\": \"the Jordan\", \"round\": \"Jeopardy!\", \"show_number\": \"1\"}, {\"category\": \"INVENTIONS\", \"air_date\": \"1984-09-10\", \"question\": \"'Marconi's wonderful wireless'\", \"value\": \"$100\", \"answer\": \"the radio\", \"round\": \"Jeopardy!\", \"show_number\": \"1\"}, {\"category\": \"ANIMALS\", \"air_date\": \"1984-09-10\", \"question\": \"'These rodents first got to America by stowing away on ships'\", \"value\": \"$100\", \"answer\": \"rats\", \"round\": \"Jeopardy!\", \"show_number\": \"1\"}, {\"category\": \"FOREIGN CUISINE\", \"air_date\": \"1984-09-10\", \"question\": \"'The \\\"coq\\\" in coq au vin'\", \"value\": \"$100\", \"answer\": \"chicken\", \"round\": \"Jeopardy!\", \"show_number\": \"1\"}, {\"category\": \"ACTORS & ROLES\", \"air_date\": \"1984-09-10\", \"question\": \"'Video in which Michael Jackson plays a werewolf & a zombie'\", \"value\": \"$100\", \"answer\": \"\\\"Thriller\\\"\", \"round\": \"Jeopardy!\", \"show_number\": \"1\"}, {\"category\": \"LAKES & RIVERS\", \"air_date\": \"1984-09-10\", \"question\": \"'Scottish word for lake'\", \"value\": \"$200\", \"answer\": \"loch\", \"round\": \"Jeopardy!\", \"show_number\": \"1\"}, {\"category\": \"INVENTIONS\", \"air_date\": \"1984-09-10\", \"question\": \"'In 1869 an American minister created this \\\"oriental\\\" transportation'\", \"value\": \"$200\", \"answer\": \"the rickshaw\", \"round\": \"Jeopardy!\", \"show_number\": \"1\"}, {\"category\": \"ANIMALS\", \"air_date\": \"1984-09-10\", \"question\": \"'There are about 40,000 muscles & tendons in this part of an elephant's body'\", \"value\": \"$200\", \"answer\": \"the trunk\", \"round\": \"Jeopardy!\", \"show_number\": \"1\"}, {\"category\": \"FOREIGN CUISINE\", \"air_date\": \"1984-09-10\", \"question\": \"'A British variety is called \\\"bangers\\\", a Mexican variety, \\\"chorizo\\\"'\", \"value\": \"$200\", \"answer\": \"sausage\", \"round\": \"Jeopardy!\", \"show_number\": \"1\"}, {\"category\": \"ACTORS & ROLES\", \"air_date\": \"1984-09-10\", \"question\": \"'2 \\\"Saturday Night\\\" alumni who tried \\\"Trading Places\\\"'\", \"value\": \"$200\", \"answer\": \"Dan Aykroyd & Eddie Murphy\", \"round\": \"Jeopardy!\", \"show_number\": \"1\"}, {\"category\": \"LAKES & RIVERS\", \"air_date\": \"1984-09-10\", \"question\": \"'River in <a href=\\\"http://www.j-archive.com/media/1984-09-10_J_14.mp3\\\">this</a> famous song:'\", \"value\": \"$800\", \"answer\": \"the Volga River\", \"round\": \"Jeopardy!\", \"show_number\": \"1\"}, {\"category\": \"INVENTIONS\", \"air_date\": \"1984-09-10\", \"question\": \"'A 1920's hunting trip to Canada inspired Birdseye's food preserving method'\", \"value\": \"$300\", \"answer\": \"freezing\", \"round\": \"Jeopardy!\", \"show_number\": \"1\"}, {\"category\": \"ANIMALS\", \"air_date\": \"1984-09-10\", \"question\": \"'When husbands \\\"pop\\\" for an ermine coat, they're actually buying this fur'\", \"value\": \"$300\", \"answer\": \"weasel\", \"round\": \"Jeopardy!\", \"show_number\": \"1\"}, {\"category\": \"FOREIGN CUISINE\", \"air_date\": \"1984-09-10\", \"question\": \"'Jewish crepe filled with cheese'\", \"value\": \"$300\", \"answer\": \"a blintz\", \"round\": \"Jeopardy!\", \"show_number\": \"1\"}, {\"category\": \"ACTORS & ROLES\", \"air_date\": \"1984-09-10\", \"question\": \"'He may \\\"Never Say Never Again\\\" when asked to be Bond'\", \"value\": \"$300\", \"answer\": \"Sean Connery\", \"round\": \"Jeopardy!\", \"show_number\": \"1\"}, {\"category\": \"LAKES & RIVERS\", \"air_date\": \"1984-09-10\", \"question\": \"'American river only 33 miles shorter than the Mississippi'\", \"value\": \"$400\", \"answer\": \"the Missouri\", \"round\": \"Jeopardy!\", \"show_number\": \"1\"}, {\"category\": \"INVENTIONS\", \"air_date\": \"1984-09-10\", \"question\": \"'This fastener gets its name from a brand of galoshes it was used on'\", \"value\": \"$400\", \"answer\": \"the zipper\", \"round\": \"Jeopardy!\", \"show_number\": \"1\"}, {\"category\": \"ANIMALS\", \"air_date\": \"1984-09-10\", \"question\": \"'Close relative of the pig, though its name means \\\"river horse\\\"'\", \"value\": \"$400\", \"answer\": \"the hippopotamus\", \"round\": \"Jeopardy!\", \"show_number\": \"1\"}, {\"category\": \"FOREIGN CUISINE\", \"air_date\": \"1984-09-10\", \"question\": \"'French for a toothsome cut of beef served to a twosome'\", \"value\": \"$400\", \"answer\": \"Ch\\u00e2teaubriand\", \"round\": \"Jeopardy!\", \"show_number\": \"1\"}, {\"category\": \"ACTORS & ROLES\", \"air_date\": \"1984-09-10\", \"question\": \"'The blonde preferred in the film \\\"Gentlemen Prefer Blondes\\\"'\", \"value\": \"$400\", \"answer\": \"Marilyn Monroe\", \"round\": \"Jeopardy!\", \"show_number\": \"1\"}, {\"category\": \"LAKES & RIVERS\", \"air_date\": \"1984-09-10\", \"question\": \"'World's largest lake, nearly 5 times as big as Superior'\", \"value\": \"$500\", \"answer\": \"the Caspian Sea\", \"round\": \"Jeopardy!\", \"show_number\": \"1\"}, {\"category\": \"ANIMALS\", \"air_date\": \"1984-09-10\", \"question\": \"'If this species of hybrid's parents were reversed, you'd get a hinny'\", \"value\": \"$500\", \"answer\": \"a mule\", \"round\": \"Jeopardy!\", \"show_number\": \"1\"}, {\"category\": \"ACTORS & ROLES\", \"air_date\": \"1984-09-10\", \"question\": \"'Sam Shepard played this barrier breaker in \\\"The Right Stuff\\\"'\", \"value\": \"$500\", \"answer\": \"Colonel Chuck Yeager\", \"round\": \"Jeopardy!\", \"show_number\": \"1\"}, {\"category\": \"THE BIBLE\", \"air_date\": \"1984-09-10\", \"question\": \"'When \\\"Joshua Fit The Battle Of Jericho\\\", these took a tumble'\", \"value\": \"$200\", \"answer\": \"the walls\", \"round\": \"Double Jeopardy!\", \"show_number\": \"1\"}, {\"category\": \"'50'S TV\", \"air_date\": \"1984-09-10\", \"question\": \"'Occupation of Richard Diamond, Peter Gunn & Mike Hammer'\", \"value\": \"$200\", \"answer\": \"private eyes (or private detectives)\", \"round\": \"Double Jeopardy!\", \"show_number\": \"1\"}, {\"category\": \"NATIONAL LANDMARKS\", \"air_date\": \"1984-09-10\", \"question\": \"'She came from France to harbor America's freedom'\", \"value\": \"$200\", \"answer\": \"the Statue of Liberty\", \"round\": \"Double Jeopardy!\", \"show_number\": \"1\"}, {\"category\": \"NOTORIOUS\", \"air_date\": \"1984-09-10\", \"question\": \"'It was probably a lyre, not a fiddle, if he played it while Rome burned'\", \"value\": \"$200\", \"answer\": \"Nero\", \"round\": \"Double Jeopardy!\", \"show_number\": \"1\"}, {\"category\": \"4-LETTER WORDS\", \"air_date\": \"1984-09-10\", \"question\": \"'Pulled the trigger or what's in a jigger'\", \"value\": \"$200\", \"answer\": \"shot\", \"round\": \"Double Jeopardy!\", \"show_number\": \"1\"}, {\"category\": \"THE BIBLE\", \"air_date\": \"1984-09-10\", \"question\": \"'His price was 30 pieces of silver'\", \"value\": \"$400\", \"answer\": \"Judas\", \"round\": \"Double Jeopardy!\", \"show_number\": \"1\"}, {\"category\": \"'50'S TV\", \"air_date\": \"1984-09-10\", \"question\": \"'She was \\\"Our Miss Brooks\\\"'\", \"value\": \"$400\", \"answer\": \"Eve Arden\", \"round\": \"Double Jeopardy!\", \"show_number\": \"1\"}, {\"category\": \"NATIONAL LANDMARKS\", \"air_date\": \"1984-09-10\", \"question\": \"'When he was home, George Washington slept here'\", \"value\": \"$400\", \"answer\": \"Mount Vernon\", \"round\": \"Double Jeopardy!\", \"show_number\": \"1\"}, {\"category\": \"NOTORIOUS\", \"air_date\": \"1984-09-10\", \"question\": \"'His book, translated as \\\"My Struggle\\\", outlined plans to conquer Europe'\", \"value\": \"$400\", \"answer\": \"Adolf Hitler\", \"round\": \"Double Jeopardy!\", \"show_number\": \"1\"}, {\"category\": \"4-LETTER WORDS\", \"air_date\": \"1984-09-10\", \"question\": \"'Basketball defense or Serling's twilight area'\", \"value\": \"$400\", \"answer\": \"zone\", \"round\": \"Double Jeopardy!\", \"show_number\": \"1\"}, {\"category\": \"THE BIBLE\", \"air_date\": \"1984-09-10\", \"question\": \"'According to the Bible, it wasn't necessarily an apple'\", \"value\": \"$600\", \"answer\": \"the forbidden fruit (or the fruit of the Tree of Knowledge)\", \"round\": \"Double Jeopardy!\", \"show_number\": \"1\"}, {\"category\": \"'50'S TV\", \"air_date\": \"1984-09-10\", \"question\": \"'Amount Michael Anthony gave out each week on behalf of John Beresford Tipton'\", \"value\": \"$600\", \"answer\": \"one million dollars\", \"round\": \"Double Jeopardy!\", \"show_number\": \"1\"}, {\"category\": \"NATIONAL LANDMARKS\", \"air_date\": \"1984-09-10\", \"question\": \"'The cornerstone of Massachusetts, it bears the date 1620'\", \"value\": \"$600\", \"answer\": \"Plymouth Rock\", \"round\": \"Double Jeopardy!\", \"show_number\": \"1\"}, {\"category\": \"NOTORIOUS\", \"air_date\": \"1984-09-10\", \"question\": \"'Lenin called him ruthless, and his purges proved he was'\", \"value\": \"$600\", \"answer\": \"Stalin\", \"round\": \"Double Jeopardy!\", \"show_number\": \"1\"}, {\"category\": \"4-LETTER WORDS\", \"air_date\": \"1984-09-10\", \"question\": \"'Little girls do it with a rope, Van Halen does it in a song'\", \"value\": \"$600\", \"answer\": \"jump\", \"round\": \"Double Jeopardy!\", \"show_number\": \"1\"}, {\"category\": \"THE BIBLE\", \"air_date\": \"1984-09-10\", \"question\": \"'Though its name means \\\"city of peace\\\", it's seen over 30 wars, the last in 1967'\", \"value\": \"$800\", \"answer\": \"Jerusalem\", \"round\": \"Double Jeopardy!\", \"show_number\": \"1\"}, {\"category\": \"'50'S TV\", \"air_date\": \"1984-09-10\", \"question\": \"'His card read \\\"Have gun, will travel\\\"'\", \"value\": \"$800\", \"answer\": \"Paladin (Richard Boone)\", \"round\": \"Double Jeopardy!\", \"show_number\": \"1\"}, {\"category\": \"NATIONAL LANDMARKS\", \"air_date\": \"1984-09-10\", \"question\": \"'Site where John Hancock signed his \\\"John Hancock\\\"'\", \"value\": \"$800\", \"answer\": \"Independence Hall\", \"round\": \"Double Jeopardy!\", \"show_number\": \"1\"}, {\"category\": \"4-LETTER WORDS\", \"air_date\": \"1984-09-10\", \"question\": \"'It's the first 4-letter word in \\\"The Star Spangled Banner\\\"'\", \"value\": \"$1,000\", \"answer\": \"what\", \"round\": \"Double Jeopardy!\", \"show_number\": \"1\"}, {\"category\": \"THE BIBLE\", \"air_date\": \"1984-09-10\", \"question\": \"'According to 1st Timothy, it is the \\\"root of all evil\\\"'\", \"value\": \"$1000\", \"answer\": \"the love of money\", \"round\": \"Double Jeopardy!\", \"show_number\": \"1\"}, {\"category\": \"'50'S TV\", \"air_date\": \"1984-09-10\", \"question\": \"'Name under which experimenter Don Herbert taught viewers all about science'\", \"value\": \"$1000\", \"answer\": \"Mr. Wizard\", \"round\": \"Double Jeopardy!\", \"show_number\": \"1\"}, {\"category\": \"NATIONAL LANDMARKS\", \"air_date\": \"1984-09-10\", \"question\": \"'D.C. building shaken by November '83 bomb blast'\", \"value\": \"$1000\", \"answer\": \"the Capitol\", \"round\": \"Double Jeopardy!\", \"show_number\": \"1\"}, {\"category\": \"NOTORIOUS\", \"air_date\": \"1984-09-10\", \"question\": \"'After the deed, he leaped to the stage shouting \\\"Sic semper tyrannis\\\"'\", \"value\": \"$1000\", \"answer\": \"John Wilkes Booth\", \"round\": \"Double Jeopardy!\", \"show_number\": \"1\"}, {\"category\": \"4-LETTER WORDS\", \"air_date\": \"1984-09-10\", \"question\": \"'The president takes one before stepping into office'\", \"value\": \"$1000\", \"answer\": \"oath\", \"round\": \"Double Jeopardy!\", \"show_number\": \"1\"}, {\"category\": \"HOLIDAYS\", \"air_date\": \"1984-09-10\", \"question\": \"'The third Monday of January starting in 1986'\", \"value\": null, \"answer\": \"Martin Luther King Day\", \"round\": \"Final Jeopardy!\", \"show_number\": \"1\"}]"
     ]
    }
   ],
   "source": [
    "cat data/1984-09-10.json"
   ]
  },
  {
   "cell_type": "markdown",
   "id": "0f76afb4-0cdf-46d2-b37b-ea500bb12dba",
   "metadata": {},
   "source": [
    "That's not nicely readable. Maybe if we insert a linebreak after each question, it would help reability. We can do this by the stream editor `sed`. It can replace strings with the syntax `s/PATTERN1/PATTERN2/g`. `s` stands for substitution, `g` says that substitutions are made for all non-overlapping matches of the regular expression, not just the first one. Other separation signs than `/` are possible, too. "
   ]
  },
  {
   "cell_type": "code",
   "execution_count": 10,
   "id": "16d138c5-ff79-47a5-9483-43f1ce4fa1a1",
   "metadata": {},
   "outputs": [
    {
     "name": "stdout",
     "output_type": "stream",
     "text": [
      "{\"category\": \"'50'S TV\", \"air_date\": \"1984-09-10\", \"question\": \"'Name under which experimenter Don Herbert taught viewers all about science'\", \"value\": \"$1000\", \"answer\": \"Mr. Wizard\", \"round\": \"Double Jeopardy!\", \"show_number\": \"1\"},\n",
      "{\"category\": \"NATIONAL LANDMARKS\", \"air_date\": \"1984-09-10\", \"question\": \"'D.C. building shaken by November '83 bomb blast'\", \"value\": \"$1000\", \"answer\": \"the Capitol\", \"round\": \"Double Jeopardy!\", \"show_number\": \"1\"},\n",
      "{\"category\": \"NOTORIOUS\", \"air_date\": \"1984-09-10\", \"question\": \"'After the deed, he leaped to the stage shouting \\\"Sic semper tyrannis\\\"'\", \"value\": \"$1000\", \"answer\": \"John Wilkes Booth\", \"round\": \"Double Jeopardy!\", \"show_number\": \"1\"},\n",
      "{\"category\": \"4-LETTER WORDS\", \"air_date\": \"1984-09-10\", \"question\": \"'The president takes one before stepping into office'\", \"value\": \"$1000\", \"answer\": \"oath\", \"round\": \"Double Jeopardy!\", \"show_number\": \"1\"},\n",
      "{\"category\": \"HOLIDAYS\", \"air_date\": \"1984-09-10\", \"question\": \"'The third Monday of January starting in 1986'\", \"value\": null, \"answer\": \"Martin Luther King Day\", \"round\": \"Final Jeopardy!\", \"show_number\": \"1\"}]"
     ]
    }
   ],
   "source": [
    "sed \"s/}, {/},\\n{/g\" data/1984-09-10.json | tail -n 5"
   ]
  },
  {
   "cell_type": "markdown",
   "id": "e93c8a2f-4406-4718-9ec5-2acf5cc435ec",
   "metadata": {},
   "source": [
    "# Little task\n",
    "\n",
    "Let's assume we want to collect all questions worth 100$. First we need the lines that match that amount. We can use the command `grep` for it. "
   ]
  },
  {
   "cell_type": "code",
   "execution_count": 13,
   "id": "9d8485e8-3929-40f7-896f-4b694a5b6bf7",
   "metadata": {},
   "outputs": [
    {
     "name": "stdout",
     "output_type": "stream",
     "text": [
      "[{\"category\": \"LAKES & RIVERS\", \"air_date\": \"1984-09-10\", \"question\": \"'River mentioned most often in the Bible'\", \"value\": \"$100\", \"answer\": \"the Jordan\", \"round\": \"Jeopardy!\", \"show_number\": \"1\"},\n",
      "{\"category\": \"INVENTIONS\", \"air_date\": \"1984-09-10\", \"question\": \"'Marconi's wonderful wireless'\", \"value\": \"$100\", \"answer\": \"the radio\", \"round\": \"Jeopardy!\", \"show_number\": \"1\"},\n",
      "{\"category\": \"ANIMALS\", \"air_date\": \"1984-09-10\", \"question\": \"'These rodents first got to America by stowing away on ships'\", \"value\": \"$100\", \"answer\": \"rats\", \"round\": \"Jeopardy!\", \"show_number\": \"1\"},\n",
      "{\"category\": \"FOREIGN CUISINE\", \"air_date\": \"1984-09-10\", \"question\": \"'The \\\"coq\\\" in coq au vin'\", \"value\": \"$100\", \"answer\": \"chicken\", \"round\": \"Jeopardy!\", \"show_number\": \"1\"},\n",
      "{\"category\": \"ACTORS & ROLES\", \"air_date\": \"1984-09-10\", \"question\": \"'Video in which Michael Jackson plays a werewolf & a zombie'\", \"value\": \"$100\", \"answer\": \"\\\"Thriller\\\"\", \"round\": \"Jeopardy!\", \"show_number\": \"1\"},\n"
     ]
    }
   ],
   "source": [
    "sed \"s/}, {/},\\n{/g\" data/1984-09-10.json | grep '\"value\": \"$100\"'"
   ]
  },
  {
   "cell_type": "markdown",
   "id": "a51f2ff3-0618-46d1-92a3-effc40454d68",
   "metadata": {},
   "source": [
    "This still has the problem that we could have an opening `[` or closing `]`, so we need to remove that too"
   ]
  },
  {
   "cell_type": "code",
   "execution_count": 14,
   "id": "0aa5efce-e555-46ca-92bb-7e719f117bf5",
   "metadata": {},
   "outputs": [
    {
     "name": "stdout",
     "output_type": "stream",
     "text": [
      "{\"category\": \"LAKES & RIVERS\", \"air_date\": \"1984-09-10\", \"question\": \"'River mentioned most often in the Bible'\", \"value\": \"$100\", \"answer\": \"the Jordan\", \"round\": \"Jeopardy!\", \"show_number\": \"1\"},\n",
      "{\"category\": \"INVENTIONS\", \"air_date\": \"1984-09-10\", \"question\": \"'Marconi's wonderful wireless'\", \"value\": \"$100\", \"answer\": \"the radio\", \"round\": \"Jeopardy!\", \"show_number\": \"1\"},\n",
      "{\"category\": \"ANIMALS\", \"air_date\": \"1984-09-10\", \"question\": \"'These rodents first got to America by stowing away on ships'\", \"value\": \"$100\", \"answer\": \"rats\", \"round\": \"Jeopardy!\", \"show_number\": \"1\"},\n",
      "{\"category\": \"FOREIGN CUISINE\", \"air_date\": \"1984-09-10\", \"question\": \"'The \\\"coq\\\" in coq au vin'\", \"value\": \"$100\", \"answer\": \"chicken\", \"round\": \"Jeopardy!\", \"show_number\": \"1\"},\n",
      "{\"category\": \"ACTORS & ROLES\", \"air_date\": \"1984-09-10\", \"question\": \"'Video in which Michael Jackson plays a werewolf & a zombie'\", \"value\": \"$100\", \"answer\": \"\\\"Thriller\\\"\", \"round\": \"Jeopardy!\", \"show_number\": \"1\"},\n"
     ]
    }
   ],
   "source": [
    "sed \"s/}, {/},\\n{/g; s/\\[{/{/g; s/}\\]/}/g;\" data/1984-09-10.json | grep '\"value\": \"$100\"'"
   ]
  },
  {
   "cell_type": "markdown",
   "id": "b73fd3a1-ab75-4d63-99f5-28c9b65faea1",
   "metadata": {},
   "source": [
    "Now let's say we want to filter out the content for all files. We can use `xargs` for that. "
   ]
  },
  {
   "cell_type": "code",
   "execution_count": 15,
   "id": "7a1b8764-42d8-44a0-acae-45e55c7a21fd",
   "metadata": {},
   "outputs": [
    {
     "name": "stdout",
     "output_type": "stream",
     "text": [
      "    9029\n"
     ]
    }
   ],
   "source": [
    "ls data/*.json | xargs  sed \"s/}, {/},\\n{/g; s/\\[{/{/g; s/}\\]/}/g;\" |  grep '\"value\": \"$100\"' | wc -l"
   ]
  },
  {
   "cell_type": "markdown",
   "id": "97182aad-3189-425b-b7a1-ba4b0439cce0",
   "metadata": {},
   "source": [
    "# Redirect into files"
   ]
  },
  {
   "cell_type": "markdown",
   "id": "264642c2-5a2f-467e-a8c7-881a55aaf285",
   "metadata": {},
   "source": [
    "Now, ideally we would like to store that again in a file. We can use the redirection operator `>` for that. "
   ]
  },
  {
   "cell_type": "code",
   "execution_count": 16,
   "id": "006804b6-23ac-40db-add6-ac73341a9d92",
   "metadata": {},
   "outputs": [],
   "source": [
    "ls data/*.json | xargs  sed \"s/}, {/},\\n{/g; s/\\[{/{/g; s/}\\]/}/g;\" |  grep '\"value\": \"$100\"' > data/100.json"
   ]
  },
  {
   "cell_type": "code",
   "execution_count": 17,
   "id": "be24b06f-e04a-498b-b328-42b911af7881",
   "metadata": {},
   "outputs": [
    {
     "name": "stdout",
     "output_type": "stream",
     "text": [
      "{\"category\": \"LAKES & RIVERS\", \"air_date\": \"1984-09-10\", \"question\": \"'River mentioned most often in the Bible'\", \"value\": \"$100\", \"answer\": \"the Jordan\", \"round\": \"Jeopardy!\", \"show_number\": \"1\"},\n",
      "{\"category\": \"INVENTIONS\", \"air_date\": \"1984-09-10\", \"question\": \"'Marconi's wonderful wireless'\", \"value\": \"$100\", \"answer\": \"the radio\", \"round\": \"Jeopardy!\", \"show_number\": \"1\"},\n",
      "{\"category\": \"ANIMALS\", \"air_date\": \"1984-09-10\", \"question\": \"'These rodents first got to America by stowing away on ships'\", \"value\": \"$100\", \"answer\": \"rats\", \"round\": \"Jeopardy!\", \"show_number\": \"1\"},\n",
      "{\"category\": \"FOREIGN CUISINE\", \"air_date\": \"1984-09-10\", \"question\": \"'The \\\"coq\\\" in coq au vin'\", \"value\": \"$100\", \"answer\": \"chicken\", \"round\": \"Jeopardy!\", \"show_number\": \"1\"},\n",
      "{\"category\": \"ACTORS & ROLES\", \"air_date\": \"1984-09-10\", \"question\": \"'Video in which Michael Jackson plays a werewolf & a zombie'\", \"value\": \"$100\", \"answer\": \"\\\"Thriller\\\"\", \"round\": \"Jeopardy!\", \"show_number\": \"1\"},\n",
      "{\"category\": \"STATE CAPITALS\", \"air_date\": \"1984-09-11\", \"question\": \"'Until 1875 its dual capitals were New Haven & Hartford'\", \"value\": \"$100\", \"answer\": \"Connecticut\", \"round\": \"Jeopardy!\", \"show_number\": \"2\"},\n",
      "{\"category\": \"THE '40'S\", \"air_date\": \"1984-09-11\", \"question\": \"'Though faster than a speeding bullet, he was ruled 4-F'\", \"value\": \"$100\", \"answer\": \"Superman\", \"round\": \"Jeopardy!\", \"show_number\": \"2\"},\n",
      "{\"category\": \"TRANSPORTATION\", \"air_date\": \"1984-09-11\", \"question\": \"'Type of auto engine, or a tomato cocktail'\", \"value\": \"$100\", \"answer\": \"V8\", \"round\": \"Jeopardy!\", \"show_number\": \"2\"},\n",
      "{\"category\": \"COUNTRY MUSIC\", \"air_date\": \"1984-09-11\", \"question\": \"'A grandma before her 30th birthday, she's the real \\\"Coal Miner's Daughter\\\"'\", \"value\": \"$100\", \"answer\": \"Loretta Lynn\", \"round\": \"Jeopardy!\", \"show_number\": \"2\"},\n",
      "{\"category\": \"BY THE NUMBERS\", \"air_date\": \"1984-09-11\", \"question\": \"'The 2 digits that give James Bond license to kill'\", \"value\": \"$100\", \"answer\": \"00\", \"round\": \"Jeopardy!\", \"show_number\": \"2\"},\n"
     ]
    }
   ],
   "source": [
    "head data/100.json"
   ]
  },
  {
   "cell_type": "markdown",
   "id": "04f2bc89-36bb-49e5-8ac5-01a82cbc5b93",
   "metadata": {},
   "source": [
    "What did we just do wrong? Added another file that will show up under `*.json`. "
   ]
  },
  {
   "cell_type": "code",
   "execution_count": 18,
   "id": "78f104ac-62eb-4cb4-b422-769963544673",
   "metadata": {},
   "outputs": [],
   "source": [
    "rm data/100.json"
   ]
  },
  {
   "cell_type": "markdown",
   "id": "f650007a-b3f0-4143-80f8-520dc88ba881",
   "metadata": {},
   "source": [
    "We could also have move it with `mv data/100.json ./`"
   ]
  },
  {
   "cell_type": "markdown",
   "id": "09223824-abb1-4331-ba30-8870ff555167",
   "metadata": {},
   "source": [
    "What else?\n",
    "\n",
    "We are missing the `[` and `]`. They can be added by appending to a file with `>>`. "
   ]
  },
  {
   "cell_type": "code",
   "execution_count": 19,
   "id": "369e6ba2-de20-41cf-a287-2d8ca8b16220",
   "metadata": {
    "tags": []
   },
   "outputs": [
    {
     "name": "stdout",
     "output_type": "stream",
     "text": [
      "Hallo Welt\n"
     ]
    }
   ],
   "source": [
    "echo \"Hallo Welt\""
   ]
  },
  {
   "cell_type": "code",
   "execution_count": 20,
   "id": "efd11895-3b20-4f71-8f76-0663683325fe",
   "metadata": {},
   "outputs": [],
   "source": [
    "echo \"[\" > 100.json\n",
    "ls data/*.json | xargs  sed \"s/}, {/},\\n{/g; s/\\[{/{/g; s/}\\]/}/g;\" |  grep '\"value\": \"$100\"' >> 100.json\n",
    "echo \"]\" >> 100.json\n"
   ]
  },
  {
   "cell_type": "code",
   "execution_count": 23,
   "id": "d57b8a57-6dcd-4bc8-a512-d419d3123eca",
   "metadata": {},
   "outputs": [
    {
     "name": "stdout",
     "output_type": "stream",
     "text": [
      "[\n",
      "{\"category\": \"LAKES & RIVERS\", \"air_date\": \"1984-09-10\", \"question\": \"'River mentioned most often in the Bible'\", \"value\": \"$100\", \"answer\": \"the Jordan\", \"round\": \"Jeopardy!\", \"show_number\": \"1\"},\n",
      "{\"category\": \"INVENTIONS\", \"air_date\": \"1984-09-10\", \"question\": \"'Marconi's wonderful wireless'\", \"value\": \"$100\", \"answer\": \"the radio\", \"round\": \"Jeopardy!\", \"show_number\": \"1\"},\n",
      "{\"category\": \"ANIMALS\", \"air_date\": \"1984-09-10\", \"question\": \"'These rodents first got to America by stowing away on ships'\", \"value\": \"$100\", \"answer\": \"rats\", \"round\": \"Jeopardy!\", \"show_number\": \"1\"},\n",
      "{\"category\": \"FOREIGN CUISINE\", \"air_date\": \"1984-09-10\", \"question\": \"'The \\\"coq\\\" in coq au vin'\", \"value\": \"$100\", \"answer\": \"chicken\", \"round\": \"Jeopardy!\", \"show_number\": \"1\"},\n",
      "{\"category\": \"ACTORS & ROLES\", \"air_date\": \"1984-09-10\", \"question\": \"'Video in which Michael Jackson plays a werewolf & a zombie'\", \"value\": \"$100\", \"answer\": \"\\\"Thriller\\\"\", \"round\": \"Jeopardy!\", \"show_number\": \"1\"},\n",
      "{\"category\": \"STATE CAPITALS\", \"air_date\": \"1984-09-11\", \"question\": \"'Until 1875 its dual capitals were New Haven & Hartford'\", \"value\": \"$100\", \"answer\": \"Connecticut\", \"round\": \"Jeopardy!\", \"show_number\": \"2\"},\n",
      "{\"category\": \"THE '40'S\", \"air_date\": \"1984-09-11\", \"question\": \"'Though faster than a speeding bullet, he was ruled 4-F'\", \"value\": \"$100\", \"answer\": \"Superman\", \"round\": \"Jeopardy!\", \"show_number\": \"2\"},\n",
      "{\"category\": \"TRANSPORTATION\", \"air_date\": \"1984-09-11\", \"question\": \"'Type of auto engine, or a tomato cocktail'\", \"value\": \"$100\", \"answer\": \"V8\", \"round\": \"Jeopardy!\", \"show_number\": \"2\"},\n",
      "{\"category\": \"COUNTRY MUSIC\", \"air_date\": \"1984-09-11\", \"question\": \"'A grandma before her 30th birthday, she's the real \\\"Coal Miner's Daughter\\\"'\", \"value\": \"$100\", \"answer\": \"Loretta Lynn\", \"round\": \"Jeopardy!\", \"show_number\": \"2\"},\n"
     ]
    }
   ],
   "source": [
    "head 100.json"
   ]
  },
  {
   "cell_type": "code",
   "execution_count": null,
   "id": "41d126a9-159c-4fee-bb90-96c0dd23fd69",
   "metadata": {},
   "outputs": [],
   "source": [
    "tail 100.json"
   ]
  },
  {
   "cell_type": "markdown",
   "id": "b20436e0-9beb-410f-825a-396c5f0991ce",
   "metadata": {},
   "source": [
    "# Scripting"
   ]
  },
  {
   "cell_type": "markdown",
   "id": "f1e9f05b-61de-4f68-bc95-ad931fcabefe",
   "metadata": {},
   "source": [
    "Now let's say, we'd like to do that for all different amounts of data. We can use a forloop for that and put that into a script. "
   ]
  },
  {
   "cell_type": "code",
   "execution_count": 24,
   "id": "230de852-60e5-4472-8a4f-6dad65d6ac0b",
   "metadata": {},
   "outputs": [],
   "source": [
    "rm sort_data.sh"
   ]
  },
  {
   "cell_type": "code",
   "execution_count": 25,
   "id": "663c4fa0-173c-4ff8-92d7-62e4faff1256",
   "metadata": {},
   "outputs": [],
   "source": [
    "touch sort_data.sh"
   ]
  },
  {
   "cell_type": "code",
   "execution_count": 26,
   "id": "e8a4d156-dbd7-4643-bc81-e843ce88c7ff",
   "metadata": {},
   "outputs": [
    {
     "name": "stdout",
     "output_type": "stream",
     "text": [
      "Processing 100.json\n",
      "Processing 200.json\n",
      "Processing 400.json\n",
      "Processing 600.json\n",
      "Processing 800.json\n",
      "Processing 1000.json\n"
     ]
    }
   ],
   "source": [
    "for AMOUNT in 100 200 400 600 800 1000\n",
    "do\n",
    "    FILENAME=\"$AMOUNT.json\"\n",
    "    echo \"Processing $FILENAME\"\n",
    "    echo \"[\" > $FILENAME\n",
    "    ls data/*.json | xargs  sed \"s/}, {/},\\n{/g; s/\\[{/{/g; s/}\\]/}/g;\" |  grep '\"value\": \"$'$AMOUNT'\"' >> $FILENAME\n",
    "    echo \"]\" >> $FILENAME\n",
    "done"
   ]
  },
  {
   "cell_type": "markdown",
   "id": "8e2ed81a-a815-426e-92a2-26b2b3e1504b",
   "metadata": {},
   "source": [
    "We can also put that into a file and execute it."
   ]
  },
  {
   "cell_type": "code",
   "execution_count": 29,
   "id": "ab1a2bd7-7553-49ca-9ece-db012547fe10",
   "metadata": {},
   "outputs": [
    {
     "name": "stdout",
     "output_type": "stream",
     "text": [
      "bash: ./sort_data.sh: Permission denied\n"
     ]
    },
    {
     "ename": "",
     "evalue": "126",
     "output_type": "error",
     "traceback": []
    }
   ],
   "source": [
    "./sort_data.sh"
   ]
  },
  {
   "cell_type": "markdown",
   "id": "88d5f164-f0c4-4163-899b-10177b27dc04",
   "metadata": {},
   "source": [
    "Let's check why we cannot execute it. "
   ]
  },
  {
   "cell_type": "code",
   "execution_count": 30,
   "id": "551045b4-b8a3-4fa5-ac32-ed8a6f45e3f3",
   "metadata": {},
   "outputs": [
    {
     "name": "stdout",
     "output_type": "stream",
     "text": [
      "-rw-r--r--  1 fabee  staff  274 Apr 24 13:18 sort_data.sh\n"
     ]
    }
   ],
   "source": [
    "ls -l sort_data.sh"
   ]
  },
  {
   "cell_type": "markdown",
   "id": "8ec1f4e3-4ea1-43b1-9893-422d818d19ca",
   "metadata": {},
   "source": [
    "We are missing permissions. We can fix that via"
   ]
  },
  {
   "cell_type": "code",
   "execution_count": 35,
   "id": "e3dde773-7b8f-43d2-b2aa-2b9c159a2748",
   "metadata": {
    "tags": []
   },
   "outputs": [],
   "source": [
    "chmod a-x sort_data.sh"
   ]
  },
  {
   "cell_type": "code",
   "execution_count": 36,
   "id": "d154898b-4983-48a3-9910-6ccd21341754",
   "metadata": {
    "tags": []
   },
   "outputs": [
    {
     "name": "stdout",
     "output_type": "stream",
     "text": [
      "-rw-r--r--  1 fabee  staff  274 Apr 24 13:18 sort_data.sh\n"
     ]
    }
   ],
   "source": [
    "ls -l sort_data.sh"
   ]
  },
  {
   "cell_type": "code",
   "execution_count": 37,
   "id": "4c665a1f-5c15-4d52-997f-82519e8a5bd5",
   "metadata": {},
   "outputs": [],
   "source": [
    "chmod u+x sort_data.sh"
   ]
  },
  {
   "cell_type": "code",
   "execution_count": 40,
   "id": "d2b3d011-37e0-43ea-a6c8-c594ad60cf44",
   "metadata": {},
   "outputs": [
    {
     "name": "stdout",
     "output_type": "stream",
     "text": [
      "-rwxr--r--  1 fabee  staff  274 Apr 24 13:18 sort_data.sh\n"
     ]
    }
   ],
   "source": [
    "ls -la sort_data.sh"
   ]
  },
  {
   "cell_type": "code",
   "execution_count": 41,
   "id": "1d0d7035-f014-4b80-ba91-8ba182663564",
   "metadata": {},
   "outputs": [
    {
     "name": "stdout",
     "output_type": "stream",
     "text": [
      "Processing 100.json\n",
      "Processing 200.json\n",
      "Processing 400.json\n",
      "Processing 600.json\n",
      "Processing 800.json\n",
      "Processing 1000.json\n"
     ]
    }
   ],
   "source": [
    "./sort_data.sh"
   ]
  },
  {
   "cell_type": "code",
   "execution_count": null,
   "id": "7911a8db-aee0-4f6c-b17f-2628a39804e5",
   "metadata": {},
   "outputs": [],
   "source": []
  }
 ],
 "metadata": {
  "kernelspec": {
   "display_name": "Bash",
   "language": "bash",
   "name": "bash"
  },
  "language_info": {
   "codemirror_mode": "shell",
   "file_extension": ".sh",
   "mimetype": "text/x-sh",
   "name": "bash"
  }
 },
 "nbformat": 4,
 "nbformat_minor": 5
}
