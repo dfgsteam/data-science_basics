{
 "cells": [
  {
   "cell_type": "markdown",
   "id": "93cff492-b993-4b0d-a70b-13c52a25a17f",
   "metadata": {},
   "source": [
    "## Hausaufgabe 2 \n",
    "\n",
    "### Abgage via studip bis spätestens 08.05. 12:00 Uhr (zur VL)! \n",
    "### Verteidigung 11.05. 08:00-10:00 Uhr (Timeslots werden vorher bekannt gegeben)!\n",
    "\n",
    "\n",
    "- In jedem Blatt kann maximal 5% Bonus erreicht werden, falls:\n",
    "    - Mind. 60% des Arbeitsblatts korrekt bearbeitet wurde und\n",
    "    - das Arbeitsblatt erfolgreich verteidigt (den Tutoren erklärt) wurde.\n",
    "    - Bonus % = 5% * Teil der Hausaufgabe erfolgreich verteidigt\n",
    "    - Erfolgreiche Verteidigung: Ein von uns ausgewähltes Team-Mitglied erklärt die Lösung und beantwortet Fragen dazu.\n",
    "    - ChatGPT und andere Hilfsmittel dürfen verwendet werden, müssen aber zitiert werden.\n",
    "    - Code muss ohne Hilfsmittel erläutert werden\n",
    "- Wir bewerten nicht nur die Korrektheit der Ergebnisse, sondern auch ob der Code effizient, einfach zu verstehen, aufgeräumt und gut dokumentiert ist.\n",
    "- Geben Sie eine Lösung pro Gruppe ab und packen Sie Ihre Lösung in eine Zip-Datei mit dem Namen und Matrikelnummer eines Mitglieds. Also z.B. `mustermann_12345678.zip` "
   ]
  },
  {
   "cell_type": "markdown",
   "id": "6a89ae56-4d82-4486-ab4d-053c537e614d",
   "metadata": {},
   "source": [
    "\n",
    "Installatieren Sie (falls nicht vorhanden) den bash-kernel durch: `pip install bash_kernel ; python -m bash_kernel.install`"
   ]
  },
  {
   "cell_type": "markdown",
   "id": "88a1ce2f-002b-4808-980f-b820ae4880c7",
   "metadata": {},
   "source": [
    "_________"
   ]
  },
  {
   "cell_type": "markdown",
   "id": "9ff8bfe9-f1a8-474f-8f6c-c9d78269b08e",
   "metadata": {},
   "source": [
    "\n",
    "In dieser Aufgabe ist das Ziel ein durch einzelne kurze Skripts einen Text zu bearbeiten sodass dieser anschließend einfacher zu verwenden ist (z.B. für Data-Science Anwendungen)"
   ]
  },
  {
   "cell_type": "markdown",
   "id": "bdb4b2f2-fa60-40ae-a990-a1bc1fd35ded",
   "metadata": {},
   "source": [
    "Der Text den wir im Folgenden bearbeiten werden ist das Deutsche Grundgesetz. "
   ]
  },
  {
   "cell_type": "markdown",
   "id": "84acc661-3fd5-4a50-a5e4-dfd42ef39b42",
   "metadata": {},
   "source": [
    "**Gruppe:** Selina Bähr, Alrun Naake, Jakob von Dömming"
   ]
  },
  {
   "cell_type": "markdown",
   "id": "62dd260d-5f9e-4479-b600-148d24122dd3",
   "metadata": {},
   "source": [
    "## 1 a)  [2,5%]"
   ]
  },
  {
   "cell_type": "markdown",
   "id": "a70f8b74-7a10-4887-b598-4976c2d072e8",
   "metadata": {},
   "source": [
    "Erstellen Sie einen neuen Ordner und laden Sie den Text herunter den Sie unter folgender Adresse finden: https://raw.githubusercontent.com/levinalex/deutsche_verfassungen/master/grundgesetz/grundgesetz.txt "
   ]
  },
  {
   "cell_type": "code",
   "execution_count": null,
   "id": "8734292e-b287-4907-884c-a37c1838b500",
   "metadata": {
    "tags": []
   },
   "outputs": [],
   "source": [
    "# Fix für Entwicklungsumgebung\n",
    "mkdir -p ~/ds1\n",
    "cd ~/ds1"
   ]
  },
  {
   "cell_type": "code",
   "execution_count": 1,
   "id": "4cf7ec97",
   "metadata": {
    "tags": [],
    "vscode": {
     "languageId": "shellscript"
    }
   },
   "outputs": [
    {
     "name": "stdout",
     "output_type": "stream",
     "text": [
      "--2024-04-26 22:55:54--  https://raw.githubusercontent.com/levinalex/deutsche_verfassungen/master/grundgesetz/grundgesetz.txt\n",
      "Resolving raw.githubusercontent.com (raw.githubusercontent.com)... 185.199.108.133, 185.199.110.133, 185.199.109.133, ...\n",
      "Connecting to raw.githubusercontent.com (raw.githubusercontent.com)|185.199.108.133|:443... connected.\n",
      "HTTP request sent, awaiting response... 200 OK\n",
      "Length: 146482 (143K) [text/plain]\n",
      "Saving to: ‘grundgesetz.txt’\n",
      "\n",
      "grundgesetz.txt     100%[===================>] 143,05K  --.-KB/s    in 0,01s   \n",
      "\n",
      "2024-04-26 22:55:54 (12,8 MB/s) - ‘grundgesetz.txt’ saved [146482/146482]\n",
      "\n"
     ]
    }
   ],
   "source": [
    "rm -rf gg   # Lösche vorherige Ausführungen\n",
    "mkdir -p gg # Erstelle Ordner falls noch nicht vorhanden\n",
    "cd gg       # Gehe in den neuen Ordner (Über die folgenden Zellen sind wir in diesem Ordner)\n",
    "wget https://raw.githubusercontent.com/levinalex/deutsche_verfassungen/master/grundgesetz/grundgesetz.txt -O grundgesetz.txt"
   ]
  },
  {
   "cell_type": "markdown",
   "id": "c944b26c-796f-4640-ab5b-b1d26e39d41e",
   "metadata": {},
   "source": [
    "## 1 b) [10%]\n",
    "Der Text hat eine klare Struktur. Aber am Anfang findet sich ein Stück Text welches nicht in diese Struktur passt. Schreiben Sie ein einzeiliges Skript welches alles vor dem Start der Auflistung der Artikel (und Kapitel) aus dem Text löscht. Speichern Sie die Ausgabe in einer neuen Datei. \n",
    "Stellen Sie sicher dass Ihr Skript auch funktioniert wenn sich der Text am Start ändert!"
   ]
  },
  {
   "cell_type": "code",
   "execution_count": 2,
   "id": "8f496c9f",
   "metadata": {
    "tags": [],
    "vscode": {
     "languageId": "shellscript"
    }
   },
   "outputs": [],
   "source": [
    "# Wir haben hier 3 Ansätze um alle Zeilen vor der \"I\" Zeile zu löschen.\n",
    "\n",
    "#grep '^I$' -A 2000 grundgesetz.txt > grundgesetz-new.txt\n",
    "# Problem: Abhängig von Textlänge.\n",
    "\n",
    "#cat grundgesetz.txt  | tr '\\n' '@' | sed 's,^.*@I@,I@,' | tr '@' '\\n' > grundgesetz-new.txt\n",
    "# Problem: Nicht schön und Abhängig davon, dass der Text kein '@' beinhaltet.\n",
    "\n",
    "sed '/^I$/!d; :a;n;ba' grundgesetz.txt > grundgesetz-new.txt\n",
    "# Erklärung:\n",
    "# /^I$/! matched alle Zeilen die nicht dem regex ^I$ entsprechen.\n",
    "# d; steht für delete\n",
    "# :a; definiert ein label mit dem Namen a\n",
    "# n; liest die nächste Zeile von der Eingabe ein\n",
    "# ba springt zurück zum a label.\n",
    "# :a;n;ba ist also eine Endlosschleife die alle nachfolgenden Zeilen einliest (und ausgibt)"
   ]
  },
  {
   "cell_type": "markdown",
   "id": "cea6b9eb-4e7a-4819-84be-5ee6cb9e3ccc",
   "metadata": {},
   "source": [
    "## 1 c) [10%]\n",
    "Splitten Sie den Text in einzelne Dateien auf basierend auf den Kapiteln (z.B. \"I Die Grundrechte\") nummerieren Sie die Dateien."
   ]
  },
  {
   "cell_type": "code",
   "execution_count": 4,
   "id": "05fc7d12",
   "metadata": {
    "tags": []
   },
   "outputs": [
    {
     "name": "stdout",
     "output_type": "stream",
     "text": [
      "KAPITEL: I Die Grundrechte\n",
      "tail: error writing 'standard output': Broken pipe\n",
      "KAPITEL: II Der Bund und die Länder\n",
      "tail: error writing 'standard output': Broken pipe\n",
      "KAPITEL: III Der Bundestag\n",
      "tail: error writing 'standard output': Broken pipe\n",
      "KAPITEL: IV Der Bundesrat\n",
      "tail: error writing 'standard output': Broken pipe\n",
      "KAPITEL: IVa Gemeinsamer Ausschuß\n",
      "tail: error writing 'standard output': Broken pipe\n",
      "KAPITEL: V Der Bundespräsident\n",
      "tail: error writing 'standard output': Broken pipe\n",
      "KAPITEL: VI Die Bundesregierung\n",
      "tail: error writing 'standard output': Broken pipe\n",
      "KAPITEL: VII Die Gesetzgebung des Bundes\n",
      "tail: error writing 'standard output': Broken pipe\n",
      "KAPITEL: VIII Ausführung der Bundesgesetze und die Bundesverwaltung\n",
      "tail: write error: Broken pipe\n",
      "KAPITEL: IX Rechtsprechung\n",
      "tail: write error: Broken pipe\n",
      "KAPITEL: X Das Finanzwesen\n",
      "tail: write error: Broken pipe\n",
      "KAPITEL: Xa Verteidigungsfall\n"
     ]
    }
   ],
   "source": [
    "# Siehe extract_kapitel.sh\n",
    "bash ../extract_kapitel.sh\n",
    "\n",
    "# Die \"write error: Broken pipe\" Fehlermeldung kommt nur wenn man die Skripte in den Notebooks ausführt und diese haben scheinbar keinen effekt.\n",
    "# Im Terminal funktioniert es ohne die Fehlermeldung."
   ]
  },
  {
   "cell_type": "markdown",
   "id": "9062180c-82cf-427a-b0a8-7db677df12ac",
   "metadata": {
    "tags": []
   },
   "source": [
    "## 1 d) [30%]\n",
    "Splitten Sie jedes Kapitel in die einzelnen Artikel auf. Jeder Artikel soll in einer eigenen Datei sein welche die Nummer des Artikels als Dateinamen. Erstellen Sie für jedes Kapitel einen neuen Unterordner in dem die Artikel gesammelt werden."
   ]
  },
  {
   "cell_type": "code",
   "execution_count": 5,
   "id": "4ae300e4",
   "metadata": {
    "tags": []
   },
   "outputs": [
    {
     "name": "stdout",
     "output_type": "stream",
     "text": [
      "===============================================================\n",
      "Kapitel-I Die Grundrechte\n",
      "  Artikel_1\n",
      "  Artikel_2\n",
      "  Artikel_3\n",
      "  Artikel_4\n",
      "  Artikel_5\n",
      "  Artikel_6\n",
      "  Artikel_7\n",
      "  Artikel_8\n",
      "  Artikel_9\n",
      "  Artikel_10\n",
      "  Artikel_11\n",
      "  Artikel_12\n",
      "  Artikel_12_a\n",
      "  Artikel_13\n",
      "  Artikel_14\n",
      "  Artikel_15\n",
      "  Artikel_16\n",
      "  Artikel_16_a\n",
      "  Artikel_17\n",
      "  Artikel_17_a\n",
      "  Artikel_18\n",
      "===============================================================\n",
      "Kapitel-II Der Bund und die Länder\n",
      "  Artikel_20\n",
      "  Artikel_20_a\n",
      "  Artikel_21\n",
      "  Artikel_22\n",
      "  Artikel_23\n",
      "  Artikel_24\n",
      "  Artikel_25\n",
      "  Artikel_26\n",
      "  Artikel_27\n",
      "  Artikel_28\n",
      "  Artikel_29\n",
      "  Artikel_30\n",
      "  Artikel_31\n",
      "  Artikel_32\n",
      "  Artikel_33\n",
      "  Artikel_34\n",
      "  Artikel_35\n",
      "  Artikel_36\n",
      "===============================================================\n",
      "Kapitel-III Der Bundestag\n",
      "  Artikel_38\n",
      "  Artikel_39\n",
      "  Artikel_40\n",
      "  Artikel_41\n",
      "  Artikel_42\n",
      "  Artikel_43\n",
      "  Artikel_44\n",
      "  Artikel_45\n",
      "  Artikel_45_a\n",
      "  Artikel_45_b\n",
      "  Artikel_45_c\n",
      "  Artikel_46\n",
      "  Artikel_47\n",
      "  Artikel_48\n",
      "===============================================================\n",
      "Kapitel-IVa Gemeinsamer Ausschuß\n",
      "===============================================================\n",
      "Kapitel-IV Der Bundesrat\n",
      "  Artikel_50\n",
      "  Artikel_51\n",
      "  Artikel_52\n",
      "===============================================================\n",
      "Kapitel-IX Rechtsprechung\n",
      "  Artikel_92\n",
      "  Artikel_93\n",
      "  Artikel_94\n",
      "  Artikel_95\n",
      "tail: write error: Broken pipe\n",
      "  Artikel_96\n",
      "  Artikel_97\n",
      "  Artikel_98\n",
      "tail: write error: Broken pipe\n",
      "  Artikel_99\n",
      "  Artikel_100\n",
      "  Artikel_101\n",
      "  Artikel_102\n",
      "  Artikel_103\n",
      "===============================================================\n",
      "Kapitel-V Der Bundespräsident\n",
      "  Artikel_54\n",
      "  Artikel_55\n",
      "  Artikel_56\n",
      "  Artikel_57\n",
      "  Artikel_58\n",
      "  Artikel_59\n",
      "  Artikel_60\n",
      "===============================================================\n",
      "Kapitel-VI Die Bundesregierung\n",
      "  Artikel_62\n",
      "  Artikel_63\n",
      "  Artikel_64\n",
      "  Artikel_65\n",
      "  Artikel_65_a\n",
      "  Artikel_66\n",
      "  Artikel_67\n",
      "  Artikel_68\n",
      "===============================================================\n",
      "Kapitel-VII Die Gesetzgebung des Bundes\n",
      "  Artikel_70\n",
      "  Artikel_71\n",
      "  Artikel_72\n",
      "  Artikel_73\n",
      "  Artikel_74\n",
      "  Artikel_75\n",
      "  Artikel_76\n",
      "  Artikel_77\n",
      "tail: write error: Broken pipe\n",
      "  Artikel_78\n",
      "  Artikel_79\n",
      "  Artikel_80\n",
      "  Artikel_80_a\n",
      "  Artikel_81\n",
      "===============================================================\n",
      "Kapitel-VIII Ausführung der Bundesgesetze und die Bundesverwaltung\n",
      "  Artikel_83\n",
      "  Artikel_84\n",
      "  Artikel_85\n",
      "  Artikel_86\n",
      "  Artikel_87\n",
      "  Artikel_87_a\n",
      "  Artikel_87_b\n",
      "  Artikel_87_c\n",
      "  Artikel_87_d\n",
      "  Artikel_87_e\n",
      "  Artikel_87_f\n",
      "  Artikel_88\n",
      "  Artikel_89\n",
      "  Artikel_90\n",
      "  Artikel_91\n",
      "  Artikel_91_a\n",
      "===============================================================\n",
      "Kapitel-Xa Verteidigungsfall\n",
      "  Artikel_115_a\n",
      "  Artikel_115_b\n",
      "  Artikel_115_c\n",
      "  Artikel_115_d\n",
      "  Artikel_115_e\n",
      "  Artikel_115_f\n",
      "  Artikel_115_g\n",
      "  Artikel_115_h\n",
      "  Artikel_115_i\n",
      "  Artikel_115_k\n",
      "===============================================================\n",
      "Kapitel-X Das Finanzwesen\n",
      "  Artikel_104_a\n",
      "  Artikel_105\n",
      "  Artikel_106\n",
      "  Artikel_106_a\n",
      "  Artikel_107\n",
      "  Artikel_108\n",
      "  Artikel_109\n",
      "  Artikel_110\n",
      "  Artikel_111\n",
      "  Artikel_112\n",
      "  Artikel_113\n",
      "  Artikel_114\n",
      "===============================================================\n",
      "Kapitel-XI Übergangs- und Schlußbestimmungen\n",
      "  Artikel_116\n",
      "  Artikel_117\n",
      "  Artikel_118\n",
      "  Artikel_118_a\n",
      "  Artikel_119\n",
      "  Artikel_120\n",
      "  Artikel_120_a\n",
      "  Artikel_121\n",
      "  Artikel_122\n",
      "  Artikel_123\n",
      "  Artikel_124\n",
      "  Artikel_125\n",
      "  Artikel_125_a\n",
      "  Artikel_126\n",
      "  Artikel_127\n",
      "  Artikel_128\n",
      "  Artikel_129\n",
      "  Artikel_130\n",
      "  Artikel_131\n",
      "  Artikel_132\n",
      "  Artikel_133\n",
      "  Artikel_134\n",
      "  Artikel_135\n",
      "  Artikel_135_a\n",
      "  Artikel_136\n",
      "  Artikel_137\n",
      "  Artikel_138\n",
      "  Artikel_139\n",
      "  Artikel_140\n",
      "  Artikel_141\n",
      "  Artikel_142\n",
      "  Artikel_143\n",
      "  Artikel_143_a\n",
      "  Artikel_143_b\n",
      "  Artikel_144\n",
      "  Artikel_145\n"
     ]
    }
   ],
   "source": [
    "# Siehe extract_article.sh\n",
    "bash ../extract_article.sh\n",
    "\n",
    "# Die \"write error: Broken pipe\" Fehlermeldung kommt nur wenn man die Skripte in den Notebooks ausführt und diese haben scheinbar keinen effekt.\n",
    "# Im Terminal funktioniert es ohne die Fehlermeldung. "
   ]
  },
  {
   "cell_type": "markdown",
   "id": "a31a8bd9-912e-4b77-894c-74bba797cdfd",
   "metadata": {},
   "source": [
    "## 1 e) [5%]\n",
    "Löschen Sie die ursprünglichen Daten und die Daten welche Sie im Verlauf des Prozesses (abgesehen von 1d)) generiert haben. Am Ende sollen nur noch die Dateien zu den einzelnen Artikel (in getrennten Ordnern) vorhanden sein.  "
   ]
  },
  {
   "cell_type": "code",
   "execution_count": 6,
   "id": "371bf163",
   "metadata": {
    "tags": []
   },
   "outputs": [],
   "source": [
    "rm *.txt\n"
   ]
  },
  {
   "cell_type": "markdown",
   "id": "07fe1e5b-805e-40ad-b28a-2d26553ba710",
   "metadata": {},
   "source": [
    "## 1 f) [2,5%]\n",
    "Packen Sie den Inhalt des gesamten Ordners in komprimiertes tar-Archiv."
   ]
  },
  {
   "cell_type": "code",
   "execution_count": 7,
   "id": "7457866e-a7bb-4d10-af90-eb893ba92343",
   "metadata": {},
   "outputs": [],
   "source": [
    "cd .. # Gehe aus gg Ordner raus."
   ]
  },
  {
   "cell_type": "code",
   "execution_count": 8,
   "id": "83b3476e",
   "metadata": {
    "tags": []
   },
   "outputs": [],
   "source": [
    "tar -czf Grundgesetz.tar.gz gg\n",
    "# -c : create\n",
    "# -z : compress\n",
    "# -f <file> : output file"
   ]
  },
  {
   "cell_type": "markdown",
   "id": "76f7f642-b851-473a-a90d-5046ede450a2",
   "metadata": {},
   "source": [
    "_________"
   ]
  },
  {
   "cell_type": "markdown",
   "id": "ef3bbe6b-21bd-47a8-9d74-1c13e3453c8d",
   "metadata": {
    "vscode": {
     "languageId": "shellscript"
    }
   },
   "source": [
    "## 2 a) [20%]\n",
    "Schreiben Sie ein Shell-Skript, dass alle x Sekunden ausgibt ob ein durch eine PID identifizierter Prozess läuft oder nicht.\n",
    "Übergeben Sie die Anzahl an Sekunden und die PID als Parameter an das Skript, sodass es wie folgt aufgerufen werden kann:\n",
    "\n",
    "```bash\n",
    "$ script [PID] [SECONDS]\n",
    "```\n",
    "Ihnen sind keine Einschränkungen gegeben, welche Befehle Sie dafür verwenden.\n",
    "\n",
    "**Nützliche Befehle:** `grep`,`ps`"
   ]
  },
  {
   "cell_type": "code",
   "execution_count": 9,
   "id": "3e635150-75e2-4b9e-8eeb-7f22973ef75b",
   "metadata": {
    "tags": []
   },
   "outputs": [],
   "source": [
    "# Siehe pid_checker.sh"
   ]
  },
  {
   "cell_type": "markdown",
   "id": "623c7c5d-0f24-4e65-acf9-499164214986",
   "metadata": {
    "tags": []
   },
   "source": [
    "## 2 b) [20%]\n",
    "Schreiben Sie ein Shell-Skript, das die Verzeichnisstruktur eines als Parameter angegebenen Verzeichnisses auflisten kann. Schreiben Sie dazu eine rekursive Funktion, die in Unterverzeichnisse herabsteigt. \n",
    "Geben Sie das Verzeichnis und die Dateien auf dem Bildschirm aus. \n",
    "Nutzen Sie Einrückungen um die Zugehörigkeit von Dateien und Verzeichnissen zueinander zu kennzeichnen. \n",
    "Dies kann dann zum Beispiel so aussehen:\n",
    "\n",
    "```\n",
    "File: linux-3.14/COPYING\n",
    "File: linux-3.14/CREDITS\n",
    "Directory: linux-3.14/Documentation\n",
    "    File: linux-3.14/Documentation/00-INDEX \n",
    "    Directory: linux-3.14/Documentation/ABI\n",
    "        File: linux-3.14/Documentation/ABI/README \n",
    "        Directory: linux-3.14/Documentation/ABI/obsolete        \n",
    "            File: linux-3.14/Documentation/ABI/obsolete/proc-sys-vm-nr_pdflush_threads \n",
    "            File: linux-3.14/Documentation/ABI/obsolete/sysfs-bus-usb\n",
    "            File: linux-3.14/Documentation/ABI/obsolete/sysfs-class-rfkill\n",
    "            File: linux-3.14/Documentation/ABI/obsolete/sysfs-driver-hid-roccat-koneplus \n",
    "            File: linux-3.14/Documentation/ABI/obsolete/sysfs-driver-hid-roccat-kovaplus \n",
    "            File: linux-3.14/Documentation/ABI/obsolete/sysfs-driver-hid-roccat-pyra\n",
    "        Directory: linux-3.14/Documentation/ABI/removed \n",
    "            File: linux-3.14/Documentation/ABI/removed/devfs \n",
    "            File: linux-3.14/Documentation/ABI/removed/dv1394\n",
    "...\n",
    "\n",
    "```\n",
    "\n",
    "**Hinweis:** es ist möglich, in der bash Funktionen zu definieren. Die Syntax finden Sie z.B. hier: http://tldp.org/LDP/abs/html/functions.html\n",
    "\n",
    "**Nützliche Befehle:** `find`,`printf`"
   ]
  },
  {
   "cell_type": "code",
   "execution_count": 10,
   "id": "a6375dbf-f6fb-4c06-9df9-c4ba309e1863",
   "metadata": {
    "tags": []
   },
   "outputs": [],
   "source": [
    "# Siehe tree.sh"
   ]
  }
 ],
 "metadata": {
  "kernelspec": {
   "display_name": "Bash",
   "language": "bash",
   "name": "bash"
  },
  "language_info": {
   "codemirror_mode": "shell",
   "file_extension": ".sh",
   "mimetype": "text/x-sh",
   "name": "bash"
  },
  "vscode": {
   "interpreter": {
    "hash": "8fa2a39dc98f14384214061e3a8c32603dbb899665817f3de4b9ccce2b523a71"
   }
  }
 },
 "nbformat": 4,
 "nbformat_minor": 5
}
