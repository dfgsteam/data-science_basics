{
 "cells": [
  {
   "attachments": {},
   "cell_type": "markdown",
   "id": "62dd260d-5f9e-4479-b600-148d24122dd3",
   "metadata": {},
   "source": [
    "## 1 a)  [2,5%]"
   ]
  },
  {
   "cell_type": "markdown",
   "id": "a70f8b74-7a10-4887-b598-4976c2d072e8",
   "metadata": {},
   "source": [
    "Erstellen Sie einen neuen Ordner und laden Sie den Text herunter den Sie unter folgender Adresse finden: https://raw.githubusercontent.com/levinalex/deutsche_verfassungen/master/grundgesetz/grundgesetz.txt "
   ]
  },
  {
   "cell_type": "code",
   "execution_count": 32,
   "id": "1679b833",
   "metadata": {
    "vscode": {
     "languageId": "shellscript"
    }
   },
   "outputs": [
    {
     "name": "stdout",
     "output_type": "stream",
     "text": [
      "mkdir: cannot create directory ‘Grundgesetz’: No such file or directory\n",
      "bash: cd: Grundgesetz: No such file or directory\n"
     ]
    },
    {
     "ename": "",
     "evalue": "1",
     "output_type": "error",
     "traceback": []
    }
   ],
   "source": [
    "mkdir Grundgesetz\n",
    "cd Grundgesetz"
   ]
  },
  {
   "cell_type": "code",
   "execution_count": 2,
   "id": "b85d8340",
   "metadata": {
    "vscode": {
     "languageId": "shellscript"
    }
   },
   "outputs": [
    {
     "name": "stdout",
     "output_type": "stream",
     "text": [
      "  % Total    % Received % Xferd  Average Speed   Time    Time     Time  Current\n",
      "                                 Dload  Upload   Total   Spent    Left  Speed\n",
      "100  143k  100  143k    0     0   796k      0 --:--:-- --:--:-- --:--:--  799k\n"
     ]
    }
   ],
   "source": [
    "curl -o grundgesetz.txt https://raw.githubusercontent.com/levinalex/deutsche_verfassungen/master/grundgesetz/grundgesetz.txt"
   ]
  },
  {
   "attachments": {},
   "cell_type": "markdown",
   "id": "c944b26c-796f-4640-ab5b-b1d26e39d41e",
   "metadata": {},
   "source": [
    "## 1 b) [10%]\n",
    "Der Text hat eine klare Struktur. Aber am Anfang findet sich ein Stück Text welches nicht in diese Struktur passt. Schreiben Sie ein einzeiliges Skript welches alles vor dem Start der Auflistung der Artikel (und Kapitel) aus dem Text löscht. Speichern Sie die Ausgabe in einer neuen Datei. \n",
    "Stellen Sie sicher dass Ihr Skript auch funktioniert wenn sich der Text am Start ändert!"
   ]
  },
  {
   "cell_type": "code",
   "execution_count": 3,
   "id": "bb55a718",
   "metadata": {
    "vscode": {
     "languageId": "shellscript"
    }
   },
   "outputs": [],
   "source": [
    "sed '/^I$/,$!d' grundgesetz.txt > gg_clean.txt"
   ]
  },
  {
   "attachments": {},
   "cell_type": "markdown",
   "id": "cea6b9eb-4e7a-4819-84be-5ee6cb9e3ccc",
   "metadata": {},
   "source": [
    "## 1 c) [10%]\n",
    "Splitten Sie den Text in einzelne Dateien auf basierend auf den Kapiteln (z.B. \"I Die Grundrechte\") nummerieren Sie die Dateien."
   ]
  },
  {
   "cell_type": "code",
   "execution_count": 4,
   "id": "14a49600",
   "metadata": {
    "vscode": {
     "languageId": "shellscript"
    }
   },
   "outputs": [],
   "source": [
    "# Creating an array with the roman numerals.\n",
    "numerals=(I II III IV IVa V VI VII VIII IX X Xa XI)\n",
    "\n",
    "# Looping through the numbers our resulting files should start with.\n",
    "for i in 1 2 3 4 5 6 7 8 9 10 11 12 13\n",
    "do \n",
    "    # Edge case: The last chapter does not need to be cut again at the end.\n",
    "    # Direct text to the corresponding txt file.\n",
    "    if [[ \"${numerals[$(($i - 1))]}\" == 'XI' ]]\n",
    "    then\n",
    "        sed '/^XI$/,$!d' gg_clean.txt > 13.txt\n",
    "    else\n",
    "    # Otherwise cut out everything between the roman numerals and delete the second one.\n",
    "    # Afterwards put the resulting text in a new file.\n",
    "        sed '/^'\"${numerals[$(($i - 1))]}\"'$/,/^'\"${numerals[$i]}\"'$/!d' gg_clean.txt | sed '/^'\"${numerals[$i]}\"'$/d' > $i.txt\n",
    "    fi\n",
    "done"
   ]
  },
  {
   "attachments": {},
   "cell_type": "markdown",
   "id": "9062180c-82cf-427a-b0a8-7db677df12ac",
   "metadata": {},
   "source": [
    "## 1 d) [30%]\n",
    "Splitten Sie jedes Kapitel in die einzelnen Artikel auf. Jeder Artikel soll in einer eigenen Datei sein welche die Nummer des Artikels als Dateinamen. Erstellen Sie für jedes Kapitel einen neuen Unterordner in dem die Artikel gesammelt werden."
   ]
  },
  {
   "cell_type": "code",
   "execution_count": 5,
   "id": "4ae300e4",
   "metadata": {
    "vscode": {
     "languageId": "shellscript"
    }
   },
   "outputs": [
    {
     "name": "stdout",
     "output_type": "stream",
     "text": [
      "chapter 1 done\n",
      "chapter 2 done\n",
      "chapter 3 done\n",
      "chapter 4 done\n",
      "chapter 4a done\n",
      "chapter 5 done\n",
      "chapter 6 done\n",
      "chapter 7 done\n",
      "chapter 8 done\n",
      "chapter 9 done\n",
      "chapter 10 done\n",
      "chapter 10a done\n",
      "bash: articles_chapter_XI: bad array subscript\n",
      "bash: articles_chapter_XI: bad array subscript\n",
      "bash: articles_chapter_XI: bad array subscript\n",
      "chapter 11 done\n"
     ]
    }
   ],
   "source": [
    "# This could be done in one for loop, but it would not help the already bad readability.\n",
    "\n",
    "# ---------------------------\n",
    "\n",
    "# Chapter 1\n",
    "# Creating an array with the numbers of each article in the chapter.\n",
    "articles_chapter_I=(1 2 3 4 5 6 7 8 9 10 11 12 '12 a' 13 14 15 16 '16 a' 17 '17 a' 18 19)\n",
    "\n",
    "# Creating the directory\n",
    "mkdir chapter_1\n",
    "\n",
    "# finding out the length of our array\n",
    "len=${#articles_chapter_I[@]}\n",
    "\n",
    "# Looping through the array of numbers our resulting files should start with.\n",
    "for (( i=1; i<$len; i++ ))\n",
    "do\n",
    "    # Edge case: The last article does not need to be cut again at the end.\n",
    "    # Direct text to the corresponding txt file in the chapters directory.\n",
    "    if [[ \"${articles_chapter_I[$(($i - 1))]}\" == '19' ]]\n",
    "    then\n",
    "        sed '/^Artikel 19$/,$!d' 1.txt > ./chapter_1/\"${articles_chapter_I[$(($i - 1))]}\".txt\n",
    "    else\n",
    "    # Otherwise cut out everything between the article headers and delete the second one.\n",
    "    # Afterwards put the resulting text in a new file in the chapters directory.\n",
    "        sed '/^Artikel '\"${articles_chapter_I[$(($i - 1))]}\"'$/,/^Artikel '\"${articles_chapter_I[$i]}\"'$/!d' 1.txt | sed '/^Artikel '\"${articles_chapter_I[$i]}\"'/d' > ./chapter_1/\"${articles_chapter_I[$(($i - 1))]}\".txt\n",
    "    fi\n",
    "done\n",
    "\n",
    "echo \"chapter 1 done\"\n",
    "# ---------------------------\n",
    "\n",
    "# Chapter 2\n",
    "# Creating an array with the numbers of each article in the chapter.\n",
    "articles_chapter_II=(20 '20 a' 21 22 23 24 25 26 27 28 29 30 31 32 33 34 35 36 37)\n",
    "\n",
    "# Creating the directory\n",
    "mkdir chapter_2\n",
    "\n",
    "# finding out the length of our array\n",
    "len=${#articles_chapter_II[@]}\n",
    "\n",
    "# Looping through the array of numbers our resulting files should start with.\n",
    "for (( i=1; i<$len; i++ ))\n",
    "do\n",
    "    # Edge case: The last article does not need to be cut again at the end.\n",
    "    # Direct text to the corresponding txt file in the chapters directory.\n",
    "    if [[ \"${articles_chapter_II[$(($i - 1))]}\" == '37' ]]\n",
    "    then\n",
    "        sed '/^Artikel 37$/,$!d' 2.txt > ./chapter_2/\"${articles_chapter_II[$(($i - 1))]}\".txt\n",
    "    else\n",
    "    # Otherwise cut out everything between the article headers and delete the second one.\n",
    "    # Afterwards put the resulting text in a new file in the chapters directory.\n",
    "        sed '/^Artikel '\"${articles_chapter_II[$(($i - 1))]}\"'$/,/^Artikel '\"${articles_chapter_II[$i]}\"'$/!d' 2.txt | sed '/^Artikel '\"${articles_chapter_II[$i]}\"'/d' > ./chapter_2/\"${articles_chapter_II[$(($i - 1))]}\".txt\n",
    "    fi\n",
    "done\n",
    "\n",
    "echo \"chapter 2 done\"\n",
    "#----------------------------\n",
    "\n",
    "# Chapter 3\n",
    "# Creating an array with the numbers of each article in the chapter.\n",
    "articles_chapter_III=(38 39 40 41 42 43 44 45 '45 a' '45 b' '45 c' 46 47 48 49)\n",
    "\n",
    "# Creating the directory\n",
    "mkdir chapter_3\n",
    "\n",
    "# finding out the length of our array\n",
    "len=${#articles_chapter_III[@]}\n",
    "\n",
    "# Looping through the array of numbers our resulting files should start with.\n",
    "for (( i=1; i<$len; i++ ))\n",
    "do\n",
    "    # Edge case: The last article does not need to be cut again at the end.\n",
    "    # Direct text to the corresponding txt file in the chapters directory.\n",
    "    if [[ \"${articles_chapter_III[$(($i - 1))]}\" == '49' ]]\n",
    "    then\n",
    "        sed '/^Artikel 49$/,$!d' 3.txt > ./chapter_3/\"${articles_chapter_II[$(($i - 1))]}\".txt\n",
    "    else\n",
    "    # Otherwise cut out everything between the article headers and delete the second one.\n",
    "    # Afterwards put the resulting text in a new file in the chapters directory.\n",
    "        sed '/^Artikel '\"${articles_chapter_III[$(($i - 1))]}\"'$/,/^Artikel '\"${articles_chapter_III[$i]}\"'$/!d' 3.txt | sed '/^Artikel '\"${articles_chapter_III[$i]}\"'/d' > ./chapter_3/\"${articles_chapter_III[$(($i - 1))]}\".txt\n",
    "    fi\n",
    "done\n",
    "\n",
    "echo \"chapter 3 done\"\n",
    "#----------------------------\n",
    "\n",
    "# Chapter 4\n",
    "# Creating an array with the numbers of each article in the chapter.\n",
    "articles_chapter_IV=(50 51 52 53)\n",
    "\n",
    "# Creating the directory\n",
    "mkdir chapter_4\n",
    "\n",
    "# finding out the length of our array\n",
    "len=${#articles_chapter_IV[@]}\n",
    "\n",
    "# Looping through the array of numbers our resulting files should start with.\n",
    "for (( i=1; i<$len; i++ ))\n",
    "do\n",
    "    # Edge case: The last article does not need to be cut again at the end.\n",
    "    # Direct text to the corresponding txt file in the chapters directory.\n",
    "    if [[ \"${articles_chapter_IV[$(($i - 1))]}\" == '53' ]]\n",
    "    then\n",
    "        sed '/^Artikel 53$/,$!d' 4.txt > ./chapter_4/\"${articles_chapter_II[$(($i - 1))]}\".txt\n",
    "    else\n",
    "    # Otherwise cut out everything between the article headers and delete the second one.\n",
    "    # Afterwards put the resulting text in a new file in the chapters directory.\n",
    "        sed '/^Artikel '\"${articles_chapter_IV[$(($i - 1))]}\"'$/,/^Artikel '\"${articles_chapter_IV[$i]}\"'$/!d' 4.txt | sed '/^Artikel '\"${articles_chapter_IV[$i]}\"'/d' > ./chapter_4/\"${articles_chapter_IV[$(($i - 1))]}\".txt\n",
    "    fi\n",
    "done\n",
    "\n",
    "echo \"chapter 4 done\"\n",
    "#----------------------------\n",
    "\n",
    "# Chapter 4a\n",
    "# Creating an array with the numbers of each article in the chapter.\n",
    "articles_chapter_IVa=('53 a')\n",
    "\n",
    "# Creating the directory\n",
    "mkdir chapter_4a\n",
    "\n",
    "# finding out the length of our array\n",
    "len=${#articles_chapter_IVa[@]}\n",
    "\n",
    "# Looping through the array of numbers our resulting files should start with.\n",
    "for (( i=1; i<$len; i++ ))\n",
    "do\n",
    "    # Edge case: The last article does not need to be cut again at the end.\n",
    "    # Direct text to the corresponding txt file in the chapters directory.\n",
    "    if [[ \"${articles_chapter_IVa[$(($i - 1))]}\" == '53 a' ]]\n",
    "    then\n",
    "        sed '/^Artikel 53 a$/,$!d' 5.txt > ./chapter_4a/\"${articles_chapter_IVa[$(($i - 1))]}\".txt\n",
    "    else\n",
    "    # Otherwise cut out everything between the article headers and delete the second one.\n",
    "    # Afterwards put the resulting text in a new file in the chapters directory.\n",
    "        sed '/^Artikel '\"${articles_chapter_IVa[$(($i - 1))]}\"'$/,/^Artikel '\"${articles_chapter_IVa[$i]}\"'$/!d' 5.txt | sed '/^Artikel '\"${articles_chapter_IVa[$i]}\"'/d' > ./chapter_4a/\"${articles_chapter_IVa[$(($i - 1))]}\".txt\n",
    "    fi\n",
    "done\n",
    "\n",
    "echo \"chapter 4a done\"\n",
    "#----------------------------\n",
    "\n",
    "# Chapter 5\n",
    "# Creating an array with the numbers of each article in the chapter.\n",
    "articles_chapter_V=(54 55 56 57 58 59 60 61)\n",
    "\n",
    "# Creating the directory\n",
    "mkdir chapter_5\n",
    "\n",
    "# finding out the length of our array\n",
    "len=${#articles_chapter_V[@]}\n",
    "\n",
    "# Looping through the array of numbers our resulting files should start with.\n",
    "for (( i=1; i<$len; i++ ))\n",
    "do\n",
    "    # Edge case: The last article does not need to be cut again at the end.\n",
    "    # Direct text to the corresponding txt file in the chapters directory.\n",
    "    if [[ \"${articles_chapter_V[$(($i - 1))]}\" == '61' ]]\n",
    "    then\n",
    "        sed '/^Artikel 61$/,$!d' 6.txt > ./chapter_5/\"${articles_chapter_V[$(($i - 1))]}\".txt\n",
    "    else\n",
    "    # Otherwise cut out everything between the article headers and delete the second one.\n",
    "    # Afterwards put the resulting text in a new file in the chapters directory.\n",
    "        sed '/^Artikel '\"${articles_chapter_V[$(($i - 1))]}\"'$/,/^Artikel '\"${articles_chapter_V[$i]}\"'$/!d' 6.txt | sed '/^Artikel '\"${articles_chapter_V[$i]}\"'/d' > ./chapter_5/\"${articles_chapter_V[$(($i - 1))]}\".txt\n",
    "    fi\n",
    "done\n",
    "\n",
    "echo \"chapter 5 done\"\n",
    "#----------------------------\n",
    "\n",
    "# Chapter 6\n",
    "# Creating an array with the numbers of each article in the chapter.\n",
    "articles_chapter_VI=(62 63 64 65 '65 a' 66 67 68 69)\n",
    "\n",
    "# Creating the directory\n",
    "mkdir chapter_6\n",
    "\n",
    "# finding out the length of our array\n",
    "len=${#articles_chapter_VI[@]}\n",
    "\n",
    "# Looping through the array of numbers our resulting files should start with.\n",
    "for (( i=1; i<$len; i++ ))\n",
    "do\n",
    "    # Edge case: The last article does not need to be cut again at the end.\n",
    "    # Direct text to the corresponding txt file in the chapters directory.\n",
    "    if [[ \"${articles_chapter_VI[$(($i - 1))]}\" == '69' ]]\n",
    "    then\n",
    "        sed '/^Artikel 69$/,$!d' 7.txt > ./chapter_6/\"${articles_chapter_VI[$(($i - 1))]}\".txt\n",
    "    else\n",
    "    # Otherwise cut out everything between the article headers and delete the second one.\n",
    "    # Afterwards put the resulting text in a new file in the chapters directory.\n",
    "        sed '/^Artikel '\"${articles_chapter_VI[$(($i - 1))]}\"'$/,/^Artikel '\"${articles_chapter_VI[$i]}\"'$/!d' 7.txt | sed '/^Artikel '\"${articles_chapter_VI[$i]}\"'/d' > ./chapter_6/\"${articles_chapter_VI[$(($i - 1))]}\".txt\n",
    "    fi\n",
    "done\n",
    "\n",
    "echo \"chapter 6 done\"\n",
    "#----------------------------\n",
    "\n",
    "# Chapter 7\n",
    "# Creating an array with the numbers of each article in the chapter.\n",
    "articles_chapter_VII=(70 71 72 73 74 75 76 77 78 79 80 '80 a' 81 82)\n",
    "\n",
    "# Creating the directory\n",
    "mkdir chapter_7\n",
    "\n",
    "# finding out the length of our array\n",
    "len=${#articles_chapter_VII[@]}\n",
    "\n",
    "# Looping through the array of numbers our resulting files should start with.\n",
    "for (( i=1; i<$len; i++ ))\n",
    "do\n",
    "    # Edge case: The last article does not need to be cut again at the end.\n",
    "    # Direct text to the corresponding txt file in the chapters directory.\n",
    "    if [[ \"${articles_chapter_VII[$(($i - 1))]}\" == '82' ]]\n",
    "    then\n",
    "        sed '/^Artikel 82$/,$!d' 8.txt > ./chapter_7/\"${articles_chapter_VII[$(($i - 1))]}\".txt\n",
    "    else\n",
    "    # Otherwise cut out everything between the article headers and delete the second one.\n",
    "    # Afterwards put the resulting text in a new file in the chapters directory.\n",
    "        sed '/^Artikel '\"${articles_chapter_VII[$(($i - 1))]}\"'$/,/^Artikel '\"${articles_chapter_VII[$i]}\"'$/!d' 8.txt | sed '/^Artikel '\"${articles_chapter_VII[$i]}\"'/d' > ./chapter_7/\"${articles_chapter_VII[$(($i - 1))]}\".txt\n",
    "    fi\n",
    "done\n",
    "\n",
    "echo \"chapter 7 done\"\n",
    "#----------------------------\n",
    "\n",
    "# Chapter 8\n",
    "# Creating an array with the numbers of each article in the chapter.\n",
    "articles_chapter_VIII=(83 84 85 86 87 '87 a' '87 b' '87 c' '87 d' '87 e' '87 f' 88 89 90 91 '91 a' '91 b')\n",
    "\n",
    "# Creating the directory\n",
    "mkdir chapter_8\n",
    "\n",
    "# finding out the length of our array\n",
    "len=${#articles_chapter_VIII[@]}\n",
    "\n",
    "# Looping through the array of numbers our resulting files should start with.\n",
    "for (( i=1; i<$len; i++ ))\n",
    "do\n",
    "    # Edge case: The last article does not need to be cut again at the end.\n",
    "    # Direct text to the corresponding txt file in the chapters directory.\n",
    "    if [[ \"${articles_chapter_VI[$(($i - 1))]}\" == '91 b' ]]\n",
    "    then\n",
    "        sed '/^Artikel 91 b$/,$!d' 9.txt > ./chapter_8/\"${articles_chapter_VIII[$(($i - 1))]}\".txt\n",
    "    else\n",
    "    # Otherwise cut out everything between the article headers and delete the second one.\n",
    "    # Afterwards put the resulting text in a new file in the chapters directory.\n",
    "        sed '/^Artikel '\"${articles_chapter_VIII[$(($i - 1))]}\"'$/,/^Artikel '\"${articles_chapter_VIII[$i]}\"'$/!d' 9.txt | sed '/^Artikel '\"${articles_chapter_VIII[$i]}\"'/d' > ./chapter_8/\"${articles_chapter_VIII[$(($i - 1))]}\".txt\n",
    "    fi\n",
    "done\n",
    "\n",
    "echo \"chapter 8 done\"\n",
    "#----------------------------\n",
    "\n",
    "# Chapter 9\n",
    "# Creating an array with the numbers of each article in the chapter.\n",
    "articles_chapter_IX=(92 93 94 95 96 97 98 99 100 101 102 103 104)\n",
    "\n",
    "# Creating the directory\n",
    "mkdir chapter_9\n",
    "\n",
    "# finding out the length of our array\n",
    "len=${#articles_chapter_IX[@]}\n",
    "\n",
    "# Looping through the array of numbers our resulting files should start with.\n",
    "for (( i=1; i<$len; i++ ))\n",
    "do\n",
    "    # Edge case: The last article does not need to be cut again at the end.\n",
    "    # Direct text to the corresponding txt file in the chapters directory.\n",
    "    if [[ \"${articles_chapter_IX[$(($i - 1))]}\" == '104' ]]\n",
    "    then\n",
    "        sed '/^Artikel 104$/,$!d' 10.txt > ./chapter_9/\"${articles_chapter_IX[$(($i - 1))]}\".txt\n",
    "    else\n",
    "    # Otherwise cut out everything between the article headers and delete the second one.\n",
    "    # Afterwards put the resulting text in a new file in the chapters directory.\n",
    "        sed '/^Artikel '\"${articles_chapter_IX[$(($i - 1))]}\"'$/,/^Artikel '\"${articles_chapter_IX[$i]}\"'$/!d' 10.txt | sed '/^Artikel '\"${articles_chapter_IX[$i]}\"'/d' > ./chapter_9/\"${articles_chapter_IX[$(($i - 1))]}\".txt\n",
    "    fi\n",
    "done\n",
    "\n",
    "echo \"chapter 9 done\"\n",
    "#----------------------------\n",
    "\n",
    "# Chapter 10\n",
    "# Creating an array with the numbers of each article in the chapter.\n",
    "articles_chapter_X=('104 a' 105 106 '106 a' 107 108 109 110 111 112 113 114 115)\n",
    "\n",
    "# Creating the directory\n",
    "mkdir chapter_10\n",
    "\n",
    "# finding out the length of our array\n",
    "len=${#articles_chapter_X[@]}\n",
    "\n",
    "# Looping through the array of numbers our resulting files should start with.\n",
    "for (( i=1; i<$len; i++ ))\n",
    "do\n",
    "    # Edge case: The last article does not need to be cut again at the end.\n",
    "    # Direct text to the corresponding txt file in the chapters directory.\n",
    "    if [[ \"${articles_chapter_X[$(($i - 1))]}\" == '115' ]]\n",
    "    then\n",
    "        sed '/^Artikel 115$/,$!d' 11.txt > ./chapter_10/\"${articles_chapter_X[$(($i - 1))]}\".txt\n",
    "    else\n",
    "    # Otherwise cut out everything between the article headers and delete the second one.\n",
    "    # Afterwards put the resulting text in a new file in the chapters directory.\n",
    "        sed '/^Artikel '\"${articles_chapter_X[$(($i - 1))]}\"'$/,/^Artikel '\"${articles_chapter_X[$i]}\"'$/!d' 11.txt | sed '/^Artikel '\"${articles_chapter_X[$i]}\"'/d' > ./chapter_10/\"${articles_chapter_X[$(($i - 1))]}\".txt\n",
    "    fi\n",
    "done\n",
    "\n",
    "echo \"chapter 10 done\"\n",
    "#----------------------------\n",
    "\n",
    "# Chapter 10a\n",
    "# Creating an array with the numbers of each article in the chapter.\n",
    "articles_chapter_Xa=('115 a' '115 b' '115 c' '115 d' '115 e' '115 f' '115 g' '115 h' '115 i' '115 k' '115 l')\n",
    "\n",
    "# Creating the directory\n",
    "mkdir chapter_10a\n",
    "\n",
    "# finding out the length of our array\n",
    "len=${#articles_chapter_Xa[@]}\n",
    "\n",
    "# Looping through the array of numbers our resulting files should start with.\n",
    "for (( i=1; i<$len; i++ ))\n",
    "do\n",
    "    # Edge case: The last article does not need to be cut again at the end.\n",
    "    # Direct text to the corresponding txt file in the chapters directory.\n",
    "    if [[ \"${articles_chapter_VI[$(($i - 1))]}\" == '115 l' ]]\n",
    "    then\n",
    "        sed '/^Artikel 115 l$/,$!d' 12.txt > ./chapter_10a/\"${articles_chapter_Xa[$(($i - 1))]}\".txt\n",
    "    else\n",
    "    # Otherwise cut out everything between the article headers and delete the second one.\n",
    "    # Afterwards put the resulting text in a new file in the chapters directory.\n",
    "        sed '/^Artikel '\"${articles_chapter_Xa[$(($i - 1))]}\"'$/,/^Artikel '\"${articles_chapter_Xa[$i]}\"'$/!d' 12.txt | sed '/^Artikel '\"${articles_chapter_Xa[$i]}\"'/d' > ./chapter_10a/\"${articles_chapter_Xa[$(($i - 1))]}\".txt\n",
    "    fi\n",
    "done\n",
    "\n",
    "echo \"chapter 10a done\"\n",
    "#----------------------------\n",
    "\n",
    "# Chapter 11\n",
    "# Creating an array with the numbers of each article in the chapter.\n",
    "articles_chapter_XI=(116 117 118 '118 a' 119 120 '120 a' 121 122 123 124 125 '125 a' 126 127 128 129 130 131 132 133 134 135 '135 a' 136 137 138 139 140 141 142 143 '143 a' '143 b' 144 145 146)\n",
    "\n",
    "# Creating the directory\n",
    "mkdir chapter_11\n",
    "\n",
    "# finding out the length of our array\n",
    "len=${#articles_chapter_XI[@]}\n",
    "\n",
    "# Looping through the array of numbers our resulting files should start with.\n",
    "for (( i=0; i<$len; i++ ))\n",
    "do\n",
    "    # Edge case: The last article does not need to be cut again at the end.\n",
    "    # Direct text to the corresponding txt file in the chapters directory.\n",
    "    if [[ \"${articles_chapter_XI[$(($i - 1))]}\" == '146' ]]\n",
    "    then\n",
    "        sed '/^Artikel 146$/,$!d' 13.txt > ./chapter_11/\"${articles_chapter_XI[$(($i - 1))]}\".txt\n",
    "    else\n",
    "    # Otherwise cut out everything between the article headers and delete the second one.\n",
    "    # Afterwards put the resulting text in a new file in the chapters directory.\n",
    "        sed '/^Artikel '\"${articles_chapter_XI[$(($i - 1))]}\"'$/,/^Artikel '\"${articles_chapter_XI[$i]}\"'$/!d' 13.txt | sed '/^Artikel '\"${articles_chapter_XI[$i]}\"'/d' > ./chapter_11/\"${articles_chapter_XI[$(($i - 1))]}\".txt\n",
    "    fi\n",
    "done\n",
    "\n",
    "echo \"chapter 11 done\""
   ]
  },
  {
   "attachments": {},
   "cell_type": "markdown",
   "id": "a31a8bd9-912e-4b77-894c-74bba797cdfd",
   "metadata": {},
   "source": [
    "## 1 e) [5%]\n",
    "Löschen Sie die ursprünglichen Daten und die Daten welche Sie im Verlauf des Prozesses (abgesehen von 1d)) generiert haben. Am Ende sollen nur noch die Dateien zu den einzelnen Artikel (in getrennten Ordnern) vorhanden sein.  "
   ]
  },
  {
   "cell_type": "code",
   "execution_count": 6,
   "id": "371bf163",
   "metadata": {
    "vscode": {
     "languageId": "shellscript"
    }
   },
   "outputs": [],
   "source": [
    "rm *.txt"
   ]
  },
  {
   "cell_type": "markdown",
   "id": "07fe1e5b-805e-40ad-b28a-2d26553ba710",
   "metadata": {},
   "source": [
    "## 1 f) [2,5%]\n",
    "Packen Sie den Inhalt des gesamten Ordners in komprimiertes tar-Archiv."
   ]
  },
  {
   "cell_type": "code",
   "execution_count": 7,
   "id": "83b3476e",
   "metadata": {
    "vscode": {
     "languageId": "shellscript"
    }
   },
   "outputs": [],
   "source": [
    "# Change directory\n",
    "cd ..\n",
    "\n",
    "# Create tar archive\n",
    "tar -cf Grundgesetz.tar Grundgesetz\n",
    "\n",
    "# Remove no longer needed files in the directory\n",
    "rm -r Grundgesetz"
   ]
  },
  {
   "cell_type": "markdown",
   "id": "76f7f642-b851-473a-a90d-5046ede450a2",
   "metadata": {},
   "source": [
    "_________"
   ]
  },
  {
   "attachments": {},
   "cell_type": "markdown",
   "id": "ef3bbe6b-21bd-47a8-9d74-1c13e3453c8d",
   "metadata": {
    "vscode": {
     "languageId": "shellscript"
    }
   },
   "source": [
    "## 2 a) [20%]\n",
    "Schreiben Sie ein Shell-Skript, dass alle x Sekunden ausgibt ob ein durch eine PID identifizierter Prozess läuft oder nicht.\n",
    "Übergeben Sie die Anzahl an Sekunden und die PID als Parameter an das Skript, sodass es wie folgt aufgerufen werden kann:\n",
    "\n",
    "```bash\n",
    "$ script [PID] [SECONDS]\n",
    "```\n",
    "Ihnen sind keine Einschränkungen gegeben, welche Befehle Sie dafür verwenden.\n",
    "\n",
    "**Nützliche Befehle:** `grep`,`ps`"
   ]
  },
  {
   "cell_type": "code",
   "execution_count": 8,
   "id": "f0ea6665",
   "metadata": {
    "vscode": {
     "languageId": "shellscript"
    }
   },
   "outputs": [],
   "source": [
    "touch up_or_down.sh"
   ]
  },
  {
   "cell_type": "code",
   "execution_count": 9,
   "id": "3f8e6172",
   "metadata": {
    "vscode": {
     "languageId": "shellscript"
    }
   },
   "outputs": [],
   "source": [
    "chmod u+x up_or_down.sh"
   ]
  },
  {
   "attachments": {},
   "cell_type": "markdown",
   "id": "623c7c5d-0f24-4e65-acf9-499164214986",
   "metadata": {
    "tags": []
   },
   "source": [
    "## 2 b) [20%]\n",
    "Schreiben Sie ein Shell-Skript, das die Verzeichnisstruktur eines als Parameter angegebenen Verzeichnisses auflisten kann. Schreiben Sie dazu eine rekursive Funktion, die in Unterverzeichnisse herabsteigt. \n",
    "Geben Sie das Verzeichnis und die Dateien auf dem Bildschirm aus. \n",
    "Nutzen Sie Einrückungen um die Zugehörigkeit von Dateien und Verzeichnissen zueinander zu kennzeichnen. \n",
    "Dies kann dann zum Beispiel so aussehen:\n",
    "\n",
    "```\n",
    "File: linux-3.14/COPYING\n",
    "File: linux-3.14/CREDITS\n",
    "Directory: linux-3.14/Documentation\n",
    "    File: linux-3.14/Documentation/00-INDEX \n",
    "    Directory: linux-3.14/Documentation/ABI\n",
    "        File: linux-3.14/Documentation/ABI/README \n",
    "        Directory: linux-3.14/Documentation/ABI/obsolete        \n",
    "            File: linux-3.14/Documentation/ABI/obsolete/proc-sys-vm-nr_pdflush_threads \n",
    "            File: linux-3.14/Documentation/ABI/obsolete/sysfs-bus-usb\n",
    "            File: linux-3.14/Documentation/ABI/obsolete/sysfs-class-rfkill\n",
    "            File: linux-3.14/Documentation/ABI/obsolete/sysfs-driver-hid-roccat-koneplus \n",
    "            File: linux-3.14/Documentation/ABI/obsolete/sysfs-driver-hid-roccat-kovaplus \n",
    "            File: linux-3.14/Documentation/ABI/obsolete/sysfs-driver-hid-roccat-pyra\n",
    "        Directory: linux-3.14/Documentation/ABI/removed \n",
    "            File: linux-3.14/Documentation/ABI/removed/devfs \n",
    "            File: linux-3.14/Documentation/ABI/removed/dv1394\n",
    "...\n",
    "\n",
    "```\n",
    "\n",
    "**Hinweis:** es ist möglich, in der bash Funktionen zu definieren. Die Syntax finden Sie z.B. hier: http://tldp.org/LDP/abs/html/functions.html\n",
    "\n",
    "**Nützliche Befehle:** `find`,`printf`"
   ]
  },
  {
   "cell_type": "code",
   "execution_count": 10,
   "id": "d7d75180",
   "metadata": {
    "vscode": {
     "languageId": "shellscript"
    }
   },
   "outputs": [],
   "source": [
    "touch directory_tree.sh"
   ]
  },
  {
   "cell_type": "code",
   "execution_count": 11,
   "id": "c486f69e",
   "metadata": {
    "vscode": {
     "languageId": "shellscript"
    }
   },
   "outputs": [],
   "source": [
    "chmod u+x directory_tree.sh"
   ]
  },
  {
   "cell_type": "code",
   "execution_count": 12,
   "id": "83d7e9a7",
   "metadata": {
    "vscode": {
     "languageId": "shellscript"
    }
   },
   "outputs": [
    {
     "name": "stdout",
     "output_type": "stream",
     "text": [
      "bash: directory_tree: command not found\n"
     ]
    },
    {
     "ename": "",
     "evalue": "127",
     "output_type": "error",
     "traceback": []
    }
   ],
   "source": [
    "source directory_tree.sh; directory_tree directory_tree_test"
   ]
  }
 ],
 "metadata": {
  "kernelspec": {
   "display_name": "Bash",
   "language": "bash",
   "name": "bash"
  },
  "language_info": {
   "codemirror_mode": "shell",
   "file_extension": ".sh",
   "mimetype": "text/x-sh",
   "name": "bash"
  },
  "vscode": {
   "interpreter": {
    "hash": "8fa2a39dc98f14384214061e3a8c32603dbb899665817f3de4b9ccce2b523a71"
   }
  }
 },
 "nbformat": 4,
 "nbformat_minor": 5
}
