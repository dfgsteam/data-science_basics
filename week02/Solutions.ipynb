{
 "cells": [
  {
   "attachments": {},
   "cell_type": "markdown",
   "id": "62dd260d-5f9e-4479-b600-148d24122dd3",
   "metadata": {},
   "source": [
    "## 1 a)  [2,5%]"
   ]
  },
  {
   "cell_type": "markdown",
   "id": "a70f8b74-7a10-4887-b598-4976c2d072e8",
   "metadata": {},
   "source": [
    "Erstellen Sie einen neuen Ordner und laden Sie den Text herunter den Sie unter folgender Adresse finden: https://raw.githubusercontent.com/levinalex/deutsche_verfassungen/master/grundgesetz/grundgesetz.txt "
   ]
  },
  {
   "cell_type": "code",
   "execution_count": 1,
   "id": "1679b833",
   "metadata": {
    "vscode": {
     "languageId": "shellscript"
    }
   },
   "outputs": [],
   "source": [
    "mkdir Grundgesetz\n",
    "cd Grundgesetz"
   ]
  },
  {
   "cell_type": "code",
   "execution_count": 2,
   "id": "b85d8340",
   "metadata": {
    "vscode": {
     "languageId": "shellscript"
    }
   },
   "outputs": [
    {
     "name": "stdout",
     "output_type": "stream",
     "text": [
      "  % Total    % Received % Xferd  Average Speed   Time    Time     Time  Current\n",
      "                                 Dload  Upload   Total   Spent    Left  Speed\n",
      "100  143k  100  143k    0     0   403k      0 --:--:-- --:--:-- --:--:--  404k\n"
     ]
    }
   ],
   "source": [
    "curl -o grundgesetz.txt https://raw.githubusercontent.com/levinalex/deutsche_verfassungen/master/grundgesetz/grundgesetz.txt"
   ]
  },
  {
   "attachments": {},
   "cell_type": "markdown",
   "id": "c944b26c-796f-4640-ab5b-b1d26e39d41e",
   "metadata": {},
   "source": [
    "## 1 b) [10%]\n",
    "Der Text hat eine klare Struktur. Aber am Anfang findet sich ein Stück Text welches nicht in diese Struktur passt. Schreiben Sie ein einzeiliges Skript welches alles vor dem Start der Auflistung der Artikel (und Kapitel) aus dem Text löscht. Speichern Sie die Ausgabe in einer neuen Datei. \n",
    "Stellen Sie sicher dass Ihr Skript auch funktioniert wenn sich der Text am Start ändert!"
   ]
  },
  {
   "cell_type": "code",
   "execution_count": 3,
   "id": "bb55a718",
   "metadata": {
    "vscode": {
     "languageId": "shellscript"
    }
   },
   "outputs": [],
   "source": [
    "sed '/^I$/,$!d' grundgesetz.txt > gg_clean.txt"
   ]
  },
  {
   "attachments": {},
   "cell_type": "markdown",
   "id": "cea6b9eb-4e7a-4819-84be-5ee6cb9e3ccc",
   "metadata": {},
   "source": [
    "## 1 c) [10%]\n",
    "Splitten Sie den Text in einzelne Dateien auf basierend auf den Kapiteln (z.B. \"I Die Grundrechte\") nummerieren Sie die Dateien."
   ]
  },
  {
   "cell_type": "code",
   "execution_count": 4,
   "id": "14a49600",
   "metadata": {
    "vscode": {
     "languageId": "shellscript"
    }
   },
   "outputs": [
    {
     "name": "stdout",
     "output_type": "stream",
     "text": [
      "bash: !d\": event not found\n"
     ]
    }
   ],
   "source": [
    "touch Kapitel-I.txt\n",
    "\n",
    "CURLINE=1                      # Zeilennummer wo das derzeitige Kapitel anfängt\n",
    "CURKAPITEL=\"I Die Grundrechte\" # Name des derzeitigen Kapitels\n",
    "grep -n '^[A-Z][A-Za]*$' gg_clean.txt | grep -v '^1:I$' | while IFS=':' read NEXTLINE NEXTKAPITEL; do # Schleife über die Anfangszeile mit Zeilennummer des jeweils nächsten Kapitels\n",
    "\tNEXTKAPITELTITLE=\"$(sed \"$((NEXTLINE + 1))!d\" gg_clean.txt)\" # Extrahiere Titel des nächsten Kapitels\n",
    "\tNEXTKAPITEL=\"${NEXTKAPITEL} $NEXTKAPITELTITLE\"\n",
    "\n",
    "\ttail -n \"+$CURLINE\" gg_clean.txt | head -n \"$((NEXTLINE-CURLINE))\" > \"Kapitel-${CURKAPITEL}.txt\" # Schreibe derzeitige Kapitel\n",
    "\ttail -n \"+$NEXTLINE\" gg_clean.txt > \"Kapitel-${NEXTKAPITEL}.txt\" # Wichtig um letztes Kapitel zu schreiben\n",
    "\tCURLINE=$NEXTLINE\n",
    "\tCURKAPITEL=\"$NEXTKAPITEL\"\n",
    "done\n",
    "\n",
    "\n",
    "CURLINE=1                      # Zeilennummer, an der das derzeitige Kapitel beginnt\n",
    "CURKAPITEL=\"I\" # Name des derzeitigen Kapitels\n",
    "\n",
    "rm Kapitel-I.txt\n",
    "mv Kapitel-I\\ Die\\ Grundrechte.txt Kapitel-I.txt"
   ]
  },
  {
   "attachments": {},
   "cell_type": "markdown",
   "id": "9062180c-82cf-427a-b0a8-7db677df12ac",
   "metadata": {},
   "source": [
    "## 1 d) [30%]\n",
    "Splitten Sie jedes Kapitel in die einzelnen Artikel auf. Jeder Artikel soll in einer eigenen Datei sein welche die Nummer des Artikels als Dateinamen. Erstellen Sie für jedes Kapitel einen neuen Unterordner in dem die Artikel gesammelt werden."
   ]
  },
  {
   "cell_type": "code",
   "execution_count": 5,
   "id": "899b6918",
   "metadata": {
    "vscode": {
     "languageId": "shellscript"
    }
   },
   "outputs": [
    {
     "name": "stdout",
     "output_type": "stream",
     "text": [
      "\n",
      "Kapitel-I.txt      Kapitel-IVa .txt   Kapitel-VII .txt   Kapitel-Xa .txt\n",
      "Kapitel-II .txt    Kapitel-IX .txt    Kapitel-VIII .txt  gg_clean.txt\n",
      "Kapitel-III .txt   Kapitel-V .txt     Kapitel-X .txt     grundgesetz.txt\n",
      "Kapitel-IV .txt    Kapitel-VI .txt    Kapitel-XI .txt    \n",
      "\n",
      "Kapitel-I.txt      Kapitel-IVa .txt   Kapitel-VII .txt   Kapitel-Xa .txt\n",
      "Kapitel-II .txt    Kapitel-IX .txt    Kapitel-VIII .txt  gg_clean.txt\n",
      "Kapitel-III .txt   Kapitel-V .txt     Kapitel-X .txt     grundgesetz.txt\n",
      "Kapitel-IV .txt    Kapitel-VI .txt    Kapitel-XI .txt    \n",
      "\n",
      "Kapitel-I.txt      Kapitel-IVa .txt   Kapitel-VII .txt   Kapitel-Xa .txt\n",
      "Kapitel-II .txt    Kapitel-IX .txt    Kapitel-VIII .txt  gg_clean.txt\n",
      "Kapitel-III .txt   Kapitel-V .txt     Kapitel-X .txt     grundgesetz.txt\n",
      "Kapitel-IV .txt    Kapitel-VI .txt    Kapitel-XI .txt    \n",
      "\n",
      "Kapitel-I.txt      Kapitel-IVa .txt   Kapitel-VII .txt   Kapitel-Xa .txt\n",
      "Kapitel-II .txt    Kapitel-IX .txt    Kapitel-VIII .txt  gg_clean.txt\n",
      "Kapitel-III .txt   Kapitel-V .txt     Kapitel-X .txt     grundgesetz.txt\n",
      "Kapitel-IV .txt    Kapitel-VI .txt    Kapitel-XI .txt    \n",
      "\n",
      "Kapitel-I.txt      Kapitel-IVa .txt   Kapitel-VII .txt   Kapitel-Xa .txt\n",
      "Kapitel-II .txt    Kapitel-IX .txt    Kapitel-VIII .txt  gg_clean.txt\n",
      "Kapitel-III .txt   Kapitel-V .txt     Kapitel-X .txt     grundgesetz.txt\n",
      "Kapitel-IV .txt    Kapitel-VI .txt    Kapitel-XI .txt    \n",
      "\n",
      "Kapitel-I.txt      Kapitel-IVa .txt   Kapitel-VII .txt   Kapitel-Xa .txt\n",
      "Kapitel-II .txt    Kapitel-IX .txt    Kapitel-VIII .txt  gg_clean.txt\n",
      "Kapitel-III .txt   Kapitel-V .txt     Kapitel-X .txt     grundgesetz.txt\n",
      "Kapitel-IV .txt    Kapitel-VI .txt    Kapitel-XI .txt    \n",
      "\n",
      "Kapitel-I.txt      Kapitel-IVa .txt   Kapitel-VII .txt   Kapitel-Xa .txt\n",
      "Kapitel-II .txt    Kapitel-IX .txt    Kapitel-VIII .txt  gg_clean.txt\n",
      "Kapitel-III .txt   Kapitel-V .txt     Kapitel-X .txt     grundgesetz.txt\n",
      "Kapitel-IV .txt    Kapitel-VI .txt    Kapitel-XI .txt    \n",
      "\n",
      "Kapitel-I.txt      Kapitel-IVa .txt   Kapitel-VII .txt   Kapitel-Xa .txt\n",
      "Kapitel-II .txt    Kapitel-IX .txt    Kapitel-VIII .txt  gg_clean.txt\n",
      "Kapitel-III .txt   Kapitel-V .txt     Kapitel-X .txt     grundgesetz.txt\n",
      "Kapitel-IV .txt    Kapitel-VI .txt    Kapitel-XI .txt    \n",
      "\n",
      "Kapitel-I.txt      Kapitel-IVa .txt   Kapitel-VII .txt   Kapitel-Xa .txt\n",
      "Kapitel-II .txt    Kapitel-IX .txt    Kapitel-VIII .txt  gg_clean.txt\n",
      "Kapitel-III .txt   Kapitel-V .txt     Kapitel-X .txt     grundgesetz.txt\n",
      "Kapitel-IV .txt    Kapitel-VI .txt    Kapitel-XI .txt    \n",
      "===============================================================\n",
      "Kapitel-I\n",
      "  Artikel_1\n",
      "  Artikel_2\n",
      "  Artikel_3\n",
      "  Artikel_4\n",
      "  Artikel_5\n",
      "  Artikel_6\n",
      "  Artikel_7\n",
      "  Artikel_8\n",
      "  Artikel_9\n",
      "  Artikel_10\n",
      "  Artikel_11\n",
      "  Artikel_12\n",
      "  Artikel_12_a\n",
      "  Artikel_13\n",
      "  Artikel_14\n",
      "  Artikel_15\n",
      "  Artikel_16\n",
      "  Artikel_16_a\n",
      "  Artikel_17\n",
      "  Artikel_17_a\n",
      "  Artikel_18\n",
      "===============================================================\n",
      "Kapitel-II \n",
      "  Artikel_20\n",
      "  Artikel_20_a\n",
      "  Artikel_21\n",
      "  Artikel_22\n",
      "  Artikel_23\n",
      "  Artikel_24\n",
      "  Artikel_25\n",
      "  Artikel_26\n",
      "  Artikel_27\n",
      "  Artikel_28\n",
      "  Artikel_29\n",
      "  Artikel_30\n",
      "  Artikel_31\n",
      "  Artikel_32\n",
      "  Artikel_33\n",
      "  Artikel_34\n",
      "  Artikel_35\n",
      "  Artikel_36\n",
      "===============================================================\n",
      "Kapitel-III \n",
      "  Artikel_38\n",
      "  Artikel_39\n",
      "  Artikel_40\n",
      "  Artikel_41\n",
      "  Artikel_42\n",
      "  Artikel_43\n",
      "  Artikel_44\n",
      "  Artikel_45\n",
      "  Artikel_45_a\n",
      "  Artikel_45_b\n",
      "  Artikel_45_c\n",
      "  Artikel_46\n",
      "  Artikel_47\n",
      "  Artikel_48\n",
      "===============================================================\n",
      "Kapitel-IV \n",
      "  Artikel_50\n",
      "  Artikel_51\n",
      "  Artikel_52\n",
      "===============================================================\n",
      "Kapitel-IVa \n",
      "===============================================================\n",
      "Kapitel-IX \n",
      "  Artikel_92\n",
      "  Artikel_93\n",
      "  Artikel_94\n",
      "  Artikel_95\n",
      "  Artikel_96\n",
      "  Artikel_97\n",
      "  Artikel_98\n",
      "  Artikel_99\n",
      "  Artikel_100\n",
      "  Artikel_101\n",
      "  Artikel_102\n",
      "  Artikel_103\n",
      "===============================================================\n",
      "Kapitel-V \n",
      "  Artikel_54\n",
      "  Artikel_55\n",
      "  Artikel_56\n",
      "  Artikel_57\n",
      "  Artikel_58\n",
      "  Artikel_59\n",
      "  Artikel_60\n",
      "===============================================================\n",
      "Kapitel-VI \n",
      "  Artikel_62\n",
      "  Artikel_63\n",
      "  Artikel_64\n",
      "  Artikel_65\n",
      "  Artikel_65_a\n",
      "  Artikel_66\n",
      "  Artikel_67\n",
      "  Artikel_68\n",
      "===============================================================\n",
      "Kapitel-VII \n",
      "  Artikel_70\n",
      "  Artikel_71\n",
      "  Artikel_72\n",
      "  Artikel_73\n",
      "  Artikel_74\n",
      "  Artikel_75\n",
      "  Artikel_76\n",
      "  Artikel_77\n",
      "  Artikel_78\n",
      "  Artikel_79\n",
      "  Artikel_80\n",
      "  Artikel_80_a\n",
      "  Artikel_81\n",
      "===============================================================\n",
      "Kapitel-VIII \n",
      "  Artikel_83\n",
      "  Artikel_84\n",
      "  Artikel_85\n",
      "  Artikel_86\n",
      "  Artikel_87\n",
      "  Artikel_87_a\n",
      "  Artikel_87_b\n",
      "  Artikel_87_c\n",
      "  Artikel_87_d\n",
      "  Artikel_87_e\n",
      "  Artikel_87_f\n",
      "  Artikel_88\n",
      "  Artikel_89\n",
      "  Artikel_90\n",
      "  Artikel_91\n",
      "  Artikel_91_a\n",
      "===============================================================\n",
      "Kapitel-X \n",
      "  Artikel_104_a\n",
      "  Artikel_105\n",
      "  Artikel_106\n",
      "  Artikel_106_a\n",
      "  Artikel_107\n",
      "  Artikel_108\n",
      "  Artikel_109\n",
      "  Artikel_110\n",
      "  Artikel_111\n",
      "  Artikel_112\n",
      "  Artikel_113\n",
      "  Artikel_114\n",
      "===============================================================\n",
      "Kapitel-XI \n",
      "  Artikel_116\n",
      "  Artikel_117\n",
      "  Artikel_118\n",
      "  Artikel_118_a\n",
      "  Artikel_119\n",
      "  Artikel_120\n",
      "  Artikel_120_a\n",
      "  Artikel_121\n",
      "  Artikel_122\n",
      "  Artikel_123\n",
      "  Artikel_124\n",
      "  Artikel_125\n",
      "  Artikel_125_a\n",
      "  Artikel_126\n",
      "  Artikel_127\n",
      "  Artikel_128\n",
      "  Artikel_129\n",
      "  Artikel_130\n",
      "  Artikel_131\n",
      "  Artikel_132\n",
      "  Artikel_133\n",
      "  Artikel_134\n",
      "  Artikel_135\n",
      "  Artikel_135_a\n",
      "  Artikel_136\n",
      "  Artikel_137\n",
      "  Artikel_138\n",
      "  Artikel_139\n",
      "  Artikel_140\n",
      "  Artikel_141\n",
      "  Artikel_142\n",
      "  Artikel_143\n",
      "  Artikel_143_a\n",
      "  Artikel_143_b\n",
      "  Artikel_144\n",
      "  Artikel_145\n",
      "===============================================================\n",
      "Kapitel-Xa \n",
      "  Artikel_115_a\n",
      "  Artikel_115_b\n",
      "  Artikel_115_c\n",
      "  Artikel_115_d\n",
      "  Artikel_115_e\n",
      "  Artikel_115_f\n",
      "  Artikel_115_g\n",
      "  Artikel_115_h\n",
      "  Artikel_115_i\n",
      "  Artikel_115_k\n"
     ]
    }
   ],
   "source": [
    "for KFILE in Kapitel-*.txt ; do # Schleife über alle Kapiteltext Dateien in dem Ordner\n",
    "\tKDIR=\"$(echo \"$KFILE\" | cut -d '.' -f 1)\" # Der Ordnername für den Kapitel (Dateiname ohne .txt)\n",
    "\techo \"===============================================================\"\n",
    "\techo \"$KDIR\"\n",
    "\tmkdir -p \"$KDIR\" # Erstelle den Kapitellordner falls noch nicht vorhanden.\n",
    "\n",
    "\tpushd \"$KDIR\" >/dev/null # Gehe in den Kapitelelordner\n",
    "\tKFILE=\"../$KFILE\" # Da wir jetzt in dem Ordner sind, muss der Pfad aktualisiert werden.\n",
    "\t\n",
    "\tCURLINE=0\n",
    "\tCURARTIKEL=\"\"\n",
    "\tgrep -n '^Artikel [0-9]*\\( [a-z]\\)\\?$' \"$KFILE\" | tr ' ' '_' | while IFS=':' read NEXTLINE NEXTARTIKEL ; do\n",
    "\t\tif [ -n \"$CURARTIKEL\" ]; then\n",
    "\t\t\techo \"  $CURARTIKEL\"\n",
    "\t\t\ttail -n \"+$CURLINE\" \"$KFILE\" | head -n \"$((NEXTLINE-CURLINE))\" > \"${CURARTIKEL}.txt\" # Schreibe derzeitige Artikel\n",
    "\t\tfi\n",
    "\t\ttail -n \"+$NEXTLINE\" \"$KFILE\" > \"${NEXTARTIKEL}.txt\" # Wichtig um letzten Artikel zu schreiben\n",
    "\t\tCURLINE=$NEXTLINE\n",
    "\t\tCURARTIKEL=\"$NEXTARTIKEL\"\n",
    "\tdone\n",
    "\n",
    "\tpopd >/dev/null # Gehe aus dem Artikelordner raus\n",
    "done\n"
   ]
  },
  {
   "attachments": {},
   "cell_type": "markdown",
   "id": "a31a8bd9-912e-4b77-894c-74bba797cdfd",
   "metadata": {},
   "source": [
    "## 1 e) [5%]\n",
    "Löschen Sie die ursprünglichen Daten und die Daten welche Sie im Verlauf des Prozesses (abgesehen von 1d)) generiert haben. Am Ende sollen nur noch die Dateien zu den einzelnen Artikel (in getrennten Ordnern) vorhanden sein.  "
   ]
  },
  {
   "cell_type": "code",
   "execution_count": 6,
   "id": "371bf163",
   "metadata": {
    "vscode": {
     "languageId": "shellscript"
    }
   },
   "outputs": [],
   "source": [
    "rm *.txt"
   ]
  },
  {
   "cell_type": "markdown",
   "id": "07fe1e5b-805e-40ad-b28a-2d26553ba710",
   "metadata": {},
   "source": [
    "## 1 f) [2,5%]\n",
    "Packen Sie den Inhalt des gesamten Ordners in komprimiertes tar-Archiv."
   ]
  },
  {
   "cell_type": "code",
   "execution_count": 7,
   "id": "83b3476e",
   "metadata": {
    "vscode": {
     "languageId": "shellscript"
    }
   },
   "outputs": [],
   "source": [
    "# Change directory\n",
    "cd ..\n",
    "\n",
    "# Create tar archive\n",
    "tar -cf Grundgesetz.tar Grundgesetz\n",
    "\n",
    "# Remove no longer needed files in the directory\n",
    "rm -r Grundgesetz"
   ]
  },
  {
   "cell_type": "markdown",
   "id": "76f7f642-b851-473a-a90d-5046ede450a2",
   "metadata": {},
   "source": [
    "_________"
   ]
  },
  {
   "attachments": {},
   "cell_type": "markdown",
   "id": "ef3bbe6b-21bd-47a8-9d74-1c13e3453c8d",
   "metadata": {
    "vscode": {
     "languageId": "shellscript"
    }
   },
   "source": [
    "## 2 a) [20%]\n",
    "Schreiben Sie ein Shell-Skript, dass alle x Sekunden ausgibt ob ein durch eine PID identifizierter Prozess läuft oder nicht.\n",
    "Übergeben Sie die Anzahl an Sekunden und die PID als Parameter an das Skript, sodass es wie folgt aufgerufen werden kann:\n",
    "\n",
    "```bash\n",
    "$ script [PID] [SECONDS]\n",
    "```\n",
    "Ihnen sind keine Einschränkungen gegeben, welche Befehle Sie dafür verwenden.\n",
    "\n",
    "**Nützliche Befehle:** `grep`,`ps` "
   ]
  },
  {
   "cell_type": "markdown",
   "id": "2802dbcf",
   "metadata": {},
   "source": [
    "-> Siehe pid_checker.sh"
   ]
  },
  {
   "attachments": {},
   "cell_type": "markdown",
   "id": "623c7c5d-0f24-4e65-acf9-499164214986",
   "metadata": {
    "tags": []
   },
   "source": [
    "## 2 b) [20%]\n",
    "Schreiben Sie ein Shell-Skript, das die Verzeichnisstruktur eines als Parameter angegebenen Verzeichnisses auflisten kann. Schreiben Sie dazu eine rekursive Funktion, die in Unterverzeichnisse herabsteigt. \n",
    "Geben Sie das Verzeichnis und die Dateien auf dem Bildschirm aus. \n",
    "Nutzen Sie Einrückungen um die Zugehörigkeit von Dateien und Verzeichnissen zueinander zu kennzeichnen. \n",
    "Dies kann dann zum Beispiel so aussehen:\n",
    "\n",
    "```\n",
    "File: linux-3.14/COPYING\n",
    "File: linux-3.14/CREDITS\n",
    "Directory: linux-3.14/Documentation\n",
    "    File: linux-3.14/Documentation/00-INDEX \n",
    "    Directory: linux-3.14/Documentation/ABI\n",
    "        File: linux-3.14/Documentation/ABI/README \n",
    "        Directory: linux-3.14/Documentation/ABI/obsolete        \n",
    "            File: linux-3.14/Documentation/ABI/obsolete/proc-sys-vm-nr_pdflush_threads \n",
    "            File: linux-3.14/Documentation/ABI/obsolete/sysfs-bus-usb\n",
    "            File: linux-3.14/Documentation/ABI/obsolete/sysfs-class-rfkill\n",
    "            File: linux-3.14/Documentation/ABI/obsolete/sysfs-driver-hid-roccat-koneplus \n",
    "            File: linux-3.14/Documentation/ABI/obsolete/sysfs-driver-hid-roccat-kovaplus \n",
    "            File: linux-3.14/Documentation/ABI/obsolete/sysfs-driver-hid-roccat-pyra\n",
    "        Directory: linux-3.14/Documentation/ABI/removed \n",
    "            File: linux-3.14/Documentation/ABI/removed/devfs \n",
    "            File: linux-3.14/Documentation/ABI/removed/dv1394\n",
    "...\n",
    "\n",
    "```\n",
    "\n",
    "**Hinweis:** es ist möglich, in der bash Funktionen zu definieren. Die Syntax finden Sie z.B. hier: http://tldp.org/LDP/abs/html/functions.html\n",
    "\n",
    "**Nützliche Befehle:** `find`,`printf`"
   ]
  },
  {
   "cell_type": "markdown",
   "id": "34c5fc3d",
   "metadata": {},
   "source": [
    "-> Siehe tree.sh"
   ]
  }
 ],
 "metadata": {
  "kernelspec": {
   "display_name": "Bash",
   "language": "bash",
   "name": "bash"
  },
  "language_info": {
   "codemirror_mode": "shell",
   "file_extension": ".sh",
   "mimetype": "text/x-sh",
   "name": "bash"
  },
  "vscode": {
   "interpreter": {
    "hash": "8fa2a39dc98f14384214061e3a8c32603dbb899665817f3de4b9ccce2b523a71"
   }
  }
 },
 "nbformat": 4,
 "nbformat_minor": 5
}
