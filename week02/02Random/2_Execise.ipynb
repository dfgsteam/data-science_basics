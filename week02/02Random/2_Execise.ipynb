{
 "cells": [
  {
   "attachments": {},
   "cell_type": "markdown",
   "id": "93cff492-b993-4b0d-a70b-13c52a25a17f",
   "metadata": {},
   "source": [
    "## Hausaufgabe 2\n",
    "\n",
    "#### **Abgabe** <br> 29.04. 12:00 Uhr (via studIP) \n",
    "#### **Verteidigung** <br> 02.05. 08:00-10:00 Uhr \n",
    "\n",
    "Mit jedem Blatt können **maximal** 5 Prozentpunkte Bonus für die Klausur erreicht werden, falls:\n",
    "1) mind. 60% des Arbeitsblattes korrekt bearbeitet wurden \n",
    "2) das Arbeitsblatt erfolgreich verteidigt (den Tutoren erklärt) wurde.\n",
    "\n",
    "*Rahmenbedingungen*:\n",
    "- Jede Gruppe muss sich bei studIP für einen Slot zur Verteidigung registrieren.\n",
    "- Erfolgreiche Verteidigung bedeutet, dass ein von uns ausgewähltes Team-Mitglied die Lösung erklärt und Fragen dazu beantwortet.\n",
    "- ChatGPT und andere Hilfsmittel dürfen verwendet werden, müssen aber zitiert werden.\n",
    "- Der Code muss ohne Hilfsmittel erläutert werden.\n",
    "- Wir bewerten nicht nur die Korrektheit der Ergebnisse, sondern auch ob der Code effizient, einfach zu verstehen, aufgeräumt und gut dokumentiert ist.\n",
    "- Jede Gruppe gibt nur eine Lösung als Zip-Datei ab, die mit dem Namen und der Matrikelnummer eines Mitglieds versehen ist. Also z.B. `mustermann_12345678.zip` "
   ]
  },
  {
   "attachments": {},
   "cell_type": "markdown",
   "id": "6a89ae56-4d82-4486-ab4d-053c537e614d",
   "metadata": {},
   "source": [
    "**ACHTUNG: Nutzen Sie zum Lösen der Aufgaben ausschließlich Bash-Befehle!**\n",
    "\n",
    "Installatieren Sie (falls nicht vorhanden) den bash-kernel durch: `pip install bash_kernel ; python -m bash_kernel.install`"
   ]
  },
  {
   "cell_type": "markdown",
   "id": "88a1ce2f-002b-4808-980f-b820ae4880c7",
   "metadata": {},
   "source": [
    "_________"
   ]
  },
  {
   "cell_type": "markdown",
   "id": "9ff8bfe9-f1a8-474f-8f6c-c9d78269b08e",
   "metadata": {},
   "source": [
    "In dieser Aufgabe ist das Ziel, durch einzelne kurze Skripts einen Text zu bearbeiten, sodass dieser anschließend einfacher zu verwenden ist (z.B. für Data-Science Anwendungen)"
   ]
  },
  {
   "cell_type": "markdown",
   "id": "bdb4b2f2-fa60-40ae-a990-a1bc1fd35ded",
   "metadata": {},
   "source": [
    "Der Text den wir im Folgenden bearbeiten werden ist das Deutsche Grundgesetz. "
   ]
  },
  {
   "attachments": {},
   "cell_type": "markdown",
   "id": "62dd260d-5f9e-4479-b600-148d24122dd3",
   "metadata": {},
   "source": [
    "## 1 a)  [2,5%]"
   ]
  },
  {
   "cell_type": "markdown",
   "id": "a70f8b74-7a10-4887-b598-4976c2d072e8",
   "metadata": {},
   "source": [
    "Erstellen Sie einen neuen Ordner und laden Sie den Text herunter den Sie unter folgender Adresse finden: https://raw.githubusercontent.com/levinalex/deutsche_verfassungen/master/grundgesetz/grundgesetz.txt "
   ]
  },
  {
   "cell_type": "code",
   "execution_count": 28,
   "id": "4cf7ec97",
   "metadata": {
    "vscode": {
     "languageId": "shellscript"
    }
   },
   "outputs": [
    {
     "name": "stdout",
     "output_type": "stream",
     "text": [
      "--2024-04-26 20:27:22--  https://raw.githubusercontent.com/levinalex/deutsche_verfassungen/master/grundgesetz/grundgesetz.txt\n",
      "Resolving raw.githubusercontent.com (raw.githubusercontent.com)... 185.199.108.133, 185.199.109.133, 185.199.111.133, ...\n"
     ]
    },
    {
     "name": "stdout",
     "output_type": "stream",
     "text": [
      "Connecting to raw.githubusercontent.com (raw.githubusercontent.com)|185.199.108.133|:443... connected.\n",
      "HTTP request sent, awaiting response... 200 OK\n",
      "Length: 146482 (143K) [text/plain]\n",
      "Saving to: ‘grundgesetz.txt’\n",
      "\n",
      "grundgesetz.txt     100%[===================>] 143.05K  --.-KB/s    in 0.04s   \n",
      "\n",
      "2024-04-26 20:27:22 (3.38 MB/s) - ‘grundgesetz.txt’ saved [146482/146482]\n",
      "\n"
     ]
    }
   ],
   "source": [
    "mkdir DeutscheGrundgesetz ; cd DeutscheGrundgesetz ; wget https://raw.githubusercontent.com/levinalex/deutsche_verfassungen/master/grundgesetz/grundgesetz.txt "
   ]
  },
  {
   "attachments": {},
   "cell_type": "markdown",
   "id": "c944b26c-796f-4640-ab5b-b1d26e39d41e",
   "metadata": {},
   "source": [
    "## 1 b) [10%]\n",
    "Der Text hat eine klare Struktur. Aber am Anfang findet sich ein Stück Text welches nicht in diese Struktur passt. Schreiben Sie ein einzeiliges Skript welches alles vor dem Start der Auflistung der Artikel (und Kapitel) aus dem Text löscht. Speichern Sie die Ausgabe in einer neuen Datei. \n",
    "Stellen Sie sicher dass Ihr Skript auch funktioniert wenn sich der Text am Start ändert!"
   ]
  },
  {
   "cell_type": "code",
   "execution_count": 29,
   "id": "8f496c9f",
   "metadata": {
    "vscode": {
     "languageId": "shellscript"
    }
   },
   "outputs": [],
   "source": [
    "sed -n '/^I$/,$p' grundgesetz.txt > überarbeitetes_grundgesetz.txt\n",
    "\n",
    "# -n = unterdrückt ausgabe während des befehls\n",
    "# ^I$ = bis zur Zeile in der nur das I vorkommt wird alles gelöscht\n",
    "# $p = das I in der gefundenen Zeile soll aber noch gedruckt werden"
   ]
  },
  {
   "attachments": {},
   "cell_type": "markdown",
   "id": "cea6b9eb-4e7a-4819-84be-5ee6cb9e3ccc",
   "metadata": {},
   "source": [
    "## 1 c) [10%]\n",
    "Splitten Sie den Text in einzelne Dateien auf basierend auf den Kapiteln (z.B. \"I Die Grundrechte\") nummerieren Sie die Dateien."
   ]
  },
  {
   "cell_type": "code",
   "execution_count": 63,
   "metadata": {
    "vscode": {
     "languageId": "shellscript"
    }
   },
   "outputs": [],
   "source": [
    "awk '{\n",
    "    if (match($0, /[IVXLCDM]+[a-z]?$/) && !match($0, /[a-z]{2}/) && NF == 1) {         #wenn die Zeile mit einer römischen Ziffer, optional gefolgt von einem Kleinbuchstaben, beginnt und nur ein Element enthält wird neue Datei angelegt\n",
    "        filename = \"Kapitel_\" $1 \".txt\"                                                #Datei wird mit römischer Zahl benannt\n",
    "        print > filename\n",
    "    } else {                                                                           #folgende Zeilen werden in neu erstellte Datei angefügt\n",
    "        print >> filename\n",
    "    }\n",
    "}' überarbeitetes_grundgesetz.txt"
   ]
  },
  {
   "attachments": {},
   "cell_type": "markdown",
   "id": "9062180c-82cf-427a-b0a8-7db677df12ac",
   "metadata": {},
   "source": [
    "## 1 d) [30%]\n",
    "Splitten Sie jedes Kapitel in die einzelnen Artikel auf. Jeder Artikel soll in einer eigenen Datei sein welche die Nummer des Artikels als Dateinamen. Erstellen Sie für jedes Kapitel einen neuen Unterordner in dem die Artikel gesammelt werden."
   ]
  },
  {
   "cell_type": "code",
   "execution_count": 15,
   "id": "4ae300e4",
   "metadata": {
    "vscode": {
     "languageId": "shellscript"
    }
   },
   "outputs": [],
   "source": [
    "find . -type f  -name \"*Kapitel_*.txt\"  -exec sh -c '       #find Befehl soll nur nach Dateien suchen                            \n",
    "                                                            #die gesuchten Dateien müssen \"Kapitel_\" im Namen haben\n",
    "                                                            #für jede gefundene Datei wird folgender command in '' ausgeführt\n",
    "        dir=\"${1%.*}\"                                       #Variable dir mit Namen der Datei (also Kapitel_x) ohne Anhang .txt\n",
    "        mkdir -p \"$dir\"                                     #Kapitel-Unterordner wird angelegt\n",
    "        awk -v dir=\"$dir\" \"                                 #Inhalt von Kapitel_x.txt wird zeilenweise gelesen; -v bewahrt die dir Variable im awk Befehl \n",
    "            {\n",
    "                if (\\$1 ~ /^Artikel/ && NF < 4) {           #Wenn eine Zeile mit \"Artikel\" anfängt und sie weniger als 4 Elemente beinhaltet wird eine .txt Datei im Unterordner mit dem Namen des Artikels erstellt\n",
    "                    filename = dir \\\"/\\\" \\$0 \\\".txt\\\"\n",
    "                    print > filename\n",
    "                } else if (filename != \\\"\\\") {              #Ansonsten werden die übrigen Zeilen in die zuletzt erstellte Datei angefügt; \n",
    "                    print >> filename                           #aber nur wenn auch eine Datei vorhanden ist (umgehen von Kapitelüberschrift)\n",
    "                }\n",
    "            }\n",
    "        \" \"$1\"\n",
    "    ' _ {} \\;"
   ]
  },
  {
   "attachments": {},
   "cell_type": "markdown",
   "id": "a31a8bd9-912e-4b77-894c-74bba797cdfd",
   "metadata": {},
   "source": [
    "## 1 e) [5%]\n",
    "Löschen Sie die ursprünglichen Daten und die Daten welche Sie im Verlauf des Prozesses (abgesehen von 1d)) generiert haben. Am Ende sollen nur noch die Dateien zu den einzelnen Artikel (in getrennten Ordnern) vorhanden sein.  "
   ]
  },
  {
   "cell_type": "code",
   "execution_count": 8,
   "id": "371bf163",
   "metadata": {
    "vscode": {
     "languageId": "shellscript"
    }
   },
   "outputs": [
    {
     "name": "stdout",
     "output_type": "stream",
     "text": [
      "rm: cannot remove './Kapitel_I': Is a directory\n",
      "rm: cannot remove './Kapitel_II': Is a directory\n",
      "rm: cannot remove './Kapitel_III': Is a directory\n",
      "rm: cannot remove './Kapitel_IV': Is a directory\n",
      "rm: cannot remove './Kapitel_IVa': Is a directory\n",
      "rm: cannot remove './Kapitel_IX': Is a directory\n",
      "rm: cannot remove './Kapitel_V': Is a directory\n",
      "rm: cannot remove './Kapitel_VI': Is a directory\n",
      "rm: cannot remove './Kapitel_VII': Is a directory\n",
      "rm: cannot remove './Kapitel_X': Is a directory\n",
      "rm: cannot remove './Kapitel_Xa': Is a directory\n",
      "rm: cannot remove './Kapitel_XI': Is a directory\n"
     ]
    },
    {
     "ename": "",
     "evalue": "1",
     "output_type": "error",
     "traceback": []
    }
   ],
   "source": [
    "rm -f ./*\n",
    "\n",
    "#löscht alle Dateien aber keine Verzeichnisse und die Dateien in ihnen"
   ]
  },
  {
   "cell_type": "markdown",
   "id": "07fe1e5b-805e-40ad-b28a-2d26553ba710",
   "metadata": {},
   "source": [
    "## 1 f) [2,5%]\n",
    "Packen Sie den Inhalt des gesamten Ordners in komprimiertes tar-Archiv."
   ]
  },
  {
   "cell_type": "code",
   "execution_count": 9,
   "id": "83b3476e",
   "metadata": {
    "vscode": {
     "languageId": "shellscript"
    }
   },
   "outputs": [],
   "source": [
    "cd .. && tar -czf deutscheGrundgesetz.tar.gz DeutscheGrundgesetz"
   ]
  },
  {
   "cell_type": "markdown",
   "id": "76f7f642-b851-473a-a90d-5046ede450a2",
   "metadata": {},
   "source": [
    "_________"
   ]
  },
  {
   "attachments": {},
   "cell_type": "markdown",
   "id": "ef3bbe6b-21bd-47a8-9d74-1c13e3453c8d",
   "metadata": {
    "vscode": {
     "languageId": "shellscript"
    }
   },
   "source": [
    "## 2 a) [20%]\n",
    "Schreiben Sie ein Shell-Skript, dass alle x Sekunden ausgibt ob ein durch eine PID identifizierter Prozess läuft oder nicht.\n",
    "Übergeben Sie die Anzahl an Sekunden und die PID als Parameter an das Skript, sodass es wie folgt aufgerufen werden kann:\n",
    "\n",
    "```bash\n",
    "$ script [PID] [SECONDS]\n",
    "```\n",
    "Ihnen sind keine Einschränkungen gegeben, welche Befehle Sie dafür verwenden.\n",
    "\n",
    "**Nützliche Befehle:** `grep`,`ps`"
   ]
  },
  {
   "cell_type": "markdown",
   "metadata": {},
   "source": [
    "### <span style=\"color:green\">Erklärungen</span>\n",
    "\n",
    "PID = Ein Process identifier (process ID, PID; deutsch Prozesskennung) ist in der Informatik ein einzigartiger Schlüssel, welcher der eindeutigen Identifikation von Prozessen dient. Der PID ändert sich während der Laufzeit des Prozesses nicht."
   ]
  },
  {
   "cell_type": "code",
   "execution_count": null,
   "metadata": {
    "vscode": {
     "languageId": "shellscript"
    }
   },
   "outputs": [],
   "source": [
    "#Shell-SKript erstellen und ausführ-Rechte erteilen\n",
    "\n",
    "touch pid_check.sh && chmod +x pid_check.sh"
   ]
  },
  {
   "cell_type": "code",
   "execution_count": null,
   "metadata": {
    "vscode": {
     "languageId": "shellscript"
    }
   },
   "outputs": [],
   "source": [
    "##Inhalt des Skripts \"pid_check.sh\" (zur Erinnerung; nicht ausführen!)\n",
    "\n",
    "#!/bin/bash\n",
    "\n",
    "# Die ersten beiden Argumente in Variablen speichern\n",
    "pid=\"$1\"\n",
    "seconds=\"$2\"\n",
    "\n",
    "#counter zum zählen der insg vergangenen Sekunden\n",
    "counter=0\n",
    "\n",
    "#Schleife die die Überprüfung alle x sekunden ausführt\n",
    "while true; do \n",
    "    if ps -p $pid > /dev/null; then\n",
    "        echo \"Der Prozess, identifiziert durch die PID $pid, läuft.\"\n",
    "    else \n",
    "        echo \"Der Prozess, identifiziert durch die PID $pid, läuft nicht.\"\n",
    "    fi\n",
    "    sleep $seconds\n",
    "\n",
    "    #Endlosschleifen abbruch nach ca 20 sekunden\n",
    "    ((counter+=$seconds))\n",
    "    if ((counter >= 20)); then\n",
    "        echo \"Die Überprüfung wurde nach $counter Sekunden beendet.\"\n",
    "        break\n",
    "    fi\n",
    "\n",
    "done"
   ]
  },
  {
   "cell_type": "code",
   "execution_count": 10,
   "metadata": {
    "vscode": {
     "languageId": "shellscript"
    }
   },
   "outputs": [
    {
     "name": "stdout",
     "output_type": "stream",
     "text": [
      "Der Prozess, identifiziert durch die PID 1234, läuft nicht.\n",
      "Der Prozess, identifiziert durch die PID 1234, läuft nicht.\n",
      "Der Prozess, identifiziert durch die PID 1234, läuft nicht.\n",
      "Der Prozess, identifiziert durch die PID 1234, läuft nicht.\n",
      "Die Überprüfung wurde nach 20 Sekunden beendet.\n"
     ]
    }
   ],
   "source": [
    "#Shell-Skript ausführen\n",
    "\n",
    "./pid_check.sh 1234 5"
   ]
  },
  {
   "attachments": {},
   "cell_type": "markdown",
   "id": "623c7c5d-0f24-4e65-acf9-499164214986",
   "metadata": {
    "tags": []
   },
   "source": [
    "## 2 b) [20%]\n",
    "Schreiben Sie ein Shell-Skript, das die Verzeichnisstruktur eines als Parameter angegebenen Verzeichnisses auflisten kann. Schreiben Sie dazu eine rekursive Funktion, die in Unterverzeichnisse herabsteigt. \n",
    "Geben Sie das Verzeichnis und die Dateien auf dem Bildschirm aus. \n",
    "Nutzen Sie Einrückungen um die Zugehörigkeit von Dateien und Verzeichnissen zueinander zu kennzeichnen. \n",
    "Dies kann dann zum Beispiel so aussehen:\n",
    "\n",
    "```\n",
    "File: linux-3.14/COPYING\n",
    "File: linux-3.14/CREDITS\n",
    "Directory: linux-3.14/Documentation\n",
    "    File: linux-3.14/Documentation/00-INDEX \n",
    "    Directory: linux-3.14/Documentation/ABI\n",
    "        File: linux-3.14/Documentation/ABI/README \n",
    "        Directory: linux-3.14/Documentation/ABI/obsolete        \n",
    "            File: linux-3.14/Documentation/ABI/obsolete/proc-sys-vm-nr_pdflush_threads \n",
    "            File: linux-3.14/Documentation/ABI/obsolete/sysfs-bus-usb\n",
    "            File: linux-3.14/Documentation/ABI/obsolete/sysfs-class-rfkill\n",
    "            File: linux-3.14/Documentation/ABI/obsolete/sysfs-driver-hid-roccat-koneplus \n",
    "            File: linux-3.14/Documentation/ABI/obsolete/sysfs-driver-hid-roccat-kovaplus \n",
    "            File: linux-3.14/Documentation/ABI/obsolete/sysfs-driver-hid-roccat-pyra\n",
    "        Directory: linux-3.14/Documentation/ABI/removed \n",
    "            File: linux-3.14/Documentation/ABI/removed/devfs \n",
    "            File: linux-3.14/Documentation/ABI/removed/dv1394\n",
    "...\n",
    "\n",
    "```\n",
    "\n",
    "**Hinweis:** es ist möglich, in der bash Funktionen zu definieren. Die Syntax finden Sie z.B. hier: http://tldp.org/LDP/abs/html/functions.html\n",
    "\n",
    "**Nützliche Befehle:** `find`,`printf`"
   ]
  },
  {
   "cell_type": "code",
   "execution_count": null,
   "metadata": {
    "vscode": {
     "languageId": "shellscript"
    }
   },
   "outputs": [],
   "source": [
    "#Shell-SKript erstellen und ausführ-Rechte erteilen\n",
    "\n",
    "touch verzeichnisstruktur.sh && chmod +x verzeichnisstruktur.sh"
   ]
  },
  {
   "cell_type": "code",
   "execution_count": null,
   "metadata": {
    "vscode": {
     "languageId": "shellscript"
    }
   },
   "outputs": [],
   "source": [
    "##Inhalt des Skripts \"verzeichnisstruktur.sh\" (zur Erinnerung; nicht ausführen!)\n",
    "\n",
    "#!/bin/bash\n",
    "\n",
    "#Funktion zum Verzeichnis-ausgeben\n",
    "dir_content() {\n",
    "   \n",
    "    #lokale Variablen zur klaren Trennung innerhal und außerhalb der Funktion\n",
    "    local dir=\"$1\"      #Directory\n",
    "    local tab=\"$2\"      #Einrückungs-platzhalter\n",
    "\n",
    "    #aktuelles Verzeichnis wird ausgegeben\n",
    "    echo \"${tab}Directory: $dir\"\n",
    "    local tab=\"$2    \"  #Einrückung muss für nächste Stufe erweitert werden\n",
    "\n",
    "    #alle Elemente im Verzeichnis werden durchlaufen\n",
    "    for item in \"$dir\"/*; do\n",
    "        if [ -d \"$item\" ]; then                 #-d prüft ob das Element ein Verzeichnis ist\n",
    "            dir_content \"$item\" \"$tab    \"      #rekursiver Aufruf um die Elemente im gefundenen Verzeichnis aufzulisten\n",
    "        else\n",
    "            echo \"${tab}File: ${item}\"          #Schöner:? aktuelle Datei wird ausgegeben; \"##*/\" bestimmt, dass Dateinamen ohne Directory ausgegeben wird (also ohne alles bis zum letzten /)\n",
    "        fi\n",
    "    done\n",
    "\n",
    "}\n",
    "\n",
    "#Funktion zum Verzeichnis-ausgeben wird mit Verzeichnis als Parameter aufgerufen\n",
    "dir_content \"$1\" \"\""
   ]
  },
  {
   "cell_type": "code",
   "execution_count": 10,
   "metadata": {
    "vscode": {
     "languageId": "shellscript"
    }
   },
   "outputs": [
    {
     "name": "stdout",
     "output_type": "stream",
     "text": [
      "Directory: DeutscheGrundgesetz\n",
      "    File: deutscheGrundgesetz.tar.gz\n",
      "        Directory: DeutscheGrundgesetz/Kapitel_I\n",
      "            File: Artikel 10.txt\n",
      "            File: Artikel 11.txt\n",
      "            File: Artikel 12 a.txt\n",
      "            File: Artikel 12.txt\n",
      "            File: Artikel 13.txt\n",
      "            File: Artikel 14.txt\n",
      "            File: Artikel 15.txt\n",
      "            File: Artikel 16 a.txt\n",
      "            File: Artikel 16.txt\n",
      "            File: Artikel 17 a.txt\n",
      "            File: Artikel 17.txt\n",
      "            File: Artikel 18.txt\n",
      "            File: Artikel 19.txt\n",
      "            File: Artikel 1.txt\n",
      "            File: Artikel 2.txt\n",
      "            File: Artikel 3.txt\n",
      "            File: Artikel 4.txt\n",
      "            File: Artikel 5.txt\n",
      "            File: Artikel 6.txt\n",
      "            File: Artikel 7.txt\n",
      "            File: Artikel 8.txt\n",
      "            File: Artikel 9.txt\n",
      "        Directory: DeutscheGrundgesetz/Kapitel_II\n",
      "            File: Artikel 20 a.txt\n",
      "            File: Artikel 20.txt\n",
      "            File: Artikel 21.txt\n",
      "            File: Artikel 22.txt\n",
      "            File: Artikel 23.txt\n",
      "            File: Artikel 24.txt\n",
      "            File: Artikel 25.txt\n",
      "            File: Artikel 26.txt\n",
      "            File: Artikel 27.txt\n",
      "            File: Artikel 28.txt\n",
      "            File: Artikel 29.txt\n",
      "            File: Artikel 30.txt\n",
      "            File: Artikel 31.txt\n",
      "            File: Artikel 32.txt\n",
      "            File: Artikel 33.txt\n",
      "            File: Artikel 34.txt\n",
      "            File: Artikel 35.txt\n",
      "            File: Artikel 36.txt\n",
      "            File: Artikel 37.txt\n",
      "        Directory: DeutscheGrundgesetz/Kapitel_III\n",
      "            File: Artikel 38.txt\n",
      "            File: Artikel 39.txt\n",
      "            File: Artikel 40.txt\n",
      "            File: Artikel 41.txt\n",
      "            File: Artikel 42.txt\n",
      "            File: Artikel 43.txt\n",
      "            File: Artikel 44.txt\n",
      "            File: Artikel 45 a.txt\n",
      "            File: Artikel 45 b.txt\n",
      "            File: Artikel 45 c.txt\n",
      "            File: Artikel 45.txt\n",
      "            File: Artikel 46.txt\n",
      "            File: Artikel 47.txt\n",
      "            File: Artikel 48.txt\n",
      "            File: Artikel 49.txt\n",
      "        Directory: DeutscheGrundgesetz/Kapitel_IV\n",
      "            File: Artikel 50.txt\n",
      "            File: Artikel 51.txt\n",
      "            File: Artikel 52.txt\n",
      "            File: Artikel 53.txt\n",
      "        Directory: DeutscheGrundgesetz/Kapitel_IVa\n",
      "            File: Artikel 53 a.txt\n",
      "        Directory: DeutscheGrundgesetz/Kapitel_IX\n",
      "            File: Artikel 100.txt\n",
      "            File: Artikel 101.txt\n",
      "            File: Artikel 102.txt\n",
      "            File: Artikel 103.txt\n",
      "            File: Artikel 104.txt\n",
      "            File: Artikel 92.txt\n",
      "            File: Artikel 93.txt\n",
      "            File: Artikel 94.txt\n",
      "            File: Artikel 95.txt\n",
      "            File: Artikel 96.txt\n",
      "            File: Artikel 97.txt\n",
      "            File: Artikel 98.txt\n",
      "            File: Artikel 99.txt\n",
      "        Directory: DeutscheGrundgesetz/Kapitel_V\n",
      "            File: Artikel 54.txt\n",
      "            File: Artikel 55.txt\n",
      "            File: Artikel 56.txt\n",
      "            File: Artikel 57.txt\n",
      "            File: Artikel 58.txt\n",
      "            File: Artikel 59.txt\n",
      "            File: Artikel 60.txt\n",
      "            File: Artikel 61.txt\n",
      "        Directory: DeutscheGrundgesetz/Kapitel_VI\n",
      "            File: Artikel 62.txt\n",
      "            File: Artikel 63.txt\n",
      "            File: Artikel 64.txt\n",
      "            File: Artikel 65 a.txt\n",
      "            File: Artikel 65.txt\n",
      "            File: Artikel 66.txt\n",
      "            File: Artikel 67.txt\n",
      "            File: Artikel 68.txt\n",
      "            File: Artikel 69.txt\n",
      "        Directory: DeutscheGrundgesetz/Kapitel_VII\n",
      "            File: Artikel 70.txt\n",
      "            File: Artikel 71.txt\n",
      "            File: Artikel 72.txt\n",
      "            File: Artikel 73.txt\n",
      "            File: Artikel 74.txt\n",
      "            File: Artikel 75.txt\n",
      "            File: Artikel 76.txt\n",
      "            File: Artikel 77.txt\n",
      "            File: Artikel 78.txt\n",
      "            File: Artikel 79.txt\n",
      "            File: Artikel 80 a.txt\n",
      "            File: Artikel 80.txt\n",
      "            File: Artikel 81.txt\n",
      "            File: Artikel 82.txt\n",
      "            File: Artikel 83.txt\n",
      "            File: Artikel 84.txt\n",
      "            File: Artikel 85.txt\n",
      "            File: Artikel 86.txt\n",
      "            File: Artikel 87 a.txt\n",
      "            File: Artikel 87 b.txt\n",
      "            File: Artikel 87 c.txt\n",
      "            File: Artikel 87 d.txt\n",
      "            File: Artikel 87 e.txt\n",
      "            File: Artikel 87 f.txt\n",
      "            File: Artikel 87.txt\n",
      "            File: Artikel 88.txt\n",
      "            File: Artikel 89.txt\n",
      "            File: Artikel 90.txt\n",
      "            File: Artikel 91 a.txt\n",
      "            File: Artikel 91 b.txt\n",
      "            File: Artikel 91.txt\n",
      "        Directory: DeutscheGrundgesetz/Kapitel_X\n",
      "            File: Artikel 104 a.txt\n",
      "            File: Artikel 105.txt\n",
      "            File: Artikel 106 a.txt\n",
      "            File: Artikel 106.txt\n",
      "            File: Artikel 107.txt\n",
      "            File: Artikel 108.txt\n",
      "            File: Artikel 109.txt\n",
      "            File: Artikel 110.txt\n",
      "            File: Artikel 111.txt\n",
      "            File: Artikel 112.txt\n",
      "            File: Artikel 113.txt\n",
      "            File: Artikel 114.txt\n",
      "            File: Artikel 115.txt\n",
      "        Directory: DeutscheGrundgesetz/Kapitel_Xa\n",
      "            File: Artikel 115 a.txt\n",
      "            File: Artikel 115 b.txt\n",
      "            File: Artikel 115 c.txt\n",
      "            File: Artikel 115 d.txt\n",
      "            File: Artikel 115 e.txt\n",
      "            File: Artikel 115 f.txt\n",
      "            File: Artikel 115 g.txt\n",
      "            File: Artikel 115 h.txt\n",
      "            File: Artikel 115 i.txt\n",
      "            File: Artikel 115 k.txt\n",
      "            File: Artikel 115 l.txt\n",
      "        Directory: DeutscheGrundgesetz/Kapitel_XI\n",
      "            File: Artikel 116.txt\n",
      "            File: Artikel 117.txt\n",
      "            File: Artikel 118 a.txt\n",
      "            File: Artikel 118.txt\n",
      "            File: Artikel 119.txt\n",
      "            File: Artikel 120 a.txt\n",
      "            File: Artikel 120.txt\n",
      "            File: Artikel 121.txt\n",
      "            File: Artikel 122.txt\n",
      "            File: Artikel 123.txt\n",
      "            File: Artikel 124.txt\n",
      "            File: Artikel 125 a.txt\n",
      "            File: Artikel 125.txt\n",
      "            File: Artikel 126.txt\n",
      "            File: Artikel 127.txt\n",
      "            File: Artikel 128.txt\n",
      "            File: Artikel 129.txt\n",
      "            File: Artikel 130.txt\n",
      "            File: Artikel 131.txt\n",
      "            File: Artikel 132.txt\n",
      "            File: Artikel 133.txt\n",
      "            File: Artikel 134.txt\n",
      "            File: Artikel 135 a.txt\n",
      "            File: Artikel 135.txt\n",
      "            File: Artikel 136.txt\n",
      "            File: Artikel 137.txt\n",
      "            File: Artikel 138.txt\n",
      "            File: Artikel 139.txt\n",
      "            File: Artikel 140.txt\n",
      "            File: Artikel 141.txt\n",
      "            File: Artikel 142.txt\n",
      "            File: Artikel 143 a.txt\n",
      "            File: Artikel 143 b.txt\n",
      "            File: Artikel 143.txt\n",
      "            File: Artikel 144.txt\n",
      "            File: Artikel 145.txt\n",
      "            File: Artikel 146.txt\n",
      "            File: Artikel 7 Absatz 3 Satz 1 findet keine Anwendung in einem Lande, in dem am 1. Januar 1949 eine andere landesrechtliche Regelung bestand..txt\n"
     ]
    }
   ],
   "source": [
    "#Shell-Skript ausführen\n",
    "\n",
    "./verzeichnisstruktur.sh DeutscheGrundgesetz"
   ]
  }
 ],
 "metadata": {
  "kernelspec": {
   "display_name": "Bash",
   "language": "bash",
   "name": "bash"
  },
  "language_info": {
   "codemirror_mode": "shell",
   "file_extension": ".sh",
   "mimetype": "text/x-sh",
   "name": "bash"
  },
  "vscode": {
   "interpreter": {
    "hash": "8fa2a39dc98f14384214061e3a8c32603dbb899665817f3de4b9ccce2b523a71"
   }
  }
 },
 "nbformat": 4,
 "nbformat_minor": 5
}
