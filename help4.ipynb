{
 "cells": [
  {
   "cell_type": "code",
   "execution_count": null,
   "metadata": {
    "vscode": {
     "languageId": "shellscript"
    }
   },
   "outputs": [],
   "source": [
    "# Korrektur von Zeilenumbrüchen innerhalb der Felder\n",
    "awk 'BEGIN { FS = OFS = \",\" } { if (substr($0, length($0), 1) != \"\\\"\") { print } else { printf(\"%s\", $0) } }' temp.csv > \"$output_file\"\n"
   ]
  },
  {
   "cell_type": "markdown",
   "metadata": {},
   "source": [
    "This awk command processes the temp.csv file:\n",
    "\n",
    "    BEGIN { FS = OFS = \",\" } sets the input and output field separators to commas.\n",
    "    { if (substr($0, length($0), 1) != \"\\\"\") { print } else { printf(\"%s\", $0) } } checks each line:\n",
    "        If the line does not end with a double quote (\"), it prints the line as is.\n",
    "        If the line ends with a double quote, it uses printf to print the line without a newline character, effectively concatenating lines that are part of the same quoted field.\n",
    "    The processed output is written to the output_file."
   ]
  }
 ],
 "metadata": {
  "language_info": {
   "name": "python"
  }
 },
 "nbformat": 4,
 "nbformat_minor": 2
}
